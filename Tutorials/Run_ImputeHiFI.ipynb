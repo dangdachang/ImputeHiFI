{
 "cells": [
  {
   "cell_type": "markdown",
   "id": "b747e935",
   "metadata": {},
   "source": [
    "# init"
   ]
  },
  {
   "cell_type": "markdown",
   "id": "17f4f1c5",
   "metadata": {},
   "source": [
    "## import package"
   ]
  },
  {
   "cell_type": "code",
   "execution_count": 1,
   "id": "455cbcbc",
   "metadata": {
    "ExecuteTime": {
     "end_time": "2024-04-27T13:25:03.599948Z",
     "start_time": "2024-04-27T13:25:01.778871Z"
    }
   },
   "outputs": [],
   "source": [
    "import os\n",
    "import time\n",
    "from subprocess import  call\n",
    "import numpy as np\n",
    "import pandas as pd\n",
    "import seaborn as sns\n",
    "from scipy import stats\n",
    "import seaborn as sns\n",
    "import matplotlib.pyplot as plt\n",
    "import scipy as sc\n",
    "from matplotlib.colors import ListedColormap\n",
    "import scipy.sparse as sparse\n",
    "import importlib\n",
    "import copy\n",
    "import gc\n",
    "import datetime\n",
    "from scipy.stats import zscore\n",
    "import sys\n",
    "import scipy.stats as st\n",
    "import math\n",
    "from scipy import optimize\n",
    "from tqdm.notebook import tqdm\n",
    "from scipy.spatial.distance import pdist, squareform\n",
    "import scanpy as sc"
   ]
  },
  {
   "cell_type": "markdown",
   "id": "9f095ad4",
   "metadata": {},
   "source": [
    "## import function"
   ]
  },
  {
   "cell_type": "code",
   "execution_count": 2,
   "id": "80ea5ffb",
   "metadata": {
    "ExecuteTime": {
     "end_time": "2024-04-27T13:25:03.717151Z",
     "start_time": "2024-04-27T13:25:03.602194Z"
    }
   },
   "outputs": [
    {
     "data": {
      "text/plain": [
       "<module 'image_project.function_basic' from '/mnt/disk1/scfan/program/image_project/function_basic.py'>"
      ]
     },
     "execution_count": 2,
     "metadata": {},
     "output_type": "execute_result"
    },
    {
     "name": "stdout",
     "output_type": "stream",
     "text": [
      "v5 similar FISH\n"
     ]
    }
   ],
   "source": [
    "src_dir=r\"/Path/to/ImputeHiFI/src\"\n",
    "sys.path.append(src_dir)\n",
    "from function_basic import basic_function as basic\n",
    "\n",
    "import ImputeHiFI_Algorithm as ImputeHiFI\n",
    "import ImputeHiFI_Algorithm_no_HiC as ImputeHiFI_no_HiC"
   ]
  },
  {
   "cell_type": "markdown",
   "id": "ac941f99",
   "metadata": {},
   "source": [
    "## path"
   ]
  },
  {
   "cell_type": "code",
   "execution_count": 4,
   "id": "1971de55",
   "metadata": {
    "ExecuteTime": {
     "end_time": "2024-04-27T13:27:19.727320Z",
     "start_time": "2024-04-27T13:27:19.721953Z"
    }
   },
   "outputs": [],
   "source": [
    "data_dir=r\"/mnt/disk1/scfan/data/Cai_21_Nature\""
   ]
  },
  {
   "cell_type": "markdown",
   "id": "37222ed4",
   "metadata": {},
   "source": [
    "# prepare data"
   ]
  },
  {
   "cell_type": "markdown",
   "id": "483c9b5e",
   "metadata": {},
   "source": [
    "## load data_pkl"
   ]
  },
  {
   "cell_type": "code",
   "execution_count": 45,
   "id": "89763c12",
   "metadata": {
    "ExecuteTime": {
     "end_time": "2024-04-27T13:41:13.322245Z",
     "start_time": "2024-04-27T13:41:13.149028Z"
    },
    "scrolled": true
   },
   "outputs": [],
   "source": [
    "data_pkl_path=os.path.join(data_dir,\"DNA_25kb\",r\"align_name_with_RNA_data.pkl\")\n",
    "data=basic.load_variable_from_pikle_file(data_pkl_path)"
   ]
  },
  {
   "cell_type": "code",
   "execution_count": 46,
   "id": "6d23af94",
   "metadata": {
    "ExecuteTime": {
     "end_time": "2024-04-27T13:41:13.328430Z",
     "start_time": "2024-04-27T13:41:13.324859Z"
    }
   },
   "outputs": [],
   "source": [
    "current_probe_data_dir=r\"/mnt/disk1/scfan/data/Cai_21_Nature/DNA_25kb\""
   ]
  },
  {
   "cell_type": "code",
   "execution_count": 47,
   "id": "738ea876",
   "metadata": {
    "ExecuteTime": {
     "end_time": "2024-04-27T13:41:13.333731Z",
     "start_time": "2024-04-27T13:41:13.329892Z"
    }
   },
   "outputs": [],
   "source": [
    "first_seen_probe_data_dir=r\"/mnt/disk1/scfan/data/Cai_21_Nature/DNA_25kb/Impute/\"\n",
    "basic.recursive_mkdir(first_seen_probe_data_dir)"
   ]
  },
  {
   "cell_type": "code",
   "execution_count": 89,
   "id": "fc3a93d8",
   "metadata": {
    "ExecuteTime": {
     "end_time": "2024-04-27T13:54:22.609718Z",
     "start_time": "2024-04-27T13:54:22.573785Z"
    }
   },
   "outputs": [],
   "source": [
    "RNA_FISH_adata_path=os.path.join(data_dir, 'RNA', 'RNA_adata.h5ad')\n",
    "RNA_FISH_adata=sc.read(RNA_FISH_adata_path)"
   ]
  },
  {
   "cell_type": "code",
   "execution_count": 49,
   "id": "8468919a",
   "metadata": {
    "ExecuteTime": {
     "end_time": "2024-04-27T13:41:13.358985Z",
     "start_time": "2024-04-27T13:41:13.356023Z"
    }
   },
   "outputs": [],
   "source": [
    "ImputeHiFI_data_dir=os.path.join(first_seen_probe_data_dir,'ImputeHiFI')\n",
    "basic.recursive_mkdir(ImputeHiFI_data_dir)"
   ]
  },
  {
   "cell_type": "markdown",
   "id": "4f656277",
   "metadata": {},
   "source": [
    "## generate max_not_missing_data"
   ]
  },
  {
   "cell_type": "code",
   "execution_count": 10,
   "id": "4902bd27",
   "metadata": {
    "ExecuteTime": {
     "end_time": "2024-04-27T13:27:34.123667Z",
     "start_time": "2024-04-27T13:27:34.116377Z"
    }
   },
   "outputs": [
    {
     "data": {
      "text/plain": [
       "dict_keys(['chrom_ids', 'region_names', 'start_position', 'end_position', 'mid_position', 'mid_position_Mb', 'dna_zxys', 'chrom_name', 'gene_ID', 'cluster_label', 'cluster_label_name'])"
      ]
     },
     "execution_count": 10,
     "metadata": {},
     "output_type": "execute_result"
    }
   ],
   "source": [
    "data.keys()"
   ]
  },
  {
   "cell_type": "code",
   "execution_count": 50,
   "id": "a4831a62",
   "metadata": {
    "ExecuteTime": {
     "end_time": "2024-04-27T13:41:16.565575Z",
     "start_time": "2024-04-27T13:41:16.551906Z"
    }
   },
   "outputs": [],
   "source": [
    "chrom_ids_to_index_dict = {}\n",
    "cell_name_list=[]\n",
    "for index, chrom_ids in enumerate(data['chrom_ids']):\n",
    "    chrom_ids_to_index_dict[str(chrom_ids)] = index\n",
    "    cell_name_list.append(str(chrom_ids))\n",
    "cell_name_array=np.array(cell_name_list)\n",
    "chrom_index_to_ids_dict = {index: chrom_id for chrom_id, index in chrom_ids_to_index_dict.items()}\n",
    "chr_name_list = data['chrom_name'][0:20]    "
   ]
  },
  {
   "cell_type": "code",
   "execution_count": 12,
   "id": "3b46ee7e",
   "metadata": {
    "ExecuteTime": {
     "end_time": "2024-04-27T13:27:50.025374Z",
     "start_time": "2024-04-27T13:27:49.994066Z"
    }
   },
   "outputs": [
    {
     "data": {
      "text/plain": [
       "[['chr1-HighRes-#1',\n",
       "  'chr1-HighRes-#2',\n",
       "  'chr1-HighRes-#3',\n",
       "  'chr1-HighRes-#4',\n",
       "  'chr1-HighRes-#5',\n",
       "  'chr1-HighRes-#6',\n",
       "  'chr1-HighRes-#7',\n",
       "  'chr1-HighRes-#8',\n",
       "  'chr1-HighRes-#9',\n",
       "  'chr1-HighRes-#10',\n",
       "  'chr1-HighRes-#11',\n",
       "  'chr1-HighRes-#12',\n",
       "  'chr1-HighRes-#13',\n",
       "  'chr1-HighRes-#14',\n",
       "  'chr1-HighRes-#15',\n",
       "  'chr1-HighRes-#16',\n",
       "  'chr1-HighRes-#17',\n",
       "  'chr1-HighRes-#18',\n",
       "  'chr1-HighRes-#19',\n",
       "  'chr1-HighRes-#20',\n",
       "  'chr1-HighRes-#21',\n",
       "  'chr1-HighRes-#22',\n",
       "  'chr1-HighRes-#23',\n",
       "  'chr1-HighRes-#24',\n",
       "  'chr1-HighRes-#25',\n",
       "  'chr1-HighRes-#26',\n",
       "  'chr1-HighRes-#27',\n",
       "  'chr1-HighRes-#28',\n",
       "  'chr1-HighRes-#29',\n",
       "  'chr1-HighRes-#30',\n",
       "  'chr1-HighRes-#31',\n",
       "  'chr1-HighRes-#32',\n",
       "  'chr1-HighRes-#33',\n",
       "  'chr1-HighRes-#34',\n",
       "  'chr1-HighRes-#35',\n",
       "  'chr1-HighRes-#36',\n",
       "  'chr1-HighRes-#37',\n",
       "  'chr1-HighRes-#38',\n",
       "  'chr1-HighRes-#39',\n",
       "  'chr1-HighRes-#40',\n",
       "  'chr1-HighRes-#41',\n",
       "  'chr1-HighRes-#42',\n",
       "  'chr1-HighRes-#43',\n",
       "  'chr1-HighRes-#44',\n",
       "  'chr1-HighRes-#45',\n",
       "  'chr1-HighRes-#46',\n",
       "  'chr1-HighRes-#47',\n",
       "  'chr1-HighRes-#48',\n",
       "  'chr1-HighRes-#49',\n",
       "  'chr1-HighRes-#50',\n",
       "  'chr1-HighRes-#51',\n",
       "  'chr1-HighRes-#52',\n",
       "  'chr1-HighRes-#53',\n",
       "  'chr1-HighRes-#54',\n",
       "  'chr1-HighRes-#55',\n",
       "  'chr1-HighRes-#56',\n",
       "  'chr1-HighRes-#57',\n",
       "  'chr1-HighRes-#58',\n",
       "  'chr1-HighRes-#59',\n",
       "  'chr1-HighRes-#60'],\n",
       " ['chr2-HighRes-#1',\n",
       "  'chr2-HighRes-#2',\n",
       "  'chr2-HighRes-#3',\n",
       "  'chr2-HighRes-#4',\n",
       "  'chr2-HighRes-#5',\n",
       "  'chr2-HighRes-#6',\n",
       "  'chr2-HighRes-#7',\n",
       "  'chr2-HighRes-#8',\n",
       "  'chr2-HighRes-#9',\n",
       "  'chr2-HighRes-#10',\n",
       "  'chr2-HighRes-#11',\n",
       "  'chr2-HighRes-#12',\n",
       "  'chr2-HighRes-#13',\n",
       "  'chr2-HighRes-#14',\n",
       "  'chr2-HighRes-#15',\n",
       "  'chr2-HighRes-#16',\n",
       "  'chr2-HighRes-#17',\n",
       "  'chr2-HighRes-#18',\n",
       "  'chr2-HighRes-#19',\n",
       "  'chr2-HighRes-#20',\n",
       "  'chr2-HighRes-#21',\n",
       "  'chr2-HighRes-#22',\n",
       "  'chr2-HighRes-#23',\n",
       "  'chr2-HighRes-#24',\n",
       "  'chr2-HighRes-#25',\n",
       "  'chr2-HighRes-#26',\n",
       "  'chr2-HighRes-#27',\n",
       "  'chr2-HighRes-#28',\n",
       "  'chr2-HighRes-#29',\n",
       "  'chr2-HighRes-#30',\n",
       "  'chr2-HighRes-#31',\n",
       "  'chr2-HighRes-#32',\n",
       "  'chr2-HighRes-#33',\n",
       "  'chr2-HighRes-#34',\n",
       "  'chr2-HighRes-#35',\n",
       "  'chr2-HighRes-#36',\n",
       "  'chr2-HighRes-#37',\n",
       "  'chr2-HighRes-#38',\n",
       "  'chr2-HighRes-#39',\n",
       "  'chr2-HighRes-#40',\n",
       "  'chr2-HighRes-#41',\n",
       "  'chr2-HighRes-#42',\n",
       "  'chr2-HighRes-#43',\n",
       "  'chr2-HighRes-#44',\n",
       "  'chr2-HighRes-#45',\n",
       "  'chr2-HighRes-#46',\n",
       "  'chr2-HighRes-#47',\n",
       "  'chr2-HighRes-#48',\n",
       "  'chr2-HighRes-#49',\n",
       "  'chr2-HighRes-#50',\n",
       "  'chr2-HighRes-#51',\n",
       "  'chr2-HighRes-#52',\n",
       "  'chr2-HighRes-#53',\n",
       "  'chr2-HighRes-#54',\n",
       "  'chr2-HighRes-#55',\n",
       "  'chr2-HighRes-#56',\n",
       "  'chr2-HighRes-#57',\n",
       "  'chr2-HighRes-#58',\n",
       "  'chr2-HighRes-#59',\n",
       "  'chr2-HighRes-#60'],\n",
       " ['chr3-HighRes-#1',\n",
       "  'chr3-HighRes-#2',\n",
       "  'chr3-HighRes-#3',\n",
       "  'chr3-HighRes-#4',\n",
       "  'chr3-HighRes-#5',\n",
       "  'chr3-HighRes-#6',\n",
       "  'chr3-HighRes-#7',\n",
       "  'chr3-HighRes-#8',\n",
       "  'chr3-HighRes-#9',\n",
       "  'chr3-HighRes-#10',\n",
       "  'chr3-HighRes-#11',\n",
       "  'chr3-HighRes-#12',\n",
       "  'chr3-HighRes-#13',\n",
       "  'chr3-HighRes-#14',\n",
       "  'chr3-HighRes-#15',\n",
       "  'chr3-HighRes-#16',\n",
       "  'chr3-HighRes-#17',\n",
       "  'chr3-HighRes-#18',\n",
       "  'chr3-HighRes-#19',\n",
       "  'chr3-HighRes-#20',\n",
       "  'chr3-HighRes-#21',\n",
       "  'chr3-HighRes-#22',\n",
       "  'chr3-HighRes-#23',\n",
       "  'chr3-HighRes-#24',\n",
       "  'chr3-HighRes-#25',\n",
       "  'chr3-HighRes-#26',\n",
       "  'chr3-HighRes-#27',\n",
       "  'chr3-HighRes-#28',\n",
       "  'chr3-HighRes-#29',\n",
       "  'chr3-HighRes-#30',\n",
       "  'chr3-HighRes-#31',\n",
       "  'chr3-HighRes-#32',\n",
       "  'chr3-HighRes-#33',\n",
       "  'chr3-HighRes-#34',\n",
       "  'chr3-HighRes-#35',\n",
       "  'chr3-HighRes-#36',\n",
       "  'chr3-HighRes-#37',\n",
       "  'chr3-HighRes-#38',\n",
       "  'chr3-HighRes-#39',\n",
       "  'chr3-HighRes-#40',\n",
       "  'chr3-HighRes-#41',\n",
       "  'chr3-HighRes-#42',\n",
       "  'chr3-HighRes-#43',\n",
       "  'chr3-HighRes-#44',\n",
       "  'chr3-HighRes-#45',\n",
       "  'chr3-HighRes-#46',\n",
       "  'chr3-HighRes-#47',\n",
       "  'chr3-HighRes-#48',\n",
       "  'chr3-HighRes-#49',\n",
       "  'chr3-HighRes-#50',\n",
       "  'chr3-HighRes-#51',\n",
       "  'chr3-HighRes-#52',\n",
       "  'chr3-HighRes-#53',\n",
       "  'chr3-HighRes-#54',\n",
       "  'chr3-HighRes-#55',\n",
       "  'chr3-HighRes-#56',\n",
       "  'chr3-HighRes-#57',\n",
       "  'chr3-HighRes-#58',\n",
       "  'chr3-HighRes-#59',\n",
       "  'chr3-HighRes-#60'],\n",
       " ['chr4-HighRes-#1',\n",
       "  'chr4-HighRes-#2',\n",
       "  'chr4-HighRes-#3',\n",
       "  'chr4-HighRes-#4',\n",
       "  'chr4-HighRes-#5',\n",
       "  'chr4-HighRes-#6',\n",
       "  'chr4-HighRes-#7',\n",
       "  'chr4-HighRes-#8',\n",
       "  'chr4-HighRes-#9',\n",
       "  'chr4-HighRes-#10',\n",
       "  'chr4-HighRes-#11',\n",
       "  'chr4-HighRes-#12',\n",
       "  'chr4-HighRes-#13',\n",
       "  'chr4-HighRes-#14',\n",
       "  'chr4-HighRes-#15',\n",
       "  'chr4-HighRes-#16',\n",
       "  'chr4-HighRes-#17',\n",
       "  'chr4-HighRes-#18',\n",
       "  'chr4-HighRes-#19',\n",
       "  'chr4-HighRes-#20',\n",
       "  'chr4-HighRes-#21',\n",
       "  'chr4-HighRes-#22',\n",
       "  'chr4-HighRes-#23',\n",
       "  'chr4-HighRes-#24',\n",
       "  'chr4-HighRes-#25',\n",
       "  'chr4-HighRes-#26',\n",
       "  'chr4-HighRes-#27',\n",
       "  'chr4-HighRes-#28',\n",
       "  'chr4-HighRes-#29',\n",
       "  'chr4-HighRes-#30',\n",
       "  'chr4-HighRes-#31',\n",
       "  'chr4-HighRes-#32',\n",
       "  'chr4-HighRes-#33',\n",
       "  'chr4-HighRes-#34',\n",
       "  'chr4-HighRes-#35',\n",
       "  'chr4-HighRes-#36',\n",
       "  'chr4-HighRes-#37',\n",
       "  'chr4-HighRes-#38',\n",
       "  'chr4-HighRes-#39',\n",
       "  'chr4-HighRes-#40',\n",
       "  'chr4-HighRes-#41',\n",
       "  'chr4-HighRes-#42',\n",
       "  'chr4-HighRes-#43',\n",
       "  'chr4-HighRes-#44',\n",
       "  'chr4-HighRes-#45',\n",
       "  'chr4-HighRes-#46',\n",
       "  'chr4-HighRes-#47',\n",
       "  'chr4-HighRes-#48',\n",
       "  'chr4-HighRes-#49',\n",
       "  'chr4-HighRes-#50',\n",
       "  'chr4-HighRes-#51',\n",
       "  'chr4-HighRes-#52',\n",
       "  'chr4-HighRes-#53',\n",
       "  'chr4-HighRes-#54',\n",
       "  'chr4-HighRes-#55',\n",
       "  'chr4-HighRes-#56',\n",
       "  'chr4-HighRes-#57',\n",
       "  'chr4-HighRes-#58',\n",
       "  'chr4-HighRes-#59',\n",
       "  'chr4-HighRes-#60'],\n",
       " ['chr5-HighRes-#1',\n",
       "  'chr5-HighRes-#2',\n",
       "  'chr5-HighRes-#3',\n",
       "  'chr5-HighRes-#4',\n",
       "  'chr5-HighRes-#5',\n",
       "  'chr5-HighRes-#6',\n",
       "  'chr5-HighRes-#7',\n",
       "  'chr5-HighRes-#8',\n",
       "  'chr5-HighRes-#9',\n",
       "  'chr5-HighRes-#10',\n",
       "  'chr5-HighRes-#11',\n",
       "  'chr5-HighRes-#12',\n",
       "  'chr5-HighRes-#13',\n",
       "  'chr5-HighRes-#14',\n",
       "  'chr5-HighRes-#15',\n",
       "  'chr5-HighRes-#16',\n",
       "  'chr5-HighRes-#17',\n",
       "  'chr5-HighRes-#18',\n",
       "  'chr5-HighRes-#19',\n",
       "  'chr5-HighRes-#20',\n",
       "  'chr5-HighRes-#21',\n",
       "  'chr5-HighRes-#22',\n",
       "  'chr5-HighRes-#23',\n",
       "  'chr5-HighRes-#24',\n",
       "  'chr5-HighRes-#25',\n",
       "  'chr5-HighRes-#26',\n",
       "  'chr5-HighRes-#27',\n",
       "  'chr5-HighRes-#28',\n",
       "  'chr5-HighRes-#29',\n",
       "  'chr5-HighRes-#30',\n",
       "  'chr5-HighRes-#31',\n",
       "  'chr5-HighRes-#32',\n",
       "  'chr5-HighRes-#33',\n",
       "  'chr5-HighRes-#34',\n",
       "  'chr5-HighRes-#35',\n",
       "  'chr5-HighRes-#36',\n",
       "  'chr5-HighRes-#37',\n",
       "  'chr5-HighRes-#38',\n",
       "  'chr5-HighRes-#39',\n",
       "  'chr5-HighRes-#40',\n",
       "  'chr5-HighRes-#41',\n",
       "  'chr5-HighRes-#42',\n",
       "  'chr5-HighRes-#43',\n",
       "  'chr5-HighRes-#44',\n",
       "  'chr5-HighRes-#45',\n",
       "  'chr5-HighRes-#46',\n",
       "  'chr5-HighRes-#47',\n",
       "  'chr5-HighRes-#48',\n",
       "  'chr5-HighRes-#49',\n",
       "  'chr5-HighRes-#50',\n",
       "  'chr5-HighRes-#51',\n",
       "  'chr5-HighRes-#52',\n",
       "  'chr5-HighRes-#53',\n",
       "  'chr5-HighRes-#54',\n",
       "  'chr5-HighRes-#55',\n",
       "  'chr5-HighRes-#56',\n",
       "  'chr5-HighRes-#57',\n",
       "  'chr5-HighRes-#58',\n",
       "  'chr5-HighRes-#59',\n",
       "  'chr5-HighRes-#60'],\n",
       " ['chr6-HighRes-#1',\n",
       "  'chr6-HighRes-#2',\n",
       "  'chr6-HighRes-#3',\n",
       "  'chr6-HighRes-#4',\n",
       "  'chr6-HighRes-#5',\n",
       "  'chr6-HighRes-#6',\n",
       "  'chr6-HighRes-#7',\n",
       "  'chr6-HighRes-#8',\n",
       "  'chr6-HighRes-#9',\n",
       "  'chr6-HighRes-#10',\n",
       "  'chr6-HighRes-#11',\n",
       "  'chr6-HighRes-#12',\n",
       "  'chr6-HighRes-#13',\n",
       "  'chr6-HighRes-#14',\n",
       "  'chr6-HighRes-#15',\n",
       "  'chr6-HighRes-#16',\n",
       "  'chr6-HighRes-#17',\n",
       "  'chr6-HighRes-#18',\n",
       "  'chr6-HighRes-#19',\n",
       "  'chr6-HighRes-#20',\n",
       "  'chr6-HighRes-#21',\n",
       "  'chr6-HighRes-#22',\n",
       "  'chr6-HighRes-#23',\n",
       "  'chr6-HighRes-#24',\n",
       "  'chr6-HighRes-#25',\n",
       "  'chr6-HighRes-#26',\n",
       "  'chr6-HighRes-#27',\n",
       "  'chr6-HighRes-#28',\n",
       "  'chr6-HighRes-#29',\n",
       "  'chr6-HighRes-#30',\n",
       "  'chr6-HighRes-#31',\n",
       "  'chr6-HighRes-#32',\n",
       "  'chr6-HighRes-#33',\n",
       "  'chr6-HighRes-#34',\n",
       "  'chr6-HighRes-#35',\n",
       "  'chr6-HighRes-#36',\n",
       "  'chr6-HighRes-#37',\n",
       "  'chr6-HighRes-#38',\n",
       "  'chr6-HighRes-#39',\n",
       "  'chr6-HighRes-#40',\n",
       "  'chr6-HighRes-#41',\n",
       "  'chr6-HighRes-#42',\n",
       "  'chr6-HighRes-#43',\n",
       "  'chr6-HighRes-#44',\n",
       "  'chr6-HighRes-#45',\n",
       "  'chr6-HighRes-#46',\n",
       "  'chr6-HighRes-#47',\n",
       "  'chr6-HighRes-#48',\n",
       "  'chr6-HighRes-#49',\n",
       "  'chr6-HighRes-#50',\n",
       "  'chr6-HighRes-#51',\n",
       "  'chr6-HighRes-#52',\n",
       "  'chr6-HighRes-#53',\n",
       "  'chr6-HighRes-#54',\n",
       "  'chr6-HighRes-#55',\n",
       "  'chr6-HighRes-#56',\n",
       "  'chr6-HighRes-#57',\n",
       "  'chr6-HighRes-#58',\n",
       "  'chr6-HighRes-#59',\n",
       "  'chr6-HighRes-#60'],\n",
       " ['chr7-HighRes-#1',\n",
       "  'chr7-HighRes-#2',\n",
       "  'chr7-HighRes-#3',\n",
       "  'chr7-HighRes-#4',\n",
       "  'chr7-HighRes-#5',\n",
       "  'chr7-HighRes-#6',\n",
       "  'chr7-HighRes-#7',\n",
       "  'chr7-HighRes-#8',\n",
       "  'chr7-HighRes-#9',\n",
       "  'chr7-HighRes-#10',\n",
       "  'chr7-HighRes-#11',\n",
       "  'chr7-HighRes-#12',\n",
       "  'chr7-HighRes-#13',\n",
       "  'chr7-HighRes-#14',\n",
       "  'chr7-HighRes-#15',\n",
       "  'chr7-HighRes-#16',\n",
       "  'chr7-HighRes-#17',\n",
       "  'chr7-HighRes-#18',\n",
       "  'chr7-HighRes-#19',\n",
       "  'chr7-HighRes-#20',\n",
       "  'chr7-HighRes-#21',\n",
       "  'chr7-HighRes-#22',\n",
       "  'chr7-HighRes-#23',\n",
       "  'chr7-HighRes-#24',\n",
       "  'chr7-HighRes-#25',\n",
       "  'chr7-HighRes-#26',\n",
       "  'chr7-HighRes-#27',\n",
       "  'chr7-HighRes-#28',\n",
       "  'chr7-HighRes-#29',\n",
       "  'chr7-HighRes-#30',\n",
       "  'chr7-HighRes-#31',\n",
       "  'chr7-HighRes-#32',\n",
       "  'chr7-HighRes-#33',\n",
       "  'chr7-HighRes-#34',\n",
       "  'chr7-HighRes-#35',\n",
       "  'chr7-HighRes-#36',\n",
       "  'chr7-HighRes-#37',\n",
       "  'chr7-HighRes-#38',\n",
       "  'chr7-HighRes-#39',\n",
       "  'chr7-HighRes-#40',\n",
       "  'chr7-HighRes-#41',\n",
       "  'chr7-HighRes-#42',\n",
       "  'chr7-HighRes-#43',\n",
       "  'chr7-HighRes-#44',\n",
       "  'chr7-HighRes-#45',\n",
       "  'chr7-HighRes-#46',\n",
       "  'chr7-HighRes-#47',\n",
       "  'chr7-HighRes-#48',\n",
       "  'chr7-HighRes-#49',\n",
       "  'chr7-HighRes-#50',\n",
       "  'chr7-HighRes-#51',\n",
       "  'chr7-HighRes-#52',\n",
       "  'chr7-HighRes-#53',\n",
       "  'chr7-HighRes-#54',\n",
       "  'chr7-HighRes-#55',\n",
       "  'chr7-HighRes-#56',\n",
       "  'chr7-HighRes-#57',\n",
       "  'chr7-HighRes-#58',\n",
       "  'chr7-HighRes-#59',\n",
       "  'chr7-HighRes-#60'],\n",
       " ['chr8-HighRes-#1',\n",
       "  'chr8-HighRes-#2',\n",
       "  'chr8-HighRes-#3',\n",
       "  'chr8-HighRes-#4',\n",
       "  'chr8-HighRes-#5',\n",
       "  'chr8-HighRes-#6',\n",
       "  'chr8-HighRes-#7',\n",
       "  'chr8-HighRes-#8',\n",
       "  'chr8-HighRes-#9',\n",
       "  'chr8-HighRes-#10',\n",
       "  'chr8-HighRes-#11',\n",
       "  'chr8-HighRes-#12',\n",
       "  'chr8-HighRes-#13',\n",
       "  'chr8-HighRes-#14',\n",
       "  'chr8-HighRes-#15',\n",
       "  'chr8-HighRes-#16',\n",
       "  'chr8-HighRes-#17',\n",
       "  'chr8-HighRes-#18',\n",
       "  'chr8-HighRes-#19',\n",
       "  'chr8-HighRes-#20',\n",
       "  'chr8-HighRes-#21',\n",
       "  'chr8-HighRes-#22',\n",
       "  'chr8-HighRes-#23',\n",
       "  'chr8-HighRes-#24',\n",
       "  'chr8-HighRes-#25',\n",
       "  'chr8-HighRes-#26',\n",
       "  'chr8-HighRes-#27',\n",
       "  'chr8-HighRes-#28',\n",
       "  'chr8-HighRes-#29',\n",
       "  'chr8-HighRes-#30',\n",
       "  'chr8-HighRes-#31',\n",
       "  'chr8-HighRes-#32',\n",
       "  'chr8-HighRes-#33',\n",
       "  'chr8-HighRes-#34',\n",
       "  'chr8-HighRes-#35',\n",
       "  'chr8-HighRes-#36',\n",
       "  'chr8-HighRes-#37',\n",
       "  'chr8-HighRes-#38',\n",
       "  'chr8-HighRes-#39',\n",
       "  'chr8-HighRes-#40',\n",
       "  'chr8-HighRes-#41',\n",
       "  'chr8-HighRes-#42',\n",
       "  'chr8-HighRes-#43',\n",
       "  'chr8-HighRes-#44',\n",
       "  'chr8-HighRes-#45',\n",
       "  'chr8-HighRes-#46',\n",
       "  'chr8-HighRes-#47',\n",
       "  'chr8-HighRes-#48',\n",
       "  'chr8-HighRes-#49',\n",
       "  'chr8-HighRes-#50',\n",
       "  'chr8-HighRes-#51',\n",
       "  'chr8-HighRes-#52',\n",
       "  'chr8-HighRes-#53',\n",
       "  'chr8-HighRes-#54',\n",
       "  'chr8-HighRes-#55',\n",
       "  'chr8-HighRes-#56',\n",
       "  'chr8-HighRes-#57',\n",
       "  'chr8-HighRes-#58',\n",
       "  'chr8-HighRes-#59',\n",
       "  'chr8-HighRes-#60'],\n",
       " ['chr9-HighRes-#1',\n",
       "  'chr9-HighRes-#2',\n",
       "  'chr9-HighRes-#3',\n",
       "  'chr9-HighRes-#4',\n",
       "  'chr9-HighRes-#5',\n",
       "  'chr9-HighRes-#6',\n",
       "  'chr9-HighRes-#7',\n",
       "  'chr9-HighRes-#8',\n",
       "  'chr9-HighRes-#9',\n",
       "  'chr9-HighRes-#10',\n",
       "  'chr9-HighRes-#11',\n",
       "  'chr9-HighRes-#12',\n",
       "  'chr9-HighRes-#13',\n",
       "  'chr9-HighRes-#14',\n",
       "  'chr9-HighRes-#15',\n",
       "  'chr9-HighRes-#16',\n",
       "  'chr9-HighRes-#17',\n",
       "  'chr9-HighRes-#18',\n",
       "  'chr9-HighRes-#19',\n",
       "  'chr9-HighRes-#20',\n",
       "  'chr9-HighRes-#21',\n",
       "  'chr9-HighRes-#22',\n",
       "  'chr9-HighRes-#23',\n",
       "  'chr9-HighRes-#24',\n",
       "  'chr9-HighRes-#25',\n",
       "  'chr9-HighRes-#26',\n",
       "  'chr9-HighRes-#27',\n",
       "  'chr9-HighRes-#28',\n",
       "  'chr9-HighRes-#29',\n",
       "  'chr9-HighRes-#30',\n",
       "  'chr9-HighRes-#31',\n",
       "  'chr9-HighRes-#32',\n",
       "  'chr9-HighRes-#33',\n",
       "  'chr9-HighRes-#34',\n",
       "  'chr9-HighRes-#35',\n",
       "  'chr9-HighRes-#36',\n",
       "  'chr9-HighRes-#37',\n",
       "  'chr9-HighRes-#38',\n",
       "  'chr9-HighRes-#39',\n",
       "  'chr9-HighRes-#40',\n",
       "  'chr9-HighRes-#41',\n",
       "  'chr9-HighRes-#42',\n",
       "  'chr9-HighRes-#43',\n",
       "  'chr9-HighRes-#44',\n",
       "  'chr9-HighRes-#45',\n",
       "  'chr9-HighRes-#46',\n",
       "  'chr9-HighRes-#47',\n",
       "  'chr9-HighRes-#48',\n",
       "  'chr9-HighRes-#49',\n",
       "  'chr9-HighRes-#50',\n",
       "  'chr9-HighRes-#51',\n",
       "  'chr9-HighRes-#52',\n",
       "  'chr9-HighRes-#53',\n",
       "  'chr9-HighRes-#54',\n",
       "  'chr9-HighRes-#55',\n",
       "  'chr9-HighRes-#56',\n",
       "  'chr9-HighRes-#57',\n",
       "  'chr9-HighRes-#58',\n",
       "  'chr9-HighRes-#59',\n",
       "  'chr9-HighRes-#60'],\n",
       " ['chr10-HighRes-#1',\n",
       "  'chr10-HighRes-#2',\n",
       "  'chr10-HighRes-#3',\n",
       "  'chr10-HighRes-#4',\n",
       "  'chr10-HighRes-#5',\n",
       "  'chr10-HighRes-#6',\n",
       "  'chr10-HighRes-#7',\n",
       "  'chr10-HighRes-#8',\n",
       "  'chr10-HighRes-#9',\n",
       "  'chr10-HighRes-#10',\n",
       "  'chr10-HighRes-#11',\n",
       "  'chr10-HighRes-#12',\n",
       "  'chr10-HighRes-#13',\n",
       "  'chr10-HighRes-#14',\n",
       "  'chr10-HighRes-#15',\n",
       "  'chr10-HighRes-#16',\n",
       "  'chr10-HighRes-#17',\n",
       "  'chr10-HighRes-#18',\n",
       "  'chr10-HighRes-#19',\n",
       "  'chr10-HighRes-#20',\n",
       "  'chr10-HighRes-#21',\n",
       "  'chr10-HighRes-#22',\n",
       "  'chr10-HighRes-#23',\n",
       "  'chr10-HighRes-#24',\n",
       "  'chr10-HighRes-#25',\n",
       "  'chr10-HighRes-#26',\n",
       "  'chr10-HighRes-#27',\n",
       "  'chr10-HighRes-#28',\n",
       "  'chr10-HighRes-#29',\n",
       "  'chr10-HighRes-#30',\n",
       "  'chr10-HighRes-#31',\n",
       "  'chr10-HighRes-#32',\n",
       "  'chr10-HighRes-#33',\n",
       "  'chr10-HighRes-#34',\n",
       "  'chr10-HighRes-#35',\n",
       "  'chr10-HighRes-#36',\n",
       "  'chr10-HighRes-#37',\n",
       "  'chr10-HighRes-#38',\n",
       "  'chr10-HighRes-#39',\n",
       "  'chr10-HighRes-#40',\n",
       "  'chr10-HighRes-#41',\n",
       "  'chr10-HighRes-#42',\n",
       "  'chr10-HighRes-#43',\n",
       "  'chr10-HighRes-#44',\n",
       "  'chr10-HighRes-#45',\n",
       "  'chr10-HighRes-#46',\n",
       "  'chr10-HighRes-#47',\n",
       "  'chr10-HighRes-#48',\n",
       "  'chr10-HighRes-#49',\n",
       "  'chr10-HighRes-#50',\n",
       "  'chr10-HighRes-#51',\n",
       "  'chr10-HighRes-#52',\n",
       "  'chr10-HighRes-#53',\n",
       "  'chr10-HighRes-#54',\n",
       "  'chr10-HighRes-#55',\n",
       "  'chr10-HighRes-#56',\n",
       "  'chr10-HighRes-#57',\n",
       "  'chr10-HighRes-#58',\n",
       "  'chr10-HighRes-#59',\n",
       "  'chr10-HighRes-#60'],\n",
       " ['chr11-HighRes-#1',\n",
       "  'chr11-HighRes-#2',\n",
       "  'chr11-HighRes-#3',\n",
       "  'chr11-HighRes-#4',\n",
       "  'chr11-HighRes-#5',\n",
       "  'chr11-HighRes-#6',\n",
       "  'chr11-HighRes-#7',\n",
       "  'chr11-HighRes-#8',\n",
       "  'chr11-HighRes-#9',\n",
       "  'chr11-HighRes-#10',\n",
       "  'chr11-HighRes-#11',\n",
       "  'chr11-HighRes-#12',\n",
       "  'chr11-HighRes-#13',\n",
       "  'chr11-HighRes-#14',\n",
       "  'chr11-HighRes-#15',\n",
       "  'chr11-HighRes-#16',\n",
       "  'chr11-HighRes-#17',\n",
       "  'chr11-HighRes-#18',\n",
       "  'chr11-HighRes-#19',\n",
       "  'chr11-HighRes-#20',\n",
       "  'chr11-HighRes-#21',\n",
       "  'chr11-HighRes-#22',\n",
       "  'chr11-HighRes-#23',\n",
       "  'chr11-HighRes-#24',\n",
       "  'chr11-HighRes-#25',\n",
       "  'chr11-HighRes-#26',\n",
       "  'chr11-HighRes-#27',\n",
       "  'chr11-HighRes-#28',\n",
       "  'chr11-HighRes-#29',\n",
       "  'chr11-HighRes-#30',\n",
       "  'chr11-HighRes-#31',\n",
       "  'chr11-HighRes-#32',\n",
       "  'chr11-HighRes-#33',\n",
       "  'chr11-HighRes-#34',\n",
       "  'chr11-HighRes-#35',\n",
       "  'chr11-HighRes-#36',\n",
       "  'chr11-HighRes-#37',\n",
       "  'chr11-HighRes-#38',\n",
       "  'chr11-HighRes-#39',\n",
       "  'chr11-HighRes-#40',\n",
       "  'chr11-HighRes-#41',\n",
       "  'chr11-HighRes-#42',\n",
       "  'chr11-HighRes-#43',\n",
       "  'chr11-HighRes-#44',\n",
       "  'chr11-HighRes-#45',\n",
       "  'chr11-HighRes-#46',\n",
       "  'chr11-HighRes-#47',\n",
       "  'chr11-HighRes-#48',\n",
       "  'chr11-HighRes-#49',\n",
       "  'chr11-HighRes-#50',\n",
       "  'chr11-HighRes-#51',\n",
       "  'chr11-HighRes-#52',\n",
       "  'chr11-HighRes-#53',\n",
       "  'chr11-HighRes-#54',\n",
       "  'chr11-HighRes-#55',\n",
       "  'chr11-HighRes-#56',\n",
       "  'chr11-HighRes-#57',\n",
       "  'chr11-HighRes-#58',\n",
       "  'chr11-HighRes-#59',\n",
       "  'chr11-HighRes-#60'],\n",
       " ['chr12-HighRes-#1',\n",
       "  'chr12-HighRes-#2',\n",
       "  'chr12-HighRes-#3',\n",
       "  'chr12-HighRes-#4',\n",
       "  'chr12-HighRes-#5',\n",
       "  'chr12-HighRes-#6',\n",
       "  'chr12-HighRes-#7',\n",
       "  'chr12-HighRes-#8',\n",
       "  'chr12-HighRes-#9',\n",
       "  'chr12-HighRes-#10',\n",
       "  'chr12-HighRes-#11',\n",
       "  'chr12-HighRes-#12',\n",
       "  'chr12-HighRes-#13',\n",
       "  'chr12-HighRes-#14',\n",
       "  'chr12-HighRes-#15',\n",
       "  'chr12-HighRes-#16',\n",
       "  'chr12-HighRes-#17',\n",
       "  'chr12-HighRes-#18',\n",
       "  'chr12-HighRes-#19',\n",
       "  'chr12-HighRes-#20',\n",
       "  'chr12-HighRes-#21',\n",
       "  'chr12-HighRes-#22',\n",
       "  'chr12-HighRes-#23',\n",
       "  'chr12-HighRes-#24',\n",
       "  'chr12-HighRes-#25',\n",
       "  'chr12-HighRes-#26',\n",
       "  'chr12-HighRes-#27',\n",
       "  'chr12-HighRes-#28',\n",
       "  'chr12-HighRes-#29',\n",
       "  'chr12-HighRes-#30',\n",
       "  'chr12-HighRes-#31',\n",
       "  'chr12-HighRes-#32',\n",
       "  'chr12-HighRes-#33',\n",
       "  'chr12-HighRes-#34',\n",
       "  'chr12-HighRes-#35',\n",
       "  'chr12-HighRes-#36',\n",
       "  'chr12-HighRes-#37',\n",
       "  'chr12-HighRes-#38',\n",
       "  'chr12-HighRes-#39',\n",
       "  'chr12-HighRes-#40',\n",
       "  'chr12-HighRes-#41',\n",
       "  'chr12-HighRes-#42',\n",
       "  'chr12-HighRes-#43',\n",
       "  'chr12-HighRes-#44',\n",
       "  'chr12-HighRes-#45',\n",
       "  'chr12-HighRes-#46',\n",
       "  'chr12-HighRes-#47',\n",
       "  'chr12-HighRes-#48',\n",
       "  'chr12-HighRes-#49',\n",
       "  'chr12-HighRes-#50',\n",
       "  'chr12-HighRes-#51',\n",
       "  'chr12-HighRes-#52',\n",
       "  'chr12-HighRes-#53',\n",
       "  'chr12-HighRes-#54',\n",
       "  'chr12-HighRes-#55',\n",
       "  'chr12-HighRes-#56',\n",
       "  'chr12-HighRes-#57',\n",
       "  'chr12-HighRes-#58',\n",
       "  'chr12-HighRes-#59',\n",
       "  'chr12-HighRes-#60'],\n",
       " ['chr13-HighRes-#1',\n",
       "  'chr13-HighRes-#2',\n",
       "  'chr13-HighRes-#3',\n",
       "  'chr13-HighRes-#4',\n",
       "  'chr13-HighRes-#5',\n",
       "  'chr13-HighRes-#6',\n",
       "  'chr13-HighRes-#7',\n",
       "  'chr13-HighRes-#8',\n",
       "  'chr13-HighRes-#9',\n",
       "  'chr13-HighRes-#10',\n",
       "  'chr13-HighRes-#11',\n",
       "  'chr13-HighRes-#12',\n",
       "  'chr13-HighRes-#13',\n",
       "  'chr13-HighRes-#14',\n",
       "  'chr13-HighRes-#15',\n",
       "  'chr13-HighRes-#16',\n",
       "  'chr13-HighRes-#17',\n",
       "  'chr13-HighRes-#18',\n",
       "  'chr13-HighRes-#19',\n",
       "  'chr13-HighRes-#20',\n",
       "  'chr13-HighRes-#21',\n",
       "  'chr13-HighRes-#22',\n",
       "  'chr13-HighRes-#23',\n",
       "  'chr13-HighRes-#24',\n",
       "  'chr13-HighRes-#25',\n",
       "  'chr13-HighRes-#26',\n",
       "  'chr13-HighRes-#27',\n",
       "  'chr13-HighRes-#28',\n",
       "  'chr13-HighRes-#29',\n",
       "  'chr13-HighRes-#30',\n",
       "  'chr13-HighRes-#31',\n",
       "  'chr13-HighRes-#32',\n",
       "  'chr13-HighRes-#33',\n",
       "  'chr13-HighRes-#34',\n",
       "  'chr13-HighRes-#35',\n",
       "  'chr13-HighRes-#36',\n",
       "  'chr13-HighRes-#37',\n",
       "  'chr13-HighRes-#38',\n",
       "  'chr13-HighRes-#39',\n",
       "  'chr13-HighRes-#40',\n",
       "  'chr13-HighRes-#41',\n",
       "  'chr13-HighRes-#42',\n",
       "  'chr13-HighRes-#43',\n",
       "  'chr13-HighRes-#44',\n",
       "  'chr13-HighRes-#45',\n",
       "  'chr13-HighRes-#46',\n",
       "  'chr13-HighRes-#47',\n",
       "  'chr13-HighRes-#48',\n",
       "  'chr13-HighRes-#49',\n",
       "  'chr13-HighRes-#50',\n",
       "  'chr13-HighRes-#51',\n",
       "  'chr13-HighRes-#52',\n",
       "  'chr13-HighRes-#53',\n",
       "  'chr13-HighRes-#54',\n",
       "  'chr13-HighRes-#55',\n",
       "  'chr13-HighRes-#56',\n",
       "  'chr13-HighRes-#57',\n",
       "  'chr13-HighRes-#58',\n",
       "  'chr13-HighRes-#59',\n",
       "  'chr13-HighRes-#60'],\n",
       " ['chr14-HighRes-#1',\n",
       "  'chr14-HighRes-#2',\n",
       "  'chr14-HighRes-#3',\n",
       "  'chr14-HighRes-#4',\n",
       "  'chr14-HighRes-#5',\n",
       "  'chr14-HighRes-#6',\n",
       "  'chr14-HighRes-#7',\n",
       "  'chr14-HighRes-#8',\n",
       "  'chr14-HighRes-#9',\n",
       "  'chr14-HighRes-#10',\n",
       "  'chr14-HighRes-#11',\n",
       "  'chr14-HighRes-#12',\n",
       "  'chr14-HighRes-#13',\n",
       "  'chr14-HighRes-#14',\n",
       "  'chr14-HighRes-#15',\n",
       "  'chr14-HighRes-#16',\n",
       "  'chr14-HighRes-#17',\n",
       "  'chr14-HighRes-#18',\n",
       "  'chr14-HighRes-#19',\n",
       "  'chr14-HighRes-#20',\n",
       "  'chr14-HighRes-#21',\n",
       "  'chr14-HighRes-#22',\n",
       "  'chr14-HighRes-#23',\n",
       "  'chr14-HighRes-#24',\n",
       "  'chr14-HighRes-#25',\n",
       "  'chr14-HighRes-#26',\n",
       "  'chr14-HighRes-#27',\n",
       "  'chr14-HighRes-#28',\n",
       "  'chr14-HighRes-#29',\n",
       "  'chr14-HighRes-#30',\n",
       "  'chr14-HighRes-#31',\n",
       "  'chr14-HighRes-#32',\n",
       "  'chr14-HighRes-#33',\n",
       "  'chr14-HighRes-#34',\n",
       "  'chr14-HighRes-#35',\n",
       "  'chr14-HighRes-#36',\n",
       "  'chr14-HighRes-#37',\n",
       "  'chr14-HighRes-#38',\n",
       "  'chr14-HighRes-#39',\n",
       "  'chr14-HighRes-#40',\n",
       "  'chr14-HighRes-#41',\n",
       "  'chr14-HighRes-#42',\n",
       "  'chr14-HighRes-#43',\n",
       "  'chr14-HighRes-#44',\n",
       "  'chr14-HighRes-#45',\n",
       "  'chr14-HighRes-#46',\n",
       "  'chr14-HighRes-#47',\n",
       "  'chr14-HighRes-#48',\n",
       "  'chr14-HighRes-#49',\n",
       "  'chr14-HighRes-#50',\n",
       "  'chr14-HighRes-#51',\n",
       "  'chr14-HighRes-#52',\n",
       "  'chr14-HighRes-#53',\n",
       "  'chr14-HighRes-#54',\n",
       "  'chr14-HighRes-#55',\n",
       "  'chr14-HighRes-#56',\n",
       "  'chr14-HighRes-#57',\n",
       "  'chr14-HighRes-#58',\n",
       "  'chr14-HighRes-#59',\n",
       "  'chr14-HighRes-#60'],\n",
       " ['chr15-HighRes-#1',\n",
       "  'chr15-HighRes-#2',\n",
       "  'chr15-HighRes-#3',\n",
       "  'chr15-HighRes-#4',\n",
       "  'chr15-HighRes-#5',\n",
       "  'chr15-HighRes-#6',\n",
       "  'chr15-HighRes-#7',\n",
       "  'chr15-HighRes-#8',\n",
       "  'chr15-HighRes-#9',\n",
       "  'chr15-HighRes-#10',\n",
       "  'chr15-HighRes-#11',\n",
       "  'chr15-HighRes-#12',\n",
       "  'chr15-HighRes-#13',\n",
       "  'chr15-HighRes-#14',\n",
       "  'chr15-HighRes-#15',\n",
       "  'chr15-HighRes-#16',\n",
       "  'chr15-HighRes-#17',\n",
       "  'chr15-HighRes-#18',\n",
       "  'chr15-HighRes-#19',\n",
       "  'chr15-HighRes-#20',\n",
       "  'chr15-HighRes-#21',\n",
       "  'chr15-HighRes-#22',\n",
       "  'chr15-HighRes-#23',\n",
       "  'chr15-HighRes-#24',\n",
       "  'chr15-HighRes-#25',\n",
       "  'chr15-HighRes-#26',\n",
       "  'chr15-HighRes-#27',\n",
       "  'chr15-HighRes-#28',\n",
       "  'chr15-HighRes-#29',\n",
       "  'chr15-HighRes-#30',\n",
       "  'chr15-HighRes-#31',\n",
       "  'chr15-HighRes-#32',\n",
       "  'chr15-HighRes-#33',\n",
       "  'chr15-HighRes-#34',\n",
       "  'chr15-HighRes-#35',\n",
       "  'chr15-HighRes-#36',\n",
       "  'chr15-HighRes-#37',\n",
       "  'chr15-HighRes-#38',\n",
       "  'chr15-HighRes-#39',\n",
       "  'chr15-HighRes-#40',\n",
       "  'chr15-HighRes-#41',\n",
       "  'chr15-HighRes-#42',\n",
       "  'chr15-HighRes-#43',\n",
       "  'chr15-HighRes-#44',\n",
       "  'chr15-HighRes-#45',\n",
       "  'chr15-HighRes-#46',\n",
       "  'chr15-HighRes-#47',\n",
       "  'chr15-HighRes-#48',\n",
       "  'chr15-HighRes-#49',\n",
       "  'chr15-HighRes-#50',\n",
       "  'chr15-HighRes-#51',\n",
       "  'chr15-HighRes-#52',\n",
       "  'chr15-HighRes-#53',\n",
       "  'chr15-HighRes-#54',\n",
       "  'chr15-HighRes-#55',\n",
       "  'chr15-HighRes-#56',\n",
       "  'chr15-HighRes-#57',\n",
       "  'chr15-HighRes-#58',\n",
       "  'chr15-HighRes-#59',\n",
       "  'chr15-HighRes-#60'],\n",
       " ['chr16-HighRes-#1',\n",
       "  'chr16-HighRes-#2',\n",
       "  'chr16-HighRes-#3',\n",
       "  'chr16-HighRes-#4',\n",
       "  'chr16-HighRes-#5',\n",
       "  'chr16-HighRes-#6',\n",
       "  'chr16-HighRes-#7',\n",
       "  'chr16-HighRes-#8',\n",
       "  'chr16-HighRes-#9',\n",
       "  'chr16-HighRes-#10',\n",
       "  'chr16-HighRes-#11',\n",
       "  'chr16-HighRes-#12',\n",
       "  'chr16-HighRes-#13',\n",
       "  'chr16-HighRes-#14',\n",
       "  'chr16-HighRes-#15',\n",
       "  'chr16-HighRes-#16',\n",
       "  'chr16-HighRes-#17',\n",
       "  'chr16-HighRes-#18',\n",
       "  'chr16-HighRes-#19',\n",
       "  'chr16-HighRes-#20',\n",
       "  'chr16-HighRes-#21',\n",
       "  'chr16-HighRes-#22',\n",
       "  'chr16-HighRes-#23',\n",
       "  'chr16-HighRes-#24',\n",
       "  'chr16-HighRes-#25',\n",
       "  'chr16-HighRes-#26',\n",
       "  'chr16-HighRes-#27',\n",
       "  'chr16-HighRes-#28',\n",
       "  'chr16-HighRes-#29',\n",
       "  'chr16-HighRes-#30',\n",
       "  'chr16-HighRes-#31',\n",
       "  'chr16-HighRes-#32',\n",
       "  'chr16-HighRes-#33',\n",
       "  'chr16-HighRes-#34',\n",
       "  'chr16-HighRes-#35',\n",
       "  'chr16-HighRes-#36',\n",
       "  'chr16-HighRes-#37',\n",
       "  'chr16-HighRes-#38',\n",
       "  'chr16-HighRes-#39',\n",
       "  'chr16-HighRes-#40',\n",
       "  'chr16-HighRes-#41',\n",
       "  'chr16-HighRes-#42',\n",
       "  'chr16-HighRes-#43',\n",
       "  'chr16-HighRes-#44',\n",
       "  'chr16-HighRes-#45',\n",
       "  'chr16-HighRes-#46',\n",
       "  'chr16-HighRes-#47',\n",
       "  'chr16-HighRes-#48',\n",
       "  'chr16-HighRes-#49',\n",
       "  'chr16-HighRes-#50',\n",
       "  'chr16-HighRes-#51',\n",
       "  'chr16-HighRes-#52',\n",
       "  'chr16-HighRes-#53',\n",
       "  'chr16-HighRes-#54',\n",
       "  'chr16-HighRes-#55',\n",
       "  'chr16-HighRes-#56',\n",
       "  'chr16-HighRes-#57',\n",
       "  'chr16-HighRes-#58',\n",
       "  'chr16-HighRes-#59',\n",
       "  'chr16-HighRes-#60'],\n",
       " ['chr17-HighRes-#1',\n",
       "  'chr17-HighRes-#2',\n",
       "  'chr17-HighRes-#3',\n",
       "  'chr17-HighRes-#4',\n",
       "  'chr17-HighRes-#5',\n",
       "  'chr17-HighRes-#6',\n",
       "  'chr17-HighRes-#7',\n",
       "  'chr17-HighRes-#8',\n",
       "  'chr17-HighRes-#9',\n",
       "  'chr17-HighRes-#10',\n",
       "  'chr17-HighRes-#11',\n",
       "  'chr17-HighRes-#12',\n",
       "  'chr17-HighRes-#13',\n",
       "  'chr17-HighRes-#14',\n",
       "  'chr17-HighRes-#15',\n",
       "  'chr17-HighRes-#16',\n",
       "  'chr17-HighRes-#17',\n",
       "  'chr17-HighRes-#18',\n",
       "  'chr17-HighRes-#19',\n",
       "  'chr17-HighRes-#20',\n",
       "  'chr17-HighRes-#21',\n",
       "  'chr17-HighRes-#22',\n",
       "  'chr17-HighRes-#23',\n",
       "  'chr17-HighRes-#24',\n",
       "  'chr17-HighRes-#25',\n",
       "  'chr17-HighRes-#26',\n",
       "  'chr17-HighRes-#27',\n",
       "  'chr17-HighRes-#28',\n",
       "  'chr17-HighRes-#29',\n",
       "  'chr17-HighRes-#30',\n",
       "  'chr17-HighRes-#31',\n",
       "  'chr17-HighRes-#32',\n",
       "  'chr17-HighRes-#33',\n",
       "  'chr17-HighRes-#34',\n",
       "  'chr17-HighRes-#35',\n",
       "  'chr17-HighRes-#36',\n",
       "  'chr17-HighRes-#37',\n",
       "  'chr17-HighRes-#38',\n",
       "  'chr17-HighRes-#39',\n",
       "  'chr17-HighRes-#40',\n",
       "  'chr17-HighRes-#41',\n",
       "  'chr17-HighRes-#42',\n",
       "  'chr17-HighRes-#43',\n",
       "  'chr17-HighRes-#44',\n",
       "  'chr17-HighRes-#45',\n",
       "  'chr17-HighRes-#46',\n",
       "  'chr17-HighRes-#47',\n",
       "  'chr17-HighRes-#48',\n",
       "  'chr17-HighRes-#49',\n",
       "  'chr17-HighRes-#50',\n",
       "  'chr17-HighRes-#51',\n",
       "  'chr17-HighRes-#52',\n",
       "  'chr17-HighRes-#53',\n",
       "  'chr17-HighRes-#54',\n",
       "  'chr17-HighRes-#55',\n",
       "  'chr17-HighRes-#56',\n",
       "  'chr17-HighRes-#57',\n",
       "  'chr17-HighRes-#58',\n",
       "  'chr17-HighRes-#59',\n",
       "  'chr17-HighRes-#60'],\n",
       " ['chr18-HighRes-#1',\n",
       "  'chr18-HighRes-#2',\n",
       "  'chr18-HighRes-#3',\n",
       "  'chr18-HighRes-#4',\n",
       "  'chr18-HighRes-#5',\n",
       "  'chr18-HighRes-#6',\n",
       "  'chr18-HighRes-#7',\n",
       "  'chr18-HighRes-#8',\n",
       "  'chr18-HighRes-#9',\n",
       "  'chr18-HighRes-#10',\n",
       "  'chr18-HighRes-#11',\n",
       "  'chr18-HighRes-#12',\n",
       "  'chr18-HighRes-#13',\n",
       "  'chr18-HighRes-#14',\n",
       "  'chr18-HighRes-#15',\n",
       "  'chr18-HighRes-#16',\n",
       "  'chr18-HighRes-#17',\n",
       "  'chr18-HighRes-#18',\n",
       "  'chr18-HighRes-#19',\n",
       "  'chr18-HighRes-#20',\n",
       "  'chr18-HighRes-#21',\n",
       "  'chr18-HighRes-#22',\n",
       "  'chr18-HighRes-#23',\n",
       "  'chr18-HighRes-#24',\n",
       "  'chr18-HighRes-#25',\n",
       "  'chr18-HighRes-#26',\n",
       "  'chr18-HighRes-#27',\n",
       "  'chr18-HighRes-#28',\n",
       "  'chr18-HighRes-#29',\n",
       "  'chr18-HighRes-#30',\n",
       "  'chr18-HighRes-#31',\n",
       "  'chr18-HighRes-#32',\n",
       "  'chr18-HighRes-#33',\n",
       "  'chr18-HighRes-#34',\n",
       "  'chr18-HighRes-#35',\n",
       "  'chr18-HighRes-#36',\n",
       "  'chr18-HighRes-#37',\n",
       "  'chr18-HighRes-#38',\n",
       "  'chr18-HighRes-#39',\n",
       "  'chr18-HighRes-#40',\n",
       "  'chr18-HighRes-#41',\n",
       "  'chr18-HighRes-#42',\n",
       "  'chr18-HighRes-#43',\n",
       "  'chr18-HighRes-#44',\n",
       "  'chr18-HighRes-#45',\n",
       "  'chr18-HighRes-#46',\n",
       "  'chr18-HighRes-#47',\n",
       "  'chr18-HighRes-#48',\n",
       "  'chr18-HighRes-#49',\n",
       "  'chr18-HighRes-#50',\n",
       "  'chr18-HighRes-#51',\n",
       "  'chr18-HighRes-#52',\n",
       "  'chr18-HighRes-#53',\n",
       "  'chr18-HighRes-#54',\n",
       "  'chr18-HighRes-#55',\n",
       "  'chr18-HighRes-#56',\n",
       "  'chr18-HighRes-#57',\n",
       "  'chr18-HighRes-#58',\n",
       "  'chr18-HighRes-#59',\n",
       "  'chr18-HighRes-#60'],\n",
       " ['chr19-HighRes-#1',\n",
       "  'chr19-HighRes-#2',\n",
       "  'chr19-HighRes-#3',\n",
       "  'chr19-HighRes-#4',\n",
       "  'chr19-HighRes-#5',\n",
       "  'chr19-HighRes-#6',\n",
       "  'chr19-HighRes-#7',\n",
       "  'chr19-HighRes-#8',\n",
       "  'chr19-HighRes-#9',\n",
       "  'chr19-HighRes-#10',\n",
       "  'chr19-HighRes-#11',\n",
       "  'chr19-HighRes-#12',\n",
       "  'chr19-HighRes-#13',\n",
       "  'chr19-HighRes-#14',\n",
       "  'chr19-HighRes-#15',\n",
       "  'chr19-HighRes-#16',\n",
       "  'chr19-HighRes-#17',\n",
       "  'chr19-HighRes-#18',\n",
       "  'chr19-HighRes-#19',\n",
       "  'chr19-HighRes-#20',\n",
       "  'chr19-HighRes-#21',\n",
       "  'chr19-HighRes-#22',\n",
       "  'chr19-HighRes-#23',\n",
       "  'chr19-HighRes-#24',\n",
       "  'chr19-HighRes-#25',\n",
       "  'chr19-HighRes-#26',\n",
       "  'chr19-HighRes-#27',\n",
       "  'chr19-HighRes-#28',\n",
       "  'chr19-HighRes-#29',\n",
       "  'chr19-HighRes-#30',\n",
       "  'chr19-HighRes-#31',\n",
       "  'chr19-HighRes-#32',\n",
       "  'chr19-HighRes-#33',\n",
       "  'chr19-HighRes-#34',\n",
       "  'chr19-HighRes-#35',\n",
       "  'chr19-HighRes-#36',\n",
       "  'chr19-HighRes-#37',\n",
       "  'chr19-HighRes-#38',\n",
       "  'chr19-HighRes-#39',\n",
       "  'chr19-HighRes-#40',\n",
       "  'chr19-HighRes-#41',\n",
       "  'chr19-HighRes-#42',\n",
       "  'chr19-HighRes-#43',\n",
       "  'chr19-HighRes-#44',\n",
       "  'chr19-HighRes-#45',\n",
       "  'chr19-HighRes-#46',\n",
       "  'chr19-HighRes-#47',\n",
       "  'chr19-HighRes-#48',\n",
       "  'chr19-HighRes-#49',\n",
       "  'chr19-HighRes-#50',\n",
       "  'chr19-HighRes-#51',\n",
       "  'chr19-HighRes-#52',\n",
       "  'chr19-HighRes-#53',\n",
       "  'chr19-HighRes-#54',\n",
       "  'chr19-HighRes-#55',\n",
       "  'chr19-HighRes-#56',\n",
       "  'chr19-HighRes-#57',\n",
       "  'chr19-HighRes-#58',\n",
       "  'chr19-HighRes-#59',\n",
       "  'chr19-HighRes-#60'],\n",
       " ['chrX-HighRes-#1',\n",
       "  'chrX-HighRes-#2',\n",
       "  'chrX-HighRes-#3',\n",
       "  'chrX-HighRes-#4',\n",
       "  'chrX-HighRes-#5',\n",
       "  'chrX-HighRes-#6',\n",
       "  'chrX-HighRes-#7',\n",
       "  'chrX-HighRes-#8',\n",
       "  'chrX-HighRes-#9',\n",
       "  'chrX-HighRes-#10',\n",
       "  'chrX-HighRes-#11',\n",
       "  'chrX-HighRes-#12',\n",
       "  'chrX-HighRes-#13',\n",
       "  'chrX-HighRes-#14',\n",
       "  'chrX-HighRes-#15',\n",
       "  'chrX-HighRes-#16',\n",
       "  'chrX-HighRes-#17',\n",
       "  'chrX-HighRes-#18',\n",
       "  'chrX-HighRes-#19',\n",
       "  'chrX-HighRes-#20',\n",
       "  'chrX-HighRes-#21',\n",
       "  'chrX-HighRes-#22',\n",
       "  'chrX-HighRes-#23',\n",
       "  'chrX-HighRes-#24',\n",
       "  'chrX-HighRes-#25',\n",
       "  'chrX-HighRes-#26',\n",
       "  'chrX-HighRes-#27',\n",
       "  'chrX-HighRes-#28',\n",
       "  'chrX-HighRes-#29',\n",
       "  'chrX-HighRes-#30',\n",
       "  'chrX-HighRes-#31',\n",
       "  'chrX-HighRes-#32',\n",
       "  'chrX-HighRes-#33',\n",
       "  'chrX-HighRes-#34',\n",
       "  'chrX-HighRes-#35',\n",
       "  'chrX-HighRes-#36',\n",
       "  'chrX-HighRes-#37',\n",
       "  'chrX-HighRes-#38',\n",
       "  'chrX-HighRes-#39',\n",
       "  'chrX-HighRes-#40',\n",
       "  'chrX-HighRes-#41',\n",
       "  'chrX-HighRes-#42',\n",
       "  'chrX-HighRes-#43',\n",
       "  'chrX-HighRes-#44',\n",
       "  'chrX-HighRes-#45',\n",
       "  'chrX-HighRes-#46',\n",
       "  'chrX-HighRes-#47',\n",
       "  'chrX-HighRes-#48',\n",
       "  'chrX-HighRes-#49',\n",
       "  'chrX-HighRes-#50',\n",
       "  'chrX-HighRes-#51',\n",
       "  'chrX-HighRes-#52',\n",
       "  'chrX-HighRes-#53',\n",
       "  'chrX-HighRes-#54',\n",
       "  'chrX-HighRes-#55',\n",
       "  'chrX-HighRes-#56',\n",
       "  'chrX-HighRes-#57',\n",
       "  'chrX-HighRes-#58',\n",
       "  'chrX-HighRes-#59',\n",
       "  'chrX-HighRes-#60']]"
      ]
     },
     "execution_count": 12,
     "metadata": {},
     "output_type": "execute_result"
    }
   ],
   "source": [
    "data['gene_ID']"
   ]
  },
  {
   "cell_type": "code",
   "execution_count": 13,
   "id": "3937a520",
   "metadata": {
    "ExecuteTime": {
     "end_time": "2024-04-27T13:27:58.189048Z",
     "start_time": "2024-04-27T13:27:58.154060Z"
    }
   },
   "outputs": [
    {
     "data": {
      "text/plain": [
       "{'0_3_1_rep1': 0,\n",
       " '0_3_2_rep1': 1,\n",
       " '0_3_3_rep1': 2,\n",
       " '0_3_4_rep1': 3,\n",
       " '0_3_5_rep1': 4,\n",
       " '0_3_6_rep1': 5,\n",
       " '0_3_7_rep1': 6,\n",
       " '0_3_8_rep1': 7,\n",
       " '0_3_9_rep1': 8,\n",
       " '0_3_10_rep1': 9,\n",
       " '0_3_11_rep1': 10,\n",
       " '0_3_12_rep1': 11,\n",
       " '0_3_13_rep1': 12,\n",
       " '0_3_14_rep1': 13,\n",
       " '0_3_15_rep1': 14,\n",
       " '0_3_16_rep1': 15,\n",
       " '0_3_17_rep1': 16,\n",
       " '0_3_18_rep1': 17,\n",
       " '0_3_19_rep1': 18,\n",
       " '0_3_20_rep1': 19,\n",
       " '0_3_21_rep1': 20,\n",
       " '0_3_22_rep1': 21,\n",
       " '0_3_23_rep1': 22,\n",
       " '0_3_24_rep1': 23,\n",
       " '0_3_25_rep1': 24,\n",
       " '0_3_26_rep1': 25,\n",
       " '0_3_27_rep1': 26,\n",
       " '0_3_28_rep1': 27,\n",
       " '0_3_29_rep1': 28,\n",
       " '0_3_30_rep1': 29,\n",
       " '0_3_31_rep1': 30,\n",
       " '0_3_32_rep1': 31,\n",
       " '0_3_33_rep1': 32,\n",
       " '0_3_34_rep1': 33,\n",
       " '0_3_35_rep1': 34,\n",
       " '0_3_36_rep1': 35,\n",
       " '0_3_37_rep1': 36,\n",
       " '0_3_38_rep1': 37,\n",
       " '0_3_39_rep1': 38,\n",
       " '0_3_40_rep1': 39,\n",
       " '0_3_41_rep1': 40,\n",
       " '0_3_42_rep1': 41,\n",
       " '0_3_43_rep1': 42,\n",
       " '0_3_44_rep1': 43,\n",
       " '0_3_45_rep1': 44,\n",
       " '0_3_46_rep1': 45,\n",
       " '1_3_1_rep1': 46,\n",
       " '1_3_2_rep1': 47,\n",
       " '1_3_3_rep1': 48,\n",
       " '1_3_4_rep1': 49,\n",
       " '1_3_5_rep1': 50,\n",
       " '1_3_6_rep1': 51,\n",
       " '1_3_7_rep1': 52,\n",
       " '1_3_8_rep1': 53,\n",
       " '1_3_9_rep1': 54,\n",
       " '1_3_10_rep1': 55,\n",
       " '1_3_11_rep1': 56,\n",
       " '1_3_12_rep1': 57,\n",
       " '1_3_13_rep1': 58,\n",
       " '1_3_14_rep1': 59,\n",
       " '1_3_15_rep1': 60,\n",
       " '1_3_16_rep1': 61,\n",
       " '1_3_17_rep1': 62,\n",
       " '1_3_18_rep1': 63,\n",
       " '1_3_19_rep1': 64,\n",
       " '1_3_20_rep1': 65,\n",
       " '1_3_21_rep1': 66,\n",
       " '1_3_22_rep1': 67,\n",
       " '1_3_23_rep1': 68,\n",
       " '1_3_24_rep1': 69,\n",
       " '1_3_25_rep1': 70,\n",
       " '1_3_26_rep1': 71,\n",
       " '1_3_27_rep1': 72,\n",
       " '1_3_28_rep1': 73,\n",
       " '1_3_29_rep1': 74,\n",
       " '1_3_30_rep1': 75,\n",
       " '1_3_31_rep1': 76,\n",
       " '1_3_32_rep1': 77,\n",
       " '1_3_33_rep1': 78,\n",
       " '1_3_34_rep1': 79,\n",
       " '1_3_35_rep1': 80,\n",
       " '1_3_36_rep1': 81,\n",
       " '1_3_37_rep1': 82,\n",
       " '2_3_1_rep1': 83,\n",
       " '2_3_2_rep1': 84,\n",
       " '2_3_3_rep1': 85,\n",
       " '2_3_4_rep1': 86,\n",
       " '2_3_5_rep1': 87,\n",
       " '2_3_6_rep1': 88,\n",
       " '2_3_7_rep1': 89,\n",
       " '2_3_8_rep1': 90,\n",
       " '2_3_9_rep1': 91,\n",
       " '2_3_10_rep1': 92,\n",
       " '2_3_11_rep1': 93,\n",
       " '2_3_12_rep1': 94,\n",
       " '2_3_13_rep1': 95,\n",
       " '2_3_14_rep1': 96,\n",
       " '2_3_15_rep1': 97,\n",
       " '2_3_16_rep1': 98,\n",
       " '2_3_17_rep1': 99,\n",
       " '2_3_18_rep1': 100,\n",
       " '2_3_19_rep1': 101,\n",
       " '2_3_20_rep1': 102,\n",
       " '2_3_21_rep1': 103,\n",
       " '2_3_22_rep1': 104,\n",
       " '2_3_23_rep1': 105,\n",
       " '2_3_24_rep1': 106,\n",
       " '2_3_25_rep1': 107,\n",
       " '2_3_26_rep1': 108,\n",
       " '2_3_27_rep1': 109,\n",
       " '2_3_28_rep1': 110,\n",
       " '2_3_29_rep1': 111,\n",
       " '2_3_30_rep1': 112,\n",
       " '2_3_31_rep1': 113,\n",
       " '2_3_32_rep1': 114,\n",
       " '2_3_33_rep1': 115,\n",
       " '2_3_34_rep1': 116,\n",
       " '2_3_35_rep1': 117,\n",
       " '2_3_36_rep1': 118,\n",
       " '2_3_37_rep1': 119,\n",
       " '2_3_38_rep1': 120,\n",
       " '2_3_39_rep1': 121,\n",
       " '2_3_40_rep1': 122,\n",
       " '2_3_41_rep1': 123,\n",
       " '2_3_42_rep1': 124,\n",
       " '2_3_43_rep1': 125,\n",
       " '2_3_44_rep1': 126,\n",
       " '2_3_45_rep1': 127,\n",
       " '2_3_46_rep1': 128,\n",
       " '3_3_1_rep1': 129,\n",
       " '3_3_2_rep1': 130,\n",
       " '3_3_3_rep1': 131,\n",
       " '3_3_4_rep1': 132,\n",
       " '3_3_5_rep1': 133,\n",
       " '3_3_6_rep1': 134,\n",
       " '3_3_7_rep1': 135,\n",
       " '3_3_8_rep1': 136,\n",
       " '3_3_9_rep1': 137,\n",
       " '3_3_10_rep1': 138,\n",
       " '3_3_11_rep1': 139,\n",
       " '3_3_12_rep1': 140,\n",
       " '3_3_13_rep1': 141,\n",
       " '3_3_14_rep1': 142,\n",
       " '3_3_15_rep1': 143,\n",
       " '3_3_16_rep1': 144,\n",
       " '3_3_17_rep1': 145,\n",
       " '3_3_18_rep1': 146,\n",
       " '3_3_19_rep1': 147,\n",
       " '3_3_20_rep1': 148,\n",
       " '3_3_21_rep1': 149,\n",
       " '3_3_22_rep1': 150,\n",
       " '3_3_23_rep1': 151,\n",
       " '3_3_24_rep1': 152,\n",
       " '3_3_25_rep1': 153,\n",
       " '3_3_26_rep1': 154,\n",
       " '3_3_27_rep1': 155,\n",
       " '3_3_28_rep1': 156,\n",
       " '3_3_29_rep1': 157,\n",
       " '3_3_30_rep1': 158,\n",
       " '3_3_31_rep1': 159,\n",
       " '3_3_32_rep1': 160,\n",
       " '3_3_33_rep1': 161,\n",
       " '3_3_34_rep1': 162,\n",
       " '3_3_35_rep1': 163,\n",
       " '3_3_36_rep1': 164,\n",
       " '3_3_37_rep1': 165,\n",
       " '3_3_38_rep1': 166,\n",
       " '3_3_39_rep1': 167,\n",
       " '3_3_40_rep1': 168,\n",
       " '3_3_41_rep1': 169,\n",
       " '4_3_1_rep1': 170,\n",
       " '4_3_2_rep1': 171,\n",
       " '4_3_3_rep1': 172,\n",
       " '4_3_4_rep1': 173,\n",
       " '4_3_5_rep1': 174,\n",
       " '4_3_6_rep1': 175,\n",
       " '4_3_7_rep1': 176,\n",
       " '4_3_8_rep1': 177,\n",
       " '4_3_9_rep1': 178,\n",
       " '4_3_10_rep1': 179,\n",
       " '4_3_11_rep1': 180,\n",
       " '4_3_12_rep1': 181,\n",
       " '4_3_13_rep1': 182,\n",
       " '4_3_14_rep1': 183,\n",
       " '4_3_15_rep1': 184,\n",
       " '4_3_16_rep1': 185,\n",
       " '4_3_17_rep1': 186,\n",
       " '4_3_18_rep1': 187,\n",
       " '4_3_19_rep1': 188,\n",
       " '4_3_20_rep1': 189,\n",
       " '4_3_21_rep1': 190,\n",
       " '4_3_22_rep1': 191,\n",
       " '4_3_23_rep1': 192,\n",
       " '4_3_24_rep1': 193,\n",
       " '4_3_25_rep1': 194,\n",
       " '4_3_26_rep1': 195,\n",
       " '4_3_27_rep1': 196,\n",
       " '4_3_28_rep1': 197,\n",
       " '4_3_29_rep1': 198,\n",
       " '4_3_30_rep1': 199,\n",
       " '4_3_31_rep1': 200,\n",
       " '0_3_1_rep2': 201,\n",
       " '0_3_2_rep2': 202,\n",
       " '0_3_3_rep2': 203,\n",
       " '0_3_4_rep2': 204,\n",
       " '0_3_5_rep2': 205,\n",
       " '0_3_6_rep2': 206,\n",
       " '0_3_7_rep2': 207,\n",
       " '0_3_8_rep2': 208,\n",
       " '0_3_9_rep2': 209,\n",
       " '0_3_10_rep2': 210,\n",
       " '0_3_11_rep2': 211,\n",
       " '0_3_12_rep2': 212,\n",
       " '0_3_13_rep2': 213,\n",
       " '0_3_14_rep2': 214,\n",
       " '0_3_15_rep2': 215,\n",
       " '0_3_17_rep2': 216,\n",
       " '0_3_18_rep2': 217,\n",
       " '0_3_19_rep2': 218,\n",
       " '0_3_20_rep2': 219,\n",
       " '0_3_21_rep2': 220,\n",
       " '0_3_22_rep2': 221,\n",
       " '0_3_23_rep2': 222,\n",
       " '0_3_24_rep2': 223,\n",
       " '0_3_25_rep2': 224,\n",
       " '0_3_26_rep2': 225,\n",
       " '0_3_27_rep2': 226,\n",
       " '0_3_28_rep2': 227,\n",
       " '0_3_29_rep2': 228,\n",
       " '0_3_30_rep2': 229,\n",
       " '0_3_31_rep2': 230,\n",
       " '0_3_32_rep2': 231,\n",
       " '0_3_33_rep2': 232,\n",
       " '0_3_34_rep2': 233,\n",
       " '0_3_35_rep2': 234,\n",
       " '1_3_1_rep2': 235,\n",
       " '1_3_2_rep2': 236,\n",
       " '1_3_3_rep2': 237,\n",
       " '1_3_4_rep2': 238,\n",
       " '1_3_5_rep2': 239,\n",
       " '1_3_6_rep2': 240,\n",
       " '1_3_7_rep2': 241,\n",
       " '1_3_8_rep2': 242,\n",
       " '1_3_9_rep2': 243,\n",
       " '1_3_10_rep2': 244,\n",
       " '1_3_11_rep2': 245,\n",
       " '1_3_12_rep2': 246,\n",
       " '1_3_13_rep2': 247,\n",
       " '1_3_14_rep2': 248,\n",
       " '1_3_15_rep2': 249,\n",
       " '1_3_16_rep2': 250,\n",
       " '1_3_17_rep2': 251,\n",
       " '1_3_18_rep2': 252,\n",
       " '1_3_19_rep2': 253,\n",
       " '1_3_20_rep2': 254,\n",
       " '1_3_21_rep2': 255,\n",
       " '1_3_22_rep2': 256,\n",
       " '1_3_23_rep2': 257,\n",
       " '1_3_24_rep2': 258,\n",
       " '1_3_25_rep2': 259,\n",
       " '1_3_26_rep2': 260,\n",
       " '1_3_27_rep2': 261,\n",
       " '1_3_28_rep2': 262,\n",
       " '1_3_29_rep2': 263,\n",
       " '1_3_30_rep2': 264,\n",
       " '1_3_31_rep2': 265,\n",
       " '1_3_32_rep2': 266,\n",
       " '1_3_33_rep2': 267,\n",
       " '1_3_34_rep2': 268,\n",
       " '1_3_35_rep2': 269,\n",
       " '1_3_36_rep2': 270,\n",
       " '1_3_37_rep2': 271,\n",
       " '1_3_38_rep2': 272,\n",
       " '1_3_39_rep2': 273,\n",
       " '1_3_40_rep2': 274,\n",
       " '1_3_41_rep2': 275,\n",
       " '1_3_42_rep2': 276,\n",
       " '1_3_43_rep2': 277,\n",
       " '1_3_44_rep2': 278,\n",
       " '1_3_45_rep2': 279,\n",
       " '1_3_46_rep2': 280,\n",
       " '1_3_50_rep2': 281,\n",
       " '1_3_51_rep2': 282,\n",
       " '2_3_1_rep2': 283,\n",
       " '2_3_2_rep2': 284,\n",
       " '2_3_3_rep2': 285,\n",
       " '2_3_4_rep2': 286,\n",
       " '2_3_5_rep2': 287,\n",
       " '2_3_6_rep2': 288,\n",
       " '2_3_7_rep2': 289,\n",
       " '2_3_8_rep2': 290,\n",
       " '2_3_9_rep2': 291,\n",
       " '2_3_10_rep2': 292,\n",
       " '2_3_11_rep2': 293,\n",
       " '2_3_12_rep2': 294,\n",
       " '2_3_13_rep2': 295,\n",
       " '2_3_14_rep2': 296,\n",
       " '2_3_15_rep2': 297,\n",
       " '2_3_16_rep2': 298,\n",
       " '2_3_17_rep2': 299,\n",
       " '2_3_18_rep2': 300,\n",
       " '2_3_19_rep2': 301,\n",
       " '2_3_20_rep2': 302,\n",
       " '2_3_21_rep2': 303,\n",
       " '2_3_22_rep2': 304,\n",
       " '2_3_23_rep2': 305,\n",
       " '2_3_24_rep2': 306,\n",
       " '2_3_25_rep2': 307,\n",
       " '2_3_26_rep2': 308,\n",
       " '2_3_27_rep2': 309,\n",
       " '2_3_28_rep2': 310,\n",
       " '2_3_29_rep2': 311,\n",
       " '2_3_30_rep2': 312,\n",
       " '2_3_31_rep2': 313,\n",
       " '3_3_1_rep2': 314,\n",
       " '3_3_2_rep2': 315,\n",
       " '3_3_3_rep2': 316,\n",
       " '3_3_4_rep2': 317,\n",
       " '3_3_5_rep2': 318,\n",
       " '3_3_6_rep2': 319,\n",
       " '3_3_7_rep2': 320,\n",
       " '3_3_8_rep2': 321,\n",
       " '3_3_9_rep2': 322,\n",
       " '3_3_10_rep2': 323,\n",
       " '3_3_11_rep2': 324,\n",
       " '3_3_12_rep2': 325,\n",
       " '3_3_13_rep2': 326,\n",
       " '3_3_15_rep2': 327,\n",
       " '3_3_16_rep2': 328,\n",
       " '3_3_17_rep2': 329,\n",
       " '3_3_18_rep2': 330,\n",
       " '3_3_19_rep2': 331,\n",
       " '3_3_20_rep2': 332,\n",
       " '3_3_21_rep2': 333,\n",
       " '3_3_22_rep2': 334,\n",
       " '3_3_23_rep2': 335,\n",
       " '3_3_24_rep2': 336,\n",
       " '3_3_25_rep2': 337,\n",
       " '3_3_26_rep2': 338,\n",
       " '3_3_28_rep2': 339,\n",
       " '3_3_29_rep2': 340,\n",
       " '3_3_30_rep2': 341,\n",
       " '3_3_31_rep2': 342,\n",
       " '3_3_32_rep2': 343,\n",
       " '3_3_33_rep2': 344,\n",
       " '3_3_34_rep2': 345,\n",
       " '3_3_35_rep2': 346,\n",
       " '3_3_36_rep2': 347,\n",
       " '3_3_37_rep2': 348,\n",
       " '3_3_38_rep2': 349,\n",
       " '3_3_39_rep2': 350,\n",
       " '3_3_40_rep2': 351,\n",
       " '3_3_41_rep2': 352,\n",
       " '3_3_42_rep2': 353,\n",
       " '3_3_43_rep2': 354,\n",
       " '3_3_44_rep2': 355,\n",
       " '3_3_45_rep2': 356,\n",
       " '3_3_46_rep2': 357,\n",
       " '3_3_47_rep2': 358,\n",
       " '3_3_48_rep2': 359,\n",
       " '3_3_49_rep2': 360,\n",
       " '4_3_1_rep2': 361,\n",
       " '4_3_2_rep2': 362,\n",
       " '4_3_3_rep2': 363,\n",
       " '4_3_4_rep2': 364,\n",
       " '4_3_5_rep2': 365,\n",
       " '4_3_6_rep2': 366,\n",
       " '4_3_7_rep2': 367,\n",
       " '4_3_8_rep2': 368,\n",
       " '4_3_9_rep2': 369,\n",
       " '4_3_10_rep2': 370,\n",
       " '4_3_11_rep2': 371,\n",
       " '4_3_12_rep2': 372,\n",
       " '4_3_13_rep2': 373,\n",
       " '4_3_14_rep2': 374,\n",
       " '4_3_15_rep2': 375,\n",
       " '4_3_16_rep2': 376,\n",
       " '4_3_17_rep2': 377,\n",
       " '4_3_18_rep2': 378,\n",
       " '4_3_19_rep2': 379,\n",
       " '4_3_20_rep2': 380,\n",
       " '4_3_21_rep2': 381,\n",
       " '4_3_22_rep2': 382,\n",
       " '4_3_23_rep2': 383,\n",
       " '4_3_24_rep2': 384,\n",
       " '4_3_25_rep2': 385,\n",
       " '4_3_26_rep2': 386,\n",
       " '4_3_27_rep2': 387,\n",
       " '4_3_28_rep2': 388,\n",
       " '4_3_29_rep2': 389,\n",
       " '4_3_30_rep2': 390,\n",
       " '4_3_31_rep2': 391,\n",
       " '4_3_32_rep2': 392,\n",
       " '4_3_33_rep2': 393,\n",
       " '4_3_34_rep2': 394,\n",
       " '5_3_1_rep2': 395,\n",
       " '5_3_2_rep2': 396,\n",
       " '5_3_3_rep2': 397,\n",
       " '5_3_4_rep2': 398,\n",
       " '5_3_5_rep2': 399,\n",
       " '5_3_6_rep2': 400,\n",
       " '5_3_8_rep2': 401,\n",
       " '5_3_9_rep2': 402,\n",
       " '5_3_10_rep2': 403,\n",
       " '5_3_11_rep2': 404,\n",
       " '5_3_12_rep2': 405,\n",
       " '5_3_13_rep2': 406,\n",
       " '5_3_14_rep2': 407,\n",
       " '5_3_15_rep2': 408,\n",
       " '5_3_16_rep2': 409,\n",
       " '5_3_17_rep2': 410,\n",
       " '5_3_18_rep2': 411,\n",
       " '5_3_19_rep2': 412,\n",
       " '5_3_20_rep2': 413,\n",
       " '5_3_21_rep2': 414,\n",
       " '5_3_22_rep2': 415,\n",
       " '5_3_23_rep2': 416,\n",
       " '5_3_24_rep2': 417,\n",
       " '5_3_25_rep2': 418,\n",
       " '5_3_26_rep2': 419,\n",
       " '5_3_27_rep2': 420,\n",
       " '5_3_28_rep2': 421,\n",
       " '5_3_31_rep2': 422,\n",
       " '5_3_32_rep2': 423,\n",
       " '5_3_33_rep2': 424,\n",
       " '5_3_34_rep2': 425,\n",
       " '5_3_35_rep2': 426,\n",
       " '5_3_36_rep2': 427,\n",
       " '5_3_37_rep2': 428,\n",
       " '0_3_1_24hr': 429,\n",
       " '0_3_2_24hr': 430,\n",
       " '0_3_3_24hr': 431,\n",
       " '0_3_4_24hr': 432,\n",
       " '0_3_5_24hr': 433,\n",
       " '0_3_6_24hr': 434,\n",
       " '0_3_7_24hr': 435,\n",
       " '0_3_8_24hr': 436,\n",
       " '0_3_9_24hr': 437,\n",
       " '0_3_10_24hr': 438,\n",
       " '0_3_11_24hr': 439,\n",
       " '0_3_12_24hr': 440,\n",
       " '0_3_13_24hr': 441,\n",
       " '0_3_14_24hr': 442,\n",
       " '0_3_15_24hr': 443,\n",
       " '0_3_16_24hr': 444,\n",
       " '0_3_17_24hr': 445,\n",
       " '0_3_18_24hr': 446,\n",
       " '0_3_19_24hr': 447,\n",
       " '0_3_20_24hr': 448,\n",
       " '0_3_21_24hr': 449,\n",
       " '0_3_22_24hr': 450,\n",
       " '0_3_23_24hr': 451,\n",
       " '0_3_24_24hr': 452,\n",
       " '0_3_25_24hr': 453,\n",
       " '0_3_26_24hr': 454,\n",
       " '0_3_27_24hr': 455,\n",
       " '0_3_28_24hr': 456,\n",
       " '0_3_29_24hr': 457,\n",
       " '0_3_30_24hr': 458,\n",
       " '0_3_31_24hr': 459,\n",
       " '0_3_32_24hr': 460,\n",
       " '0_3_33_24hr': 461,\n",
       " '0_3_34_24hr': 462,\n",
       " '0_3_35_24hr': 463,\n",
       " '0_3_36_24hr': 464,\n",
       " '0_3_37_24hr': 465,\n",
       " '0_3_38_24hr': 466,\n",
       " '0_3_39_24hr': 467,\n",
       " '0_3_40_24hr': 468,\n",
       " '0_3_41_24hr': 469,\n",
       " '0_3_42_24hr': 470,\n",
       " '0_3_43_24hr': 471,\n",
       " '0_3_44_24hr': 472,\n",
       " '0_3_45_24hr': 473,\n",
       " '0_3_46_24hr': 474,\n",
       " '1_3_1_24hr': 475,\n",
       " '1_3_2_24hr': 476,\n",
       " '1_3_3_24hr': 477,\n",
       " '1_3_4_24hr': 478,\n",
       " '1_3_5_24hr': 479,\n",
       " '1_3_6_24hr': 480,\n",
       " '1_3_7_24hr': 481,\n",
       " '1_3_8_24hr': 482,\n",
       " '1_3_9_24hr': 483,\n",
       " '1_3_10_24hr': 484,\n",
       " '1_3_11_24hr': 485,\n",
       " '1_3_12_24hr': 486,\n",
       " '1_3_13_24hr': 487,\n",
       " '1_3_14_24hr': 488,\n",
       " '1_3_15_24hr': 489,\n",
       " '1_3_16_24hr': 490,\n",
       " '1_3_17_24hr': 491,\n",
       " '1_3_18_24hr': 492,\n",
       " '1_3_19_24hr': 493,\n",
       " '1_3_20_24hr': 494,\n",
       " '1_3_21_24hr': 495,\n",
       " '1_3_22_24hr': 496,\n",
       " '1_3_23_24hr': 497,\n",
       " '1_3_24_24hr': 498,\n",
       " '1_3_25_24hr': 499,\n",
       " '1_3_26_24hr': 500,\n",
       " '1_3_27_24hr': 501,\n",
       " '1_3_28_24hr': 502,\n",
       " '1_3_29_24hr': 503,\n",
       " '1_3_30_24hr': 504,\n",
       " '1_3_31_24hr': 505,\n",
       " '1_3_32_24hr': 506,\n",
       " '1_3_33_24hr': 507,\n",
       " '1_3_34_24hr': 508,\n",
       " '1_3_35_24hr': 509,\n",
       " '1_3_36_24hr': 510,\n",
       " '1_3_37_24hr': 511,\n",
       " '1_3_38_24hr': 512,\n",
       " '1_3_39_24hr': 513,\n",
       " '1_3_40_24hr': 514,\n",
       " '1_3_41_24hr': 515,\n",
       " '1_3_42_24hr': 516,\n",
       " '1_3_43_24hr': 517,\n",
       " '1_3_44_24hr': 518,\n",
       " '1_3_45_24hr': 519,\n",
       " '1_3_46_24hr': 520,\n",
       " '1_3_47_24hr': 521,\n",
       " '1_3_48_24hr': 522,\n",
       " '1_3_49_24hr': 523,\n",
       " '2_3_1_24hr': 524,\n",
       " '2_3_2_24hr': 525,\n",
       " '2_3_3_24hr': 526,\n",
       " '2_3_4_24hr': 527,\n",
       " '2_3_5_24hr': 528,\n",
       " '2_3_6_24hr': 529,\n",
       " '2_3_7_24hr': 530,\n",
       " '2_3_8_24hr': 531,\n",
       " '2_3_9_24hr': 532,\n",
       " '2_3_10_24hr': 533,\n",
       " '2_3_11_24hr': 534,\n",
       " '2_3_12_24hr': 535,\n",
       " '2_3_13_24hr': 536,\n",
       " '2_3_14_24hr': 537,\n",
       " '2_3_15_24hr': 538,\n",
       " '2_3_16_24hr': 539,\n",
       " '2_3_17_24hr': 540,\n",
       " '2_3_18_24hr': 541,\n",
       " '2_3_19_24hr': 542,\n",
       " '2_3_20_24hr': 543,\n",
       " '2_3_21_24hr': 544,\n",
       " '2_3_22_24hr': 545,\n",
       " '2_3_23_24hr': 546,\n",
       " '2_3_24_24hr': 547,\n",
       " '2_3_25_24hr': 548,\n",
       " '2_3_26_24hr': 549,\n",
       " '2_3_27_24hr': 550,\n",
       " '2_3_28_24hr': 551,\n",
       " '2_3_29_24hr': 552,\n",
       " '2_3_30_24hr': 553,\n",
       " '2_3_31_24hr': 554,\n",
       " '2_3_32_24hr': 555,\n",
       " '2_3_33_24hr': 556,\n",
       " '2_3_34_24hr': 557,\n",
       " '2_3_35_24hr': 558,\n",
       " '2_3_36_24hr': 559,\n",
       " '2_3_37_24hr': 560,\n",
       " '2_3_38_24hr': 561,\n",
       " '2_3_39_24hr': 562,\n",
       " '2_3_40_24hr': 563,\n",
       " '2_3_41_24hr': 564,\n",
       " '2_3_42_24hr': 565,\n",
       " '2_3_43_24hr': 566,\n",
       " '2_3_44_24hr': 567,\n",
       " '3_3_1_24hr': 568,\n",
       " '3_3_2_24hr': 569,\n",
       " '3_3_3_24hr': 570,\n",
       " '3_3_4_24hr': 571,\n",
       " '3_3_5_24hr': 572,\n",
       " '3_3_6_24hr': 573,\n",
       " '3_3_7_24hr': 574,\n",
       " '3_3_8_24hr': 575,\n",
       " '3_3_9_24hr': 576,\n",
       " '3_3_10_24hr': 577,\n",
       " '3_3_11_24hr': 578,\n",
       " '3_3_12_24hr': 579,\n",
       " '3_3_13_24hr': 580,\n",
       " '3_3_14_24hr': 581,\n",
       " '3_3_15_24hr': 582,\n",
       " '3_3_16_24hr': 583,\n",
       " '3_3_17_24hr': 584,\n",
       " '3_3_18_24hr': 585,\n",
       " '3_3_19_24hr': 586,\n",
       " '3_3_20_24hr': 587,\n",
       " '3_3_21_24hr': 588,\n",
       " '3_3_22_24hr': 589,\n",
       " '3_3_23_24hr': 590,\n",
       " '3_3_24_24hr': 591,\n",
       " '3_3_25_24hr': 592,\n",
       " '3_3_26_24hr': 593,\n",
       " '3_3_27_24hr': 594,\n",
       " '3_3_28_24hr': 595,\n",
       " '3_3_29_24hr': 596,\n",
       " '3_3_30_24hr': 597,\n",
       " '3_3_31_24hr': 598,\n",
       " '3_3_32_24hr': 599,\n",
       " '3_3_33_24hr': 600,\n",
       " '3_3_34_24hr': 601,\n",
       " '4_3_1_24hr': 602,\n",
       " '4_3_2_24hr': 603,\n",
       " '4_3_3_24hr': 604,\n",
       " '4_3_4_24hr': 605,\n",
       " '4_3_5_24hr': 606,\n",
       " '4_3_6_24hr': 607,\n",
       " '4_3_7_24hr': 608,\n",
       " '4_3_8_24hr': 609,\n",
       " '4_3_9_24hr': 610,\n",
       " '4_3_10_24hr': 611,\n",
       " '4_3_11_24hr': 612,\n",
       " '4_3_12_24hr': 613,\n",
       " '4_3_13_24hr': 614,\n",
       " '4_3_14_24hr': 615,\n",
       " '4_3_15_24hr': 616,\n",
       " '4_3_16_24hr': 617,\n",
       " '4_3_17_24hr': 618,\n",
       " '4_3_18_24hr': 619,\n",
       " '4_3_19_24hr': 620,\n",
       " '4_3_20_24hr': 621,\n",
       " '4_3_21_24hr': 622,\n",
       " '4_3_22_24hr': 623,\n",
       " '4_3_23_24hr': 624,\n",
       " '4_3_24_24hr': 625,\n",
       " '4_3_25_24hr': 626,\n",
       " '4_3_26_24hr': 627,\n",
       " '4_3_27_24hr': 628,\n",
       " '4_3_28_24hr': 629,\n",
       " '4_3_29_24hr': 630,\n",
       " '4_3_30_24hr': 631,\n",
       " '4_3_31_24hr': 632,\n",
       " '4_3_32_24hr': 633,\n",
       " '4_3_33_24hr': 634,\n",
       " '4_3_34_24hr': 635,\n",
       " '4_3_35_24hr': 636,\n",
       " '4_3_36_24hr': 637,\n",
       " '4_3_37_24hr': 638,\n",
       " '4_3_38_24hr': 639,\n",
       " '4_3_39_24hr': 640,\n",
       " '4_3_40_24hr': 641,\n",
       " '5_3_1_24hr': 642,\n",
       " '5_3_2_24hr': 643,\n",
       " '5_3_3_24hr': 644,\n",
       " '5_3_4_24hr': 645,\n",
       " '5_3_5_24hr': 646,\n",
       " '5_3_6_24hr': 647,\n",
       " '5_3_7_24hr': 648,\n",
       " '5_3_8_24hr': 649,\n",
       " '5_3_9_24hr': 650,\n",
       " '5_3_10_24hr': 651,\n",
       " '5_3_11_24hr': 652,\n",
       " '5_3_12_24hr': 653,\n",
       " '5_3_13_24hr': 654,\n",
       " '5_3_14_24hr': 655,\n",
       " '5_3_15_24hr': 656,\n",
       " '5_3_16_24hr': 657,\n",
       " '5_3_17_24hr': 658,\n",
       " '5_3_18_24hr': 659,\n",
       " '5_3_19_24hr': 660,\n",
       " '5_3_20_24hr': 661,\n",
       " '5_3_21_24hr': 662,\n",
       " '5_3_22_24hr': 663,\n",
       " '5_3_23_24hr': 664,\n",
       " '5_3_24_24hr': 665,\n",
       " '5_3_25_24hr': 666,\n",
       " '5_3_26_24hr': 667,\n",
       " '5_3_27_24hr': 668,\n",
       " '5_3_28_24hr': 669,\n",
       " '5_3_29_24hr': 670,\n",
       " '5_3_30_24hr': 671,\n",
       " '5_3_31_24hr': 672,\n",
       " '5_3_32_24hr': 673,\n",
       " '5_3_33_24hr': 674,\n",
       " '5_3_34_24hr': 675,\n",
       " '5_3_35_24hr': 676,\n",
       " '5_3_36_24hr': 677,\n",
       " '5_3_37_24hr': 678,\n",
       " '5_3_38_24hr': 679,\n",
       " '5_3_39_24hr': 680,\n",
       " '5_3_40_24hr': 681,\n",
       " '5_3_41_24hr': 682,\n",
       " '5_3_42_24hr': 683,\n",
       " '5_3_43_24hr': 684,\n",
       " '5_3_44_24hr': 685,\n",
       " '5_3_45_24hr': 686,\n",
       " '5_3_46_24hr': 687,\n",
       " '5_3_47_24hr': 688,\n",
       " '5_3_48_24hr': 689,\n",
       " '5_3_49_24hr': 690,\n",
       " '5_3_50_24hr': 691,\n",
       " '5_3_51_24hr': 692,\n",
       " '5_3_52_24hr': 693,\n",
       " '5_3_53_24hr': 694,\n",
       " '5_3_54_24hr': 695,\n",
       " '5_3_55_24hr': 696,\n",
       " '5_3_56_24hr': 697,\n",
       " '5_3_57_24hr': 698,\n",
       " '5_3_58_24hr': 699,\n",
       " '5_3_59_24hr': 700,\n",
       " '5_3_60_24hr': 701,\n",
       " '5_3_61_24hr': 702,\n",
       " '5_3_62_24hr': 703,\n",
       " '5_3_63_24hr': 704,\n",
       " '5_3_64_24hr': 705,\n",
       " '5_3_65_24hr': 706,\n",
       " '5_3_66_24hr': 707,\n",
       " '5_3_67_24hr': 708,\n",
       " '5_3_68_24hr': 709,\n",
       " '5_3_69_24hr': 710,\n",
       " '5_3_70_24hr': 711,\n",
       " '5_3_71_24hr': 712,\n",
       " '5_3_72_24hr': 713,\n",
       " '6_3_1_24hr': 714,\n",
       " '6_3_2_24hr': 715,\n",
       " '6_3_3_24hr': 716,\n",
       " '6_3_4_24hr': 717,\n",
       " '6_3_5_24hr': 718,\n",
       " '6_3_6_24hr': 719,\n",
       " '6_3_7_24hr': 720,\n",
       " '6_3_8_24hr': 721,\n",
       " '6_3_9_24hr': 722,\n",
       " '6_3_10_24hr': 723,\n",
       " '6_3_11_24hr': 724,\n",
       " '6_3_12_24hr': 725,\n",
       " '6_3_13_24hr': 726,\n",
       " '6_3_14_24hr': 727,\n",
       " '6_3_15_24hr': 728,\n",
       " '6_3_16_24hr': 729,\n",
       " '6_3_17_24hr': 730,\n",
       " '6_3_18_24hr': 731,\n",
       " '6_3_19_24hr': 732,\n",
       " '6_3_20_24hr': 733,\n",
       " '6_3_21_24hr': 734,\n",
       " '6_3_22_24hr': 735,\n",
       " '6_3_23_24hr': 736,\n",
       " '6_3_24_24hr': 737,\n",
       " '6_3_25_24hr': 738,\n",
       " '6_3_26_24hr': 739,\n",
       " '6_3_27_24hr': 740,\n",
       " '6_3_28_24hr': 741,\n",
       " '6_3_29_24hr': 742,\n",
       " '6_3_30_24hr': 743,\n",
       " '6_3_31_24hr': 744,\n",
       " '6_3_32_24hr': 745,\n",
       " '7_3_1_24hr': 746,\n",
       " '7_3_2_24hr': 747,\n",
       " '7_3_3_24hr': 748,\n",
       " '7_3_4_24hr': 749,\n",
       " '7_3_5_24hr': 750,\n",
       " '7_3_6_24hr': 751,\n",
       " '7_3_7_24hr': 752,\n",
       " '7_3_8_24hr': 753,\n",
       " '7_3_9_24hr': 754,\n",
       " '7_3_10_24hr': 755,\n",
       " '7_3_11_24hr': 756,\n",
       " '7_3_12_24hr': 757,\n",
       " '7_3_13_24hr': 758,\n",
       " '7_3_14_24hr': 759,\n",
       " '7_3_15_24hr': 760,\n",
       " '7_3_16_24hr': 761,\n",
       " '7_3_17_24hr': 762,\n",
       " '7_3_18_24hr': 763,\n",
       " '7_3_19_24hr': 764,\n",
       " '7_3_20_24hr': 765,\n",
       " '7_3_21_24hr': 766,\n",
       " '7_3_22_24hr': 767,\n",
       " '7_3_23_24hr': 768,\n",
       " '7_3_24_24hr': 769,\n",
       " '7_3_25_24hr': 770,\n",
       " '7_3_26_24hr': 771,\n",
       " '7_3_27_24hr': 772,\n",
       " '7_3_28_24hr': 773,\n",
       " '7_3_29_24hr': 774,\n",
       " '7_3_30_24hr': 775,\n",
       " '7_3_31_24hr': 776,\n",
       " '7_3_32_24hr': 777,\n",
       " '7_3_33_24hr': 778,\n",
       " '7_3_34_24hr': 779,\n",
       " '7_3_35_24hr': 780,\n",
       " '7_3_36_24hr': 781,\n",
       " '8_3_1_24hr': 782,\n",
       " '8_3_2_24hr': 783,\n",
       " '8_3_3_24hr': 784,\n",
       " '8_3_4_24hr': 785,\n",
       " '8_3_5_24hr': 786,\n",
       " '8_3_6_24hr': 787,\n",
       " '8_3_7_24hr': 788,\n",
       " '8_3_8_24hr': 789,\n",
       " '8_3_9_24hr': 790,\n",
       " '8_3_10_24hr': 791,\n",
       " '8_3_11_24hr': 792,\n",
       " '8_3_12_24hr': 793,\n",
       " '8_3_13_24hr': 794,\n",
       " '8_3_14_24hr': 795,\n",
       " '8_3_15_24hr': 796,\n",
       " '8_3_16_24hr': 797,\n",
       " '8_3_17_24hr': 798,\n",
       " '8_3_18_24hr': 799,\n",
       " '8_3_19_24hr': 800,\n",
       " '8_3_20_24hr': 801,\n",
       " '8_3_21_24hr': 802,\n",
       " '8_3_22_24hr': 803,\n",
       " '8_3_23_24hr': 804,\n",
       " '8_3_24_24hr': 805,\n",
       " '8_3_25_24hr': 806,\n",
       " '8_3_26_24hr': 807,\n",
       " '8_3_27_24hr': 808,\n",
       " '8_3_28_24hr': 809,\n",
       " '8_3_29_24hr': 810,\n",
       " '8_3_30_24hr': 811,\n",
       " '8_3_31_24hr': 812,\n",
       " '8_3_32_24hr': 813,\n",
       " '8_3_33_24hr': 814,\n",
       " '8_3_34_24hr': 815,\n",
       " '8_3_35_24hr': 816,\n",
       " '8_3_36_24hr': 817,\n",
       " '8_3_37_24hr': 818,\n",
       " '8_3_38_24hr': 819,\n",
       " '8_3_39_24hr': 820,\n",
       " '8_3_40_24hr': 821,\n",
       " '8_3_41_24hr': 822,\n",
       " '8_3_42_24hr': 823,\n",
       " '8_3_43_24hr': 824,\n",
       " '8_3_44_24hr': 825,\n",
       " '8_3_45_24hr': 826,\n",
       " '9_3_1_24hr': 827,\n",
       " '9_3_2_24hr': 828,\n",
       " '9_3_3_24hr': 829,\n",
       " '9_3_4_24hr': 830,\n",
       " '9_3_5_24hr': 831,\n",
       " '9_3_6_24hr': 832,\n",
       " '9_3_7_24hr': 833,\n",
       " '9_3_8_24hr': 834,\n",
       " '9_3_9_24hr': 835,\n",
       " '9_3_10_24hr': 836,\n",
       " '9_3_11_24hr': 837,\n",
       " '9_3_12_24hr': 838,\n",
       " '9_3_13_24hr': 839,\n",
       " '9_3_14_24hr': 840,\n",
       " '9_3_15_24hr': 841,\n",
       " '9_3_16_24hr': 842,\n",
       " '9_3_17_24hr': 843,\n",
       " '9_3_18_24hr': 844,\n",
       " '9_3_19_24hr': 845,\n",
       " '9_3_20_24hr': 846,\n",
       " '9_3_21_24hr': 847,\n",
       " '9_3_22_24hr': 848,\n",
       " '9_3_23_24hr': 849,\n",
       " '9_3_24_24hr': 850,\n",
       " '9_3_25_24hr': 851,\n",
       " '9_3_26_24hr': 852,\n",
       " '9_3_27_24hr': 853,\n",
       " '9_3_28_24hr': 854,\n",
       " '9_3_29_24hr': 855,\n",
       " '9_3_30_24hr': 856,\n",
       " '9_3_31_24hr': 857,\n",
       " '9_3_32_24hr': 858,\n",
       " '9_3_33_24hr': 859,\n",
       " '9_3_34_24hr': 860,\n",
       " '9_3_35_24hr': 861,\n",
       " '0_3_1_48hr': 862,\n",
       " '0_3_2_48hr': 863,\n",
       " '0_3_3_48hr': 864,\n",
       " '0_3_4_48hr': 865,\n",
       " '0_3_5_48hr': 866,\n",
       " '0_3_6_48hr': 867,\n",
       " '0_3_7_48hr': 868,\n",
       " '0_3_8_48hr': 869,\n",
       " '0_3_9_48hr': 870,\n",
       " '0_3_10_48hr': 871,\n",
       " '0_3_11_48hr': 872,\n",
       " '0_3_12_48hr': 873,\n",
       " '0_3_13_48hr': 874,\n",
       " '0_3_14_48hr': 875,\n",
       " '0_3_15_48hr': 876,\n",
       " '0_3_16_48hr': 877,\n",
       " '0_3_17_48hr': 878,\n",
       " '0_3_18_48hr': 879,\n",
       " '0_3_19_48hr': 880,\n",
       " '0_3_20_48hr': 881,\n",
       " '0_3_21_48hr': 882,\n",
       " '0_3_22_48hr': 883,\n",
       " '0_3_23_48hr': 884,\n",
       " '0_3_24_48hr': 885,\n",
       " '0_3_25_48hr': 886,\n",
       " '0_3_26_48hr': 887,\n",
       " '0_3_27_48hr': 888,\n",
       " '0_3_28_48hr': 889,\n",
       " '1_3_1_48hr': 890,\n",
       " '1_3_2_48hr': 891,\n",
       " '1_3_3_48hr': 892,\n",
       " '1_3_4_48hr': 893,\n",
       " '1_3_5_48hr': 894,\n",
       " '1_3_6_48hr': 895,\n",
       " '1_3_7_48hr': 896,\n",
       " '1_3_8_48hr': 897,\n",
       " '1_3_9_48hr': 898,\n",
       " '1_3_10_48hr': 899,\n",
       " '1_3_11_48hr': 900,\n",
       " '1_3_12_48hr': 901,\n",
       " '1_3_13_48hr': 902,\n",
       " '1_3_14_48hr': 903,\n",
       " '1_3_15_48hr': 904,\n",
       " '1_3_16_48hr': 905,\n",
       " '1_3_17_48hr': 906,\n",
       " '1_3_18_48hr': 907,\n",
       " '1_3_19_48hr': 908,\n",
       " '1_3_20_48hr': 909,\n",
       " '1_3_21_48hr': 910,\n",
       " '1_3_22_48hr': 911,\n",
       " '1_3_23_48hr': 912,\n",
       " '1_3_24_48hr': 913,\n",
       " '1_3_25_48hr': 914,\n",
       " '1_3_26_48hr': 915,\n",
       " '1_3_27_48hr': 916,\n",
       " '1_3_28_48hr': 917,\n",
       " '1_3_29_48hr': 918,\n",
       " '1_3_30_48hr': 919,\n",
       " '2_3_1_48hr': 920,\n",
       " '2_3_2_48hr': 921,\n",
       " '2_3_3_48hr': 922,\n",
       " '2_3_4_48hr': 923,\n",
       " '2_3_5_48hr': 924,\n",
       " '2_3_6_48hr': 925,\n",
       " '2_3_7_48hr': 926,\n",
       " '2_3_8_48hr': 927,\n",
       " '2_3_9_48hr': 928,\n",
       " '2_3_10_48hr': 929,\n",
       " '2_3_11_48hr': 930,\n",
       " '2_3_12_48hr': 931,\n",
       " '2_3_13_48hr': 932,\n",
       " '2_3_14_48hr': 933,\n",
       " '2_3_15_48hr': 934,\n",
       " '2_3_16_48hr': 935,\n",
       " '2_3_17_48hr': 936,\n",
       " '2_3_18_48hr': 937,\n",
       " '2_3_19_48hr': 938,\n",
       " '2_3_20_48hr': 939,\n",
       " '2_3_21_48hr': 940,\n",
       " '2_3_22_48hr': 941,\n",
       " '2_3_23_48hr': 942,\n",
       " '2_3_24_48hr': 943,\n",
       " '2_3_25_48hr': 944,\n",
       " '2_3_26_48hr': 945,\n",
       " '3_3_1_48hr': 946,\n",
       " '3_3_2_48hr': 947,\n",
       " '3_3_3_48hr': 948,\n",
       " '3_3_4_48hr': 949,\n",
       " '3_3_5_48hr': 950,\n",
       " '3_3_6_48hr': 951,\n",
       " '3_3_7_48hr': 952,\n",
       " '3_3_8_48hr': 953,\n",
       " '3_3_9_48hr': 954,\n",
       " '3_3_10_48hr': 955,\n",
       " '3_3_11_48hr': 956,\n",
       " '3_3_12_48hr': 957,\n",
       " '3_3_13_48hr': 958,\n",
       " '3_3_14_48hr': 959,\n",
       " '3_3_15_48hr': 960,\n",
       " '3_3_16_48hr': 961,\n",
       " '3_3_17_48hr': 962,\n",
       " '3_3_18_48hr': 963,\n",
       " '3_3_19_48hr': 964,\n",
       " '3_3_20_48hr': 965,\n",
       " '3_3_21_48hr': 966,\n",
       " '3_3_22_48hr': 967,\n",
       " '3_3_23_48hr': 968,\n",
       " '3_3_24_48hr': 969,\n",
       " '4_3_1_48hr': 970,\n",
       " '4_3_2_48hr': 971,\n",
       " '4_3_3_48hr': 972,\n",
       " '4_3_4_48hr': 973,\n",
       " '4_3_5_48hr': 974,\n",
       " '4_3_6_48hr': 975,\n",
       " '4_3_7_48hr': 976,\n",
       " '4_3_8_48hr': 977,\n",
       " '4_3_9_48hr': 978,\n",
       " '4_3_10_48hr': 979,\n",
       " '4_3_11_48hr': 980,\n",
       " '4_3_12_48hr': 981,\n",
       " '4_3_13_48hr': 982,\n",
       " '5_3_1_48hr': 983,\n",
       " '5_3_2_48hr': 984,\n",
       " '5_3_3_48hr': 985,\n",
       " '5_3_4_48hr': 986,\n",
       " '5_3_5_48hr': 987,\n",
       " '5_3_6_48hr': 988,\n",
       " '5_3_7_48hr': 989,\n",
       " '5_3_8_48hr': 990,\n",
       " '5_3_9_48hr': 991,\n",
       " '5_3_10_48hr': 992,\n",
       " '5_3_11_48hr': 993,\n",
       " '5_3_12_48hr': 994,\n",
       " '5_3_13_48hr': 995,\n",
       " '5_3_14_48hr': 996,\n",
       " '5_3_15_48hr': 997,\n",
       " '5_3_16_48hr': 998,\n",
       " '5_3_17_48hr': 999,\n",
       " ...}"
      ]
     },
     "execution_count": 13,
     "metadata": {},
     "output_type": "execute_result"
    }
   ],
   "source": [
    "chrom_ids_to_index_dict"
   ]
  },
  {
   "cell_type": "code",
   "execution_count": 14,
   "id": "154fd282",
   "metadata": {
    "ExecuteTime": {
     "end_time": "2024-04-27T13:28:15.168392Z",
     "start_time": "2024-04-27T13:28:15.163553Z"
    }
   },
   "outputs": [],
   "source": [
    "all_cell_dna_list=data['dna_zxys']"
   ]
  },
  {
   "cell_type": "code",
   "execution_count": 15,
   "id": "6a20038a",
   "metadata": {
    "ExecuteTime": {
     "end_time": "2024-04-27T13:28:21.041681Z",
     "start_time": "2024-04-27T13:28:20.693683Z"
    }
   },
   "outputs": [],
   "source": [
    "num_cells = len(chrom_ids_to_index_dict)\n",
    "num_chromosomes = len(chr_name_list)\n",
    "\n",
    "len_num = 60\n",
    "\n",
    "# 初始化结构，每个cell有一个列表，列表中有num_chromosomes个元素\n",
    "max_all_cell_dna_list = [[] for _ in range(num_cells)]\n",
    "min_all_cell_dna_list = [[] for _ in range(num_cells)]\n",
    "max_all_cell_dna_list_not_missing_rate = [[] for _ in range(num_cells)]\n",
    "min_all_cell_dna_list_not_missing_rate = [[] for _ in range(num_cells)]\n",
    "choice_list = [[] for _ in range(num_cells)]  # 新增列表用于记录选择的是0还是1\n",
    "\n",
    "# 遍历每个cell和其对应的染色体\n",
    "for cell_index, (one_cell_name, one_cell_ids) in enumerate(chrom_ids_to_index_dict.items()):\n",
    "    for chr_ids, chr_name in enumerate(chr_name_list):\n",
    "        # 计算非缺失率\n",
    "        not_nan_sum_0 = np.sum(~np.isnan(all_cell_dna_list[one_cell_ids][chr_ids][0])[:, 0])\n",
    "        not_nan_sum_1 = np.sum(~np.isnan(all_cell_dna_list[one_cell_ids][chr_ids][1])[:, 0])\n",
    "        not_missing_rate_0 = not_nan_sum_0 / len_num\n",
    "        not_missing_rate_1 = not_nan_sum_1 / len_num\n",
    "\n",
    "        # 根据非缺失率将数据存储到max或min列表中，并记录选择\n",
    "        if not_missing_rate_0 > not_missing_rate_1:\n",
    "            max_all_cell_dna_list[cell_index].append(all_cell_dna_list[one_cell_ids][chr_ids][0])\n",
    "            max_all_cell_dna_list_not_missing_rate[cell_index].append(not_missing_rate_0)\n",
    "            min_all_cell_dna_list[cell_index].append(all_cell_dna_list[one_cell_ids][chr_ids][1])\n",
    "            min_all_cell_dna_list_not_missing_rate[cell_index].append(not_missing_rate_1)\n",
    "            choice_list[cell_index].append(0)\n",
    "        else:\n",
    "            max_all_cell_dna_list[cell_index].append(all_cell_dna_list[one_cell_ids][chr_ids][1])\n",
    "            max_all_cell_dna_list_not_missing_rate[cell_index].append(not_missing_rate_1)\n",
    "            min_all_cell_dna_list[cell_index].append(all_cell_dna_list[one_cell_ids][chr_ids][0])\n",
    "            min_all_cell_dna_list_not_missing_rate[cell_index].append(not_missing_rate_0)\n",
    "            choice_list[cell_index].append(1)\n"
   ]
  },
  {
   "cell_type": "markdown",
   "id": "28559bfb",
   "metadata": {},
   "source": [
    "### store have_max_min_info_data"
   ]
  },
  {
   "cell_type": "code",
   "execution_count": 51,
   "id": "147f6502",
   "metadata": {
    "ExecuteTime": {
     "end_time": "2024-04-27T13:41:30.159889Z",
     "start_time": "2024-04-27T13:41:28.445828Z"
    }
   },
   "outputs": [],
   "source": [
    "import copy\n",
    "\n",
    "# 创建data的深拷贝\n",
    "have_max_min_info_data = copy.deepcopy(data)\n",
    "\n",
    "# 将计算出来的信息添加到have_max_min_info_data字典中\n",
    "have_max_min_info_data['max_all_cell_dna_list'] = max_all_cell_dna_list\n",
    "have_max_min_info_data['min_all_cell_dna_list'] = min_all_cell_dna_list\n",
    "have_max_min_info_data['max_all_cell_dna_list_not_missing_rate'] = max_all_cell_dna_list_not_missing_rate\n",
    "have_max_min_info_data['min_all_cell_dna_list_not_missing_rate'] = min_all_cell_dna_list_not_missing_rate\n",
    "have_max_min_info_data['choice_list'] = choice_list\n",
    "\n",
    "# 现在have_max_min_info_data包含了原始数据以及新计算出来的信息\n",
    "temp_path=os.path.join(current_probe_data_dir,r\"have_max_min_info_data.pkl\")\n",
    "basic.store_variable_from_pikle_file(temp_path,have_max_min_info_data)"
   ]
  },
  {
   "cell_type": "markdown",
   "id": "0762cef7",
   "metadata": {},
   "source": [
    "## generate first seen probe data"
   ]
  },
  {
   "cell_type": "code",
   "execution_count": 52,
   "id": "dfedca01",
   "metadata": {
    "ExecuteTime": {
     "end_time": "2024-04-27T13:41:33.976940Z",
     "start_time": "2024-04-27T13:41:33.772996Z"
    }
   },
   "outputs": [],
   "source": [
    "first_seen_probe_data=copy.deepcopy(data)"
   ]
  },
  {
   "cell_type": "code",
   "execution_count": 53,
   "id": "8107945f",
   "metadata": {
    "ExecuteTime": {
     "end_time": "2024-04-27T13:41:35.953966Z",
     "start_time": "2024-04-27T13:41:35.948120Z"
    }
   },
   "outputs": [],
   "source": [
    "first_seen_probe_data['all_cell_dna_list']=max_all_cell_dna_list"
   ]
  },
  {
   "cell_type": "code",
   "execution_count": 54,
   "id": "13cff99b",
   "metadata": {
    "ExecuteTime": {
     "end_time": "2024-04-27T13:41:36.900102Z",
     "start_time": "2024-04-27T13:41:36.892888Z"
    }
   },
   "outputs": [],
   "source": [
    "first_seen_probe_data['chrom_ids_to_index_dict']=chrom_ids_to_index_dict\n",
    "\n",
    "first_seen_probe_data['chrom_index_to_ids_dict']=chrom_index_to_ids_dict\n",
    "first_seen_probe_data['chr_name_list']=chr_name_list\n",
    "first_seen_probe_data['cell_name_array']=cell_name_array\n",
    "first_seen_probe_data['cell_name_list']=cell_name_list"
   ]
  },
  {
   "cell_type": "markdown",
   "id": "fc4dbfff",
   "metadata": {},
   "source": [
    "### each_chr_missing_rate_df"
   ]
  },
  {
   "cell_type": "code",
   "execution_count": 55,
   "id": "7fe09644",
   "metadata": {
    "ExecuteTime": {
     "end_time": "2024-04-27T13:41:49.703211Z",
     "start_time": "2024-04-27T13:41:49.502732Z"
    }
   },
   "outputs": [
    {
     "name": "stderr",
     "output_type": "stream",
     "text": [
      "1143it [00:00, 7138.98it/s]\n"
     ]
    }
   ],
   "source": [
    "from tqdm import tqdm\n",
    "\n",
    "# 初始化存储结果的列表\n",
    "result_list = []\n",
    "\n",
    "# 使用tqdm库来显示进度条\n",
    "for cell_index, (one_cell_name, one_cell_ids) in tqdm(enumerate(chrom_ids_to_index_dict.items())):\n",
    "    for chr_index, chr_name in enumerate(chr_name_list):\n",
    "        # 获取当前cell和染色体的DNA数据\n",
    "        dna_data = max_all_cell_dna_list[cell_index][chr_index]\n",
    "        \n",
    "        # 计算总探针数量和NaN探针数量\n",
    "        total_probe_number = len(dna_data)\n",
    "        nan_probe_number = np.sum(np.isnan(dna_data)[:,0])\n",
    "        \n",
    "        # 计算缺失率\n",
    "        missing_rate = nan_probe_number / total_probe_number if total_probe_number else np.nan\n",
    "        \n",
    "        # 将结果存储到列表中\n",
    "        result_list.append({\n",
    "            'cell_name': one_cell_name,\n",
    "            'chr_name': chr_name,\n",
    "            'total_probe_number': total_probe_number,\n",
    "            'nan_probe_number': nan_probe_number,\n",
    "            'missing_rate': missing_rate\n",
    "        })\n",
    "\n",
    "df_columns = ['cell_name', 'chr_name', 'total_probe_number', 'nan_probe_number', 'missing_rate']\n",
    "each_chr_missing_rate_df = pd.DataFrame(result_list, columns=df_columns)\n"
   ]
  },
  {
   "cell_type": "code",
   "execution_count": 56,
   "id": "71683225",
   "metadata": {
    "ExecuteTime": {
     "end_time": "2024-04-27T13:41:52.870157Z",
     "start_time": "2024-04-27T13:41:52.832299Z"
    },
    "scrolled": true
   },
   "outputs": [
    {
     "data": {
      "text/html": [
       "<div>\n",
       "<style scoped>\n",
       "    .dataframe tbody tr th:only-of-type {\n",
       "        vertical-align: middle;\n",
       "    }\n",
       "\n",
       "    .dataframe tbody tr th {\n",
       "        vertical-align: top;\n",
       "    }\n",
       "\n",
       "    .dataframe thead th {\n",
       "        text-align: right;\n",
       "    }\n",
       "</style>\n",
       "<table border=\"1\" class=\"dataframe\">\n",
       "  <thead>\n",
       "    <tr style=\"text-align: right;\">\n",
       "      <th></th>\n",
       "      <th>cell_name</th>\n",
       "      <th>chr_name</th>\n",
       "      <th>total_probe_number</th>\n",
       "      <th>nan_probe_number</th>\n",
       "      <th>missing_rate</th>\n",
       "    </tr>\n",
       "  </thead>\n",
       "  <tbody>\n",
       "    <tr>\n",
       "      <th>0</th>\n",
       "      <td>0_3_1_rep1</td>\n",
       "      <td>chr1</td>\n",
       "      <td>60</td>\n",
       "      <td>19</td>\n",
       "      <td>0.316667</td>\n",
       "    </tr>\n",
       "    <tr>\n",
       "      <th>1</th>\n",
       "      <td>0_3_1_rep1</td>\n",
       "      <td>chr2</td>\n",
       "      <td>60</td>\n",
       "      <td>16</td>\n",
       "      <td>0.266667</td>\n",
       "    </tr>\n",
       "    <tr>\n",
       "      <th>2</th>\n",
       "      <td>0_3_1_rep1</td>\n",
       "      <td>chr3</td>\n",
       "      <td>60</td>\n",
       "      <td>16</td>\n",
       "      <td>0.266667</td>\n",
       "    </tr>\n",
       "    <tr>\n",
       "      <th>3</th>\n",
       "      <td>0_3_1_rep1</td>\n",
       "      <td>chr4</td>\n",
       "      <td>60</td>\n",
       "      <td>16</td>\n",
       "      <td>0.266667</td>\n",
       "    </tr>\n",
       "    <tr>\n",
       "      <th>4</th>\n",
       "      <td>0_3_1_rep1</td>\n",
       "      <td>chr5</td>\n",
       "      <td>60</td>\n",
       "      <td>10</td>\n",
       "      <td>0.166667</td>\n",
       "    </tr>\n",
       "    <tr>\n",
       "      <th>...</th>\n",
       "      <td>...</td>\n",
       "      <td>...</td>\n",
       "      <td>...</td>\n",
       "      <td>...</td>\n",
       "      <td>...</td>\n",
       "    </tr>\n",
       "    <tr>\n",
       "      <th>22855</th>\n",
       "      <td>7_3_79_48hr</td>\n",
       "      <td>chr16</td>\n",
       "      <td>60</td>\n",
       "      <td>29</td>\n",
       "      <td>0.483333</td>\n",
       "    </tr>\n",
       "    <tr>\n",
       "      <th>22856</th>\n",
       "      <td>7_3_79_48hr</td>\n",
       "      <td>chr17</td>\n",
       "      <td>60</td>\n",
       "      <td>21</td>\n",
       "      <td>0.350000</td>\n",
       "    </tr>\n",
       "    <tr>\n",
       "      <th>22857</th>\n",
       "      <td>7_3_79_48hr</td>\n",
       "      <td>chr18</td>\n",
       "      <td>60</td>\n",
       "      <td>21</td>\n",
       "      <td>0.350000</td>\n",
       "    </tr>\n",
       "    <tr>\n",
       "      <th>22858</th>\n",
       "      <td>7_3_79_48hr</td>\n",
       "      <td>chr19</td>\n",
       "      <td>60</td>\n",
       "      <td>15</td>\n",
       "      <td>0.250000</td>\n",
       "    </tr>\n",
       "    <tr>\n",
       "      <th>22859</th>\n",
       "      <td>7_3_79_48hr</td>\n",
       "      <td>chrX</td>\n",
       "      <td>60</td>\n",
       "      <td>7</td>\n",
       "      <td>0.116667</td>\n",
       "    </tr>\n",
       "  </tbody>\n",
       "</table>\n",
       "<p>22860 rows × 5 columns</p>\n",
       "</div>"
      ],
      "text/plain": [
       "         cell_name chr_name  total_probe_number  nan_probe_number  \\\n",
       "0       0_3_1_rep1     chr1                  60                19   \n",
       "1       0_3_1_rep1     chr2                  60                16   \n",
       "2       0_3_1_rep1     chr3                  60                16   \n",
       "3       0_3_1_rep1     chr4                  60                16   \n",
       "4       0_3_1_rep1     chr5                  60                10   \n",
       "...            ...      ...                 ...               ...   \n",
       "22855  7_3_79_48hr    chr16                  60                29   \n",
       "22856  7_3_79_48hr    chr17                  60                21   \n",
       "22857  7_3_79_48hr    chr18                  60                21   \n",
       "22858  7_3_79_48hr    chr19                  60                15   \n",
       "22859  7_3_79_48hr     chrX                  60                 7   \n",
       "\n",
       "       missing_rate  \n",
       "0          0.316667  \n",
       "1          0.266667  \n",
       "2          0.266667  \n",
       "3          0.266667  \n",
       "4          0.166667  \n",
       "...             ...  \n",
       "22855      0.483333  \n",
       "22856      0.350000  \n",
       "22857      0.350000  \n",
       "22858      0.250000  \n",
       "22859      0.116667  \n",
       "\n",
       "[22860 rows x 5 columns]"
      ]
     },
     "execution_count": 56,
     "metadata": {},
     "output_type": "execute_result"
    }
   ],
   "source": [
    "each_chr_missing_rate_df"
   ]
  },
  {
   "cell_type": "code",
   "execution_count": 57,
   "id": "2286c9da",
   "metadata": {
    "ExecuteTime": {
     "end_time": "2024-04-27T13:42:00.491270Z",
     "start_time": "2024-04-27T13:42:00.473812Z"
    }
   },
   "outputs": [],
   "source": [
    "missing_rate_df = each_chr_missing_rate_df.set_index(['cell_name', 'chr_name'])"
   ]
  },
  {
   "cell_type": "code",
   "execution_count": 58,
   "id": "23978268",
   "metadata": {
    "ExecuteTime": {
     "end_time": "2024-04-27T13:42:01.154750Z",
     "start_time": "2024-04-27T13:42:01.149464Z"
    }
   },
   "outputs": [],
   "source": [
    "first_seen_probe_data['each_chr_missing_rate_df']=each_chr_missing_rate_df\n",
    "first_seen_probe_data['missing_rate_df']=missing_rate_df"
   ]
  },
  {
   "cell_type": "markdown",
   "id": "3374486f",
   "metadata": {},
   "source": [
    "### generate chr_bin_len_dict"
   ]
  },
  {
   "cell_type": "code",
   "execution_count": 59,
   "id": "a54aeecb",
   "metadata": {
    "ExecuteTime": {
     "end_time": "2024-04-27T13:42:02.498564Z",
     "start_time": "2024-04-27T13:42:02.492750Z"
    }
   },
   "outputs": [],
   "source": [
    "chr_bin_length_dic={}\n",
    "for chr_name in chr_name_list:\n",
    "    chr_bin_length_dic[chr_name]=len_num\n",
    "first_seen_probe_data['chr_bin_length_dic']=chr_bin_length_dic"
   ]
  },
  {
   "cell_type": "markdown",
   "id": "79bd30cf",
   "metadata": {},
   "source": [
    "### generate cell_num"
   ]
  },
  {
   "cell_type": "code",
   "execution_count": 70,
   "id": "1e6f97ed",
   "metadata": {
    "ExecuteTime": {
     "end_time": "2024-04-27T13:43:24.175389Z",
     "start_time": "2024-04-27T13:43:24.169773Z"
    }
   },
   "outputs": [],
   "source": [
    "cell_number=len(first_seen_probe_data['chrom_ids'])"
   ]
  },
  {
   "cell_type": "code",
   "execution_count": 34,
   "id": "dc471e47",
   "metadata": {
    "ExecuteTime": {
     "end_time": "2024-04-27T13:37:25.699076Z",
     "start_time": "2024-04-27T13:37:25.691140Z"
    }
   },
   "outputs": [
    {
     "data": {
      "text/plain": [
       "1143"
      ]
     },
     "execution_count": 34,
     "metadata": {},
     "output_type": "execute_result"
    }
   ],
   "source": [
    "cell_number"
   ]
  },
  {
   "cell_type": "code",
   "execution_count": 71,
   "id": "7169949e",
   "metadata": {
    "ExecuteTime": {
     "end_time": "2024-04-27T13:43:25.981746Z",
     "start_time": "2024-04-27T13:43:25.976621Z"
    }
   },
   "outputs": [],
   "source": [
    "first_seen_probe_data['cell_number']=cell_number"
   ]
  },
  {
   "cell_type": "markdown",
   "id": "455b13dc",
   "metadata": {},
   "source": [
    "### generate cell type df"
   ]
  },
  {
   "cell_type": "code",
   "execution_count": 61,
   "id": "ca05df74",
   "metadata": {
    "ExecuteTime": {
     "end_time": "2024-04-27T13:42:06.812002Z",
     "start_time": "2024-04-27T13:42:06.806866Z"
    }
   },
   "outputs": [],
   "source": [
    "cluster_label_list=first_seen_probe_data['cluster_label']\n",
    "cluster_label_name_dict=first_seen_probe_data['cluster_label_name']"
   ]
  },
  {
   "cell_type": "code",
   "execution_count": 62,
   "id": "33732f23",
   "metadata": {
    "ExecuteTime": {
     "end_time": "2024-04-27T13:42:08.538666Z",
     "start_time": "2024-04-27T13:42:08.521611Z"
    }
   },
   "outputs": [],
   "source": [
    "result_list=[]\n",
    "for cell_index, label_idx in enumerate(cluster_label_list):\n",
    "    one_cell_name=chrom_index_to_ids_dict[cell_index]\n",
    "    cell_type=cluster_label_name_dict[label_idx]\n",
    "    result_list.append({\n",
    "    'cell_name': one_cell_name,\n",
    "    'cell_type': cell_type,\n",
    "})\n",
    "cell_type_df=pd.DataFrame(result_list)"
   ]
  },
  {
   "cell_type": "code",
   "execution_count": 63,
   "id": "02709124",
   "metadata": {
    "ExecuteTime": {
     "end_time": "2024-04-27T13:42:16.259626Z",
     "start_time": "2024-04-27T13:42:16.253735Z"
    }
   },
   "outputs": [],
   "source": [
    "cell_type_df.index=cell_type_df['cell_name']"
   ]
  },
  {
   "cell_type": "code",
   "execution_count": 64,
   "id": "852db165",
   "metadata": {
    "ExecuteTime": {
     "end_time": "2024-04-27T13:42:17.820655Z",
     "start_time": "2024-04-27T13:42:17.815718Z"
    }
   },
   "outputs": [],
   "source": [
    "first_seen_probe_data['cell_type_df']=cell_type_df"
   ]
  },
  {
   "cell_type": "code",
   "execution_count": 65,
   "id": "dc3a2554",
   "metadata": {
    "ExecuteTime": {
     "end_time": "2024-04-27T13:42:18.718577Z",
     "start_time": "2024-04-27T13:42:18.713445Z"
    }
   },
   "outputs": [],
   "source": [
    "adata_obs_df=cell_type_df\n",
    "first_seen_probe_data['adata_obs_df']=adata_obs_df"
   ]
  },
  {
   "cell_type": "code",
   "execution_count": null,
   "id": "390c5213",
   "metadata": {},
   "outputs": [],
   "source": []
  },
  {
   "cell_type": "markdown",
   "id": "549fe8b2",
   "metadata": {},
   "source": [
    "### generate spatial distance h5ad"
   ]
  },
  {
   "cell_type": "code",
   "execution_count": 66,
   "id": "7165069b",
   "metadata": {
    "ExecuteTime": {
     "end_time": "2024-04-27T13:42:23.616321Z",
     "start_time": "2024-04-27T13:42:23.610540Z"
    }
   },
   "outputs": [],
   "source": [
    "spaital_dist_suffix='spatial_dist'\n",
    "prxoimtiy_score_suffix='proximity_score'\n",
    "first_seen_probe_data['spaital_dist_suffix']=spaital_dist_suffix\n",
    "first_seen_probe_data['prxoimtiy_score_suffix']=prxoimtiy_score_suffix"
   ]
  },
  {
   "cell_type": "code",
   "execution_count": 67,
   "id": "625a80e5",
   "metadata": {
    "ExecuteTime": {
     "end_time": "2024-04-27T13:42:25.246569Z",
     "start_time": "2024-04-27T13:42:25.232715Z"
    }
   },
   "outputs": [
    {
     "name": "stdout",
     "output_type": "stream",
     "text": [
      "v5 similar FISH\n"
     ]
    },
    {
     "data": {
      "text/plain": [
       "<module 'ImputeHiFI_Algorithm_v5' from '/mnt/disk1/scfan/program/image_project/Cai_21_bioRxiv_Process/ImputHiFi/ImputeHiFI_Algorithm_v5.py'>"
      ]
     },
     "execution_count": 67,
     "metadata": {},
     "output_type": "execute_result"
    }
   ],
   "source": [
    "importlib.reload(ImputeHiFI)"
   ]
  },
  {
   "cell_type": "code",
   "execution_count": 96,
   "id": "10a837ea",
   "metadata": {
    "ExecuteTime": {
     "end_time": "2024-04-26T09:05:09.780565Z",
     "start_time": "2024-04-26T09:05:08.873219Z"
    }
   },
   "outputs": [],
   "source": [
    "first_seen_probe_data_path=os.path.join(first_seen_probe_data_dir,'first_seen_probe_data.pkl')\n",
    "basic.store_variable_from_pikle_file(first_seen_probe_data_path,first_seen_probe_data)"
   ]
  },
  {
   "cell_type": "code",
   "execution_count": null,
   "id": "d3eebc7f",
   "metadata": {},
   "outputs": [],
   "source": [
    "first_seen_probe_data_path=os.path.join(first_seen_probe_data_dir,'first_seen_probe_data.pkl')\n",
    "first_seen_probe_data=basic.load_variable_from_pikle_file(first_seen_probe_data_path)"
   ]
  },
  {
   "cell_type": "code",
   "execution_count": 72,
   "id": "fe7734c8",
   "metadata": {
    "ExecuteTime": {
     "end_time": "2024-04-27T13:43:33.582000Z",
     "start_time": "2024-04-27T13:43:33.574514Z"
    }
   },
   "outputs": [],
   "source": [
    "chr_name_list=first_seen_probe_data['chr_name_list']\n",
    "cell_number=first_seen_probe_data['cell_number']\n",
    "all_cell_dna_list=first_seen_probe_data['all_cell_dna_list']\n",
    "chr_bin_length_dic=first_seen_probe_data['chr_bin_length_dic']\n",
    "chrom_index_to_ids_dict=first_seen_probe_data['chrom_index_to_ids_dict']\n",
    "adata_obs_df=first_seen_probe_data['adata_obs_df']\n",
    "spaital_dist_suffix=first_seen_probe_data['spaital_dist_suffix']\n",
    "prxoimtiy_score_suffix=first_seen_probe_data['prxoimtiy_score_suffix']"
   ]
  },
  {
   "cell_type": "code",
   "execution_count": 73,
   "id": "bf8686b2",
   "metadata": {
    "ExecuteTime": {
     "end_time": "2024-04-27T13:43:37.517633Z",
     "start_time": "2024-04-27T13:43:37.512179Z"
    }
   },
   "outputs": [],
   "source": [
    "store_path=os.path.join(first_seen_probe_data_dir,f'first_seen_probe_data_{spaital_dist_suffix}.h5ad')"
   ]
  },
  {
   "cell_type": "code",
   "execution_count": 74,
   "id": "4a02369a",
   "metadata": {
    "ExecuteTime": {
     "end_time": "2024-04-27T13:44:11.306784Z",
     "start_time": "2024-04-27T13:43:38.400696Z"
    },
    "scrolled": true
   },
   "outputs": [
    {
     "name": "stdout",
     "output_type": "stream",
     "text": [
      "chr1\n"
     ]
    },
    {
     "name": "stderr",
     "output_type": "stream",
     "text": [
      "100%|██████████| 1143/1143 [00:00<00:00, 1384774.54it/s]\n",
      "100%|██████████| 1143/1143 [00:00<00:00, 25512.96it/s]\n"
     ]
    },
    {
     "name": "stdout",
     "output_type": "stream",
     "text": [
      "chr1\n"
     ]
    },
    {
     "name": "stderr",
     "output_type": "stream",
     "text": [
      "  2%|▏         | 28/1143 [00:00<00:08, 133.47it/s]"
     ]
    },
    {
     "name": "stdout",
     "output_type": "stream",
     "text": [
      "chr2\n"
     ]
    },
    {
     "name": "stderr",
     "output_type": "stream",
     "text": [
      "100%|██████████| 1143/1143 [00:00<00:00, 1437077.18it/s]\n",
      "100%|██████████| 1143/1143 [00:00<00:00, 26805.83it/s]\n"
     ]
    },
    {
     "name": "stdout",
     "output_type": "stream",
     "text": [
      "chr2\n"
     ]
    },
    {
     "name": "stderr",
     "output_type": "stream",
     "text": [
      "  2%|▏         | 28/1143 [00:00<00:08, 131.75it/s]"
     ]
    },
    {
     "name": "stdout",
     "output_type": "stream",
     "text": [
      "chr3\n"
     ]
    },
    {
     "name": "stderr",
     "output_type": "stream",
     "text": [
      "100%|██████████| 1143/1143 [00:00<00:00, 1374452.26it/s]\n",
      "100%|██████████| 1143/1143 [00:00<00:00, 26749.75it/s]\n",
      "  7%|▋         | 84/1143 [00:00<00:08, 130.52it/s]"
     ]
    },
    {
     "name": "stdout",
     "output_type": "stream",
     "text": [
      "chr3\n"
     ]
    },
    {
     "name": "stderr",
     "output_type": "stream",
     "text": [
      "  2%|▏         | 28/1143 [00:00<00:08, 130.52it/s]"
     ]
    },
    {
     "name": "stdout",
     "output_type": "stream",
     "text": [
      "chr4\n"
     ]
    },
    {
     "name": "stderr",
     "output_type": "stream",
     "text": [
      "100%|██████████| 1143/1143 [00:00<00:00, 692287.29it/s]\n",
      "100%|██████████| 1143/1143 [00:00<00:00, 26482.00it/s]\n"
     ]
    },
    {
     "name": "stdout",
     "output_type": "stream",
     "text": [
      "chr4\n"
     ]
    },
    {
     "name": "stderr",
     "output_type": "stream",
     "text": [
      "  2%|▏         | 26/1143 [00:00<00:09, 119.83it/s]"
     ]
    },
    {
     "name": "stdout",
     "output_type": "stream",
     "text": [
      "chr5\n"
     ]
    },
    {
     "name": "stderr",
     "output_type": "stream",
     "text": [
      "100%|██████████| 1143/1143 [00:00<00:00, 1317781.60it/s]\n",
      "100%|██████████| 1143/1143 [00:00<00:00, 26180.33it/s]\n",
      "  3%|▎         | 38/1143 [00:00<00:09, 117.00it/s]"
     ]
    },
    {
     "name": "stdout",
     "output_type": "stream",
     "text": [
      "chr5\n"
     ]
    },
    {
     "name": "stderr",
     "output_type": "stream",
     "text": [
      " 11%|█▏        | 131/1143 [00:01<00:17, 59.01it/s]"
     ]
    },
    {
     "name": "stdout",
     "output_type": "stream",
     "text": [
      "chr6\n"
     ]
    },
    {
     "name": "stderr",
     "output_type": "stream",
     "text": [
      "100%|██████████| 1143/1143 [00:00<00:00, 1453194.75it/s]\n",
      "100%|██████████| 1143/1143 [00:00<00:00, 23866.27it/s]\n"
     ]
    },
    {
     "name": "stdout",
     "output_type": "stream",
     "text": [
      "chr6\n"
     ]
    },
    {
     "name": "stderr",
     "output_type": "stream",
     "text": [
      " 13%|█▎        | 153/1143 [00:01<00:17, 56.72it/s]"
     ]
    },
    {
     "name": "stdout",
     "output_type": "stream",
     "text": [
      "chr7\n"
     ]
    },
    {
     "name": "stderr",
     "output_type": "stream",
     "text": [
      "100%|██████████| 1143/1143 [00:00<00:00, 1449241.07it/s]\n",
      "100%|██████████| 1143/1143 [00:00<00:00, 25933.34it/s]\n"
     ]
    },
    {
     "name": "stdout",
     "output_type": "stream",
     "text": [
      "chr7\n"
     ]
    },
    {
     "name": "stderr",
     "output_type": "stream",
     "text": [
      " 15%|█▌        | 172/1143 [00:02<00:17, 56.09it/s]"
     ]
    },
    {
     "name": "stdout",
     "output_type": "stream",
     "text": [
      "chr8\n"
     ]
    },
    {
     "name": "stderr",
     "output_type": "stream",
     "text": [
      "100%|██████████| 1143/1143 [00:00<00:00, 1416274.59it/s]\n",
      "100%|██████████| 1143/1143 [00:00<00:00, 25700.89it/s]\n",
      " 14%|█▍        | 158/1143 [00:02<00:17, 57.15it/s]"
     ]
    },
    {
     "name": "stdout",
     "output_type": "stream",
     "text": [
      "chr8\n"
     ]
    },
    {
     "name": "stderr",
     "output_type": "stream",
     "text": [
      "  7%|▋         | 84/1143 [00:00<00:07, 134.12it/s]"
     ]
    },
    {
     "name": "stdout",
     "output_type": "stream",
     "text": [
      "chr9\n"
     ]
    },
    {
     "name": "stderr",
     "output_type": "stream",
     "text": [
      "100%|██████████| 1143/1143 [00:00<00:00, 1338757.18it/s]\n",
      "100%|██████████| 1143/1143 [00:00<00:00, 25107.70it/s]\n"
     ]
    },
    {
     "name": "stdout",
     "output_type": "stream",
     "text": [
      "chr9\n"
     ]
    },
    {
     "name": "stderr",
     "output_type": "stream",
     "text": [
      " 17%|█▋        | 195/1143 [00:02<00:17, 55.71it/s]"
     ]
    },
    {
     "name": "stdout",
     "output_type": "stream",
     "text": [
      "chr10\n"
     ]
    },
    {
     "name": "stderr",
     "output_type": "stream",
     "text": [
      "100%|██████████| 1143/1143 [00:00<00:00, 1228623.65it/s]\n",
      "100%|██████████| 1143/1143 [00:00<00:00, 25251.32it/s]\n",
      " 12%|█▏        | 141/1143 [00:01<00:17, 57.85it/s]"
     ]
    },
    {
     "name": "stdout",
     "output_type": "stream",
     "text": [
      "chr10\n"
     ]
    },
    {
     "name": "stderr",
     "output_type": "stream",
     "text": [
      " 11%|█         | 123/1143 [00:01<00:15, 64.95it/s]"
     ]
    },
    {
     "name": "stdout",
     "output_type": "stream",
     "text": [
      "chr11\n"
     ]
    },
    {
     "name": "stderr",
     "output_type": "stream",
     "text": [
      "100%|██████████| 1143/1143 [00:00<00:00, 706259.50it/s]\n",
      "100%|██████████| 1143/1143 [00:00<00:00, 24606.78it/s]\n"
     ]
    },
    {
     "name": "stdout",
     "output_type": "stream",
     "text": [
      "chr11\n"
     ]
    },
    {
     "name": "stderr",
     "output_type": "stream",
     "text": [
      " 19%|█▉        | 215/1143 [00:03<00:16, 55.40it/s]"
     ]
    },
    {
     "name": "stdout",
     "output_type": "stream",
     "text": [
      "chr12\n"
     ]
    },
    {
     "name": "stderr",
     "output_type": "stream",
     "text": [
      "100%|██████████| 1143/1143 [00:00<00:00, 750131.35it/s]\n",
      "100%|██████████| 1143/1143 [00:00<00:00, 25444.17it/s]\n",
      " 22%|██▏       | 256/1143 [00:03<00:15, 55.76it/s]"
     ]
    },
    {
     "name": "stdout",
     "output_type": "stream",
     "text": [
      "chr12\n"
     ]
    },
    {
     "name": "stderr",
     "output_type": "stream",
     "text": [
      " 24%|██▍       | 274/1143 [00:04<00:15, 57.75it/s]"
     ]
    },
    {
     "name": "stdout",
     "output_type": "stream",
     "text": [
      "chr13\n"
     ]
    },
    {
     "name": "stderr",
     "output_type": "stream",
     "text": [
      "100%|██████████| 1143/1143 [00:00<00:00, 840625.89it/s]\n",
      "100%|██████████| 1143/1143 [00:00<00:00, 23555.63it/s]\n",
      " 23%|██▎       | 261/1143 [00:03<00:15, 57.86it/s]"
     ]
    },
    {
     "name": "stdout",
     "output_type": "stream",
     "text": [
      "chr13\n"
     ]
    },
    {
     "name": "stderr",
     "output_type": "stream",
     "text": [
      "  7%|▋         | 77/1143 [00:00<00:08, 121.29it/s]"
     ]
    },
    {
     "name": "stdout",
     "output_type": "stream",
     "text": [
      "chr14\n"
     ]
    },
    {
     "name": "stderr",
     "output_type": "stream",
     "text": [
      "100%|██████████| 1143/1143 [00:00<00:00, 1237503.74it/s]\n",
      "100%|██████████| 1143/1143 [00:00<00:00, 23976.92it/s]\n",
      " 21%|██        | 242/1143 [00:03<00:15, 57.96it/s]"
     ]
    },
    {
     "name": "stdout",
     "output_type": "stream",
     "text": [
      "chr14\n"
     ]
    },
    {
     "name": "stderr",
     "output_type": "stream",
     "text": [
      " 16%|█▌        | 178/1143 [00:02<00:18, 52.92it/s]"
     ]
    },
    {
     "name": "stdout",
     "output_type": "stream",
     "text": [
      "chr15"
     ]
    },
    {
     "name": "stderr",
     "output_type": "stream",
     "text": [
      "\r",
      " 26%|██▌       | 297/1143 [00:04<00:14, 57.81it/s]"
     ]
    },
    {
     "name": "stdout",
     "output_type": "stream",
     "text": [
      "\n"
     ]
    },
    {
     "name": "stderr",
     "output_type": "stream",
     "text": [
      "100%|██████████| 1143/1143 [00:00<00:00, 391354.24it/s]\n",
      "100%|██████████| 1143/1143 [00:00<00:00, 22984.86it/s]\n",
      "  3%|▎         | 38/1143 [00:00<00:09, 119.62it/s]"
     ]
    },
    {
     "name": "stdout",
     "output_type": "stream",
     "text": [
      "chr15\n"
     ]
    },
    {
     "name": "stderr",
     "output_type": "stream",
     "text": [
      " 26%|██▌       | 293/1143 [00:04<00:20, 40.75it/s]"
     ]
    },
    {
     "name": "stdout",
     "output_type": "stream",
     "text": [
      "chr16"
     ]
    },
    {
     "name": "stderr",
     "output_type": "stream",
     "text": [
      "\r",
      " 21%|██        | 237/1143 [00:03<00:23, 39.21it/s]"
     ]
    },
    {
     "name": "stdout",
     "output_type": "stream",
     "text": [
      "\n"
     ]
    },
    {
     "name": "stderr",
     "output_type": "stream",
     "text": [
      "100%|██████████| 1143/1143 [00:00<00:00, 792149.62it/s]\n",
      "100%|██████████| 1143/1143 [00:00<00:00, 18877.49it/s]\n",
      " 16%|█▌        | 178/1143 [00:02<00:24, 40.16it/s]"
     ]
    },
    {
     "name": "stdout",
     "output_type": "stream",
     "text": [
      "chr16\n"
     ]
    },
    {
     "name": "stderr",
     "output_type": "stream",
     "text": [
      "  3%|▎         | 38/1143 [00:00<00:09, 116.87it/s]"
     ]
    },
    {
     "name": "stdout",
     "output_type": "stream",
     "text": [
      "chr17"
     ]
    },
    {
     "name": "stderr",
     "output_type": "stream",
     "text": [
      "\r",
      " 12%|█▏        | 133/1143 [00:01<00:21, 46.78it/s]"
     ]
    },
    {
     "name": "stdout",
     "output_type": "stream",
     "text": [
      "\n"
     ]
    },
    {
     "name": "stderr",
     "output_type": "stream",
     "text": [
      "100%|██████████| 1143/1143 [00:00<00:00, 665014.49it/s]\n",
      "100%|██████████| 1143/1143 [00:00<00:00, 22597.00it/s]\n"
     ]
    },
    {
     "name": "stdout",
     "output_type": "stream",
     "text": [
      "chr17\n"
     ]
    },
    {
     "name": "stderr",
     "output_type": "stream",
     "text": [
      " 19%|█▊        | 213/1143 [00:03<00:20, 44.97it/s]"
     ]
    },
    {
     "name": "stdout",
     "output_type": "stream",
     "text": [
      "chr18\n"
     ]
    },
    {
     "name": "stderr",
     "output_type": "stream",
     "text": [
      "100%|██████████| 1143/1143 [00:00<00:00, 892255.62it/s]\n",
      "100%|██████████| 1143/1143 [00:00<00:00, 23889.70it/s]\n",
      " 25%|██▍       | 285/1143 [00:04<00:16, 52.13it/s]"
     ]
    },
    {
     "name": "stdout",
     "output_type": "stream",
     "text": [
      "chr18\n"
     ]
    },
    {
     "name": "stderr",
     "output_type": "stream",
     "text": [
      " 29%|██▉       | 335/1143 [00:05<00:25, 31.55it/s]"
     ]
    },
    {
     "name": "stdout",
     "output_type": "stream",
     "text": [
      "chr19\n"
     ]
    },
    {
     "name": "stderr",
     "output_type": "stream",
     "text": [
      "100%|██████████| 1143/1143 [00:00<00:00, 1201225.12it/s]\n",
      "100%|██████████| 1143/1143 [00:00<00:00, 23514.85it/s]\n",
      " 22%|██▏       | 255/1143 [00:04<00:25, 34.45it/s]"
     ]
    },
    {
     "name": "stdout",
     "output_type": "stream",
     "text": [
      "chr19\n"
     ]
    },
    {
     "name": "stderr",
     "output_type": "stream",
     "text": [
      " 31%|███       | 353/1143 [00:06<00:18, 43.35it/s]"
     ]
    },
    {
     "name": "stdout",
     "output_type": "stream",
     "text": [
      "chrX\n"
     ]
    },
    {
     "name": "stderr",
     "output_type": "stream",
     "text": [
      "100%|██████████| 1143/1143 [00:00<00:00, 1105393.01it/s]\n",
      "100%|██████████| 1143/1143 [00:00<00:00, 23772.66it/s]\n",
      " 17%|█▋        | 190/1143 [00:03<00:21, 44.23it/s]"
     ]
    },
    {
     "name": "stdout",
     "output_type": "stream",
     "text": [
      "chrX\n"
     ]
    },
    {
     "name": "stderr",
     "output_type": "stream",
     "text": [
      "100%|██████████| 1143/1143 [00:22<00:00, 50.01it/s]\n",
      "100%|██████████| 1143/1143 [00:22<00:00, 50.01it/s]\n",
      "100%|██████████| 1143/1143 [00:22<00:00, 49.92it/s]\n",
      "100%|██████████| 1143/1143 [00:23<00:00, 48.18it/s]\n",
      "100%|██████████| 1143/1143 [00:22<00:00, 49.86it/s]\n",
      "100%|██████████| 1143/1143 [00:23<00:00, 48.36it/s]\n",
      "100%|██████████| 1143/1143 [00:24<00:00, 47.23it/s]\n",
      "100%|██████████| 1143/1143 [00:24<00:00, 46.86it/s]\n",
      "100%|██████████| 1143/1143 [00:23<00:00, 48.69it/s]\n",
      "100%|██████████| 1143/1143 [00:23<00:00, 48.90it/s]\n",
      "100%|██████████| 1143/1143 [00:25<00:00, 45.56it/s]\n",
      "100%|██████████| 1143/1143 [00:25<00:00, 45.70it/s]\n",
      "100%|██████████| 1143/1143 [00:24<00:00, 46.42it/s]\n",
      "100%|██████████| 1143/1143 [00:24<00:00, 46.93it/s]\n",
      "100%|██████████| 1143/1143 [00:22<00:00, 50.88it/s]\n",
      "100%|██████████| 1143/1143 [00:23<00:00, 48.67it/s]\n",
      "100%|██████████| 1143/1143 [00:24<00:00, 47.62it/s]\n",
      "100%|██████████| 1143/1143 [00:24<00:00, 46.66it/s]\n",
      "100%|██████████| 1143/1143 [00:23<00:00, 49.27it/s]\n",
      "100%|██████████| 1143/1143 [00:23<00:00, 49.54it/s]\n"
     ]
    }
   ],
   "source": [
    "ImputeHiFI.generate_spatial_distance_h5ad.generate_spatial_h5ad(chr_name_list,cell_number,all_cell_dna_list,\n",
    "                              chr_bin_length_dic,chrom_index_to_ids_dict,adata_obs_df,store_path,)"
   ]
  },
  {
   "cell_type": "code",
   "execution_count": 75,
   "id": "d5185b65",
   "metadata": {
    "ExecuteTime": {
     "end_time": "2024-04-27T13:44:14.649075Z",
     "start_time": "2024-04-27T13:44:14.534977Z"
    }
   },
   "outputs": [],
   "source": [
    "store_path=os.path.join(first_seen_probe_data_dir,f'first_seen_probe_data_{spaital_dist_suffix}.h5ad')\n",
    "DNA_FISH_spad_adata=sc.read(store_path)"
   ]
  },
  {
   "cell_type": "code",
   "execution_count": 76,
   "id": "0551ff85",
   "metadata": {
    "ExecuteTime": {
     "end_time": "2024-04-27T13:44:15.479554Z",
     "start_time": "2024-04-27T13:44:15.471126Z"
    },
    "scrolled": true
   },
   "outputs": [
    {
     "data": {
      "text/plain": [
       "AnnData object with n_obs × n_vars = 1143 × 35400\n",
       "    obs: 'cell_name', 'cell_type'"
      ]
     },
     "execution_count": 76,
     "metadata": {},
     "output_type": "execute_result"
    }
   ],
   "source": [
    "DNA_FISH_spad_adata"
   ]
  },
  {
   "cell_type": "markdown",
   "id": "a7db147d",
   "metadata": {},
   "source": [
    "### generate each cell sigma value"
   ]
  },
  {
   "cell_type": "code",
   "execution_count": 77,
   "id": "817bfc44",
   "metadata": {
    "ExecuteTime": {
     "end_time": "2024-04-27T13:44:19.195013Z",
     "start_time": "2024-04-27T13:44:18.965123Z"
    }
   },
   "outputs": [],
   "source": [
    "store_path=os.path.join(first_seen_probe_data_dir,f'first_seen_probe_data_{spaital_dist_suffix}.h5ad')\n",
    "DNA_FISH_spad_adata=sc.read(store_path)"
   ]
  },
  {
   "cell_type": "code",
   "execution_count": 78,
   "id": "bf41b068",
   "metadata": {
    "ExecuteTime": {
     "end_time": "2024-04-27T13:44:25.415570Z",
     "start_time": "2024-04-27T13:44:25.328526Z"
    }
   },
   "outputs": [],
   "source": [
    "adata=DNA_FISH_spad_adata.copy()\n",
    "cell_types = adata.obs['cell_type'].unique()\n",
    "\n",
    "# 创建一个字典来存储每种细胞类型的子集数据\n",
    "cell_type_subsets = {}\n",
    "\n",
    "for cell_type in cell_types:\n",
    "    # 使用 adata[adata.obs['cell_type'] == cell_type] 来选择特定类型的细胞\n",
    "    cell_type_subset = adata[adata.obs['cell_type'] == cell_type]\n",
    "    # 将子集数据存储在字典中\n",
    "    cell_type_subsets[cell_type] = cell_type_subset"
   ]
  },
  {
   "cell_type": "code",
   "execution_count": 79,
   "id": "6649bf39",
   "metadata": {
    "ExecuteTime": {
     "end_time": "2024-04-27T13:44:33.804214Z",
     "start_time": "2024-04-27T13:44:30.031915Z"
    },
    "scrolled": true
   },
   "outputs": [
    {
     "name": "stderr",
     "output_type": "stream",
     "text": [
      "100%|██████████| 20/20 [00:03<00:00,  5.33it/s]\n"
     ]
    }
   ],
   "source": [
    "p=50\n",
    "chr_cell_type_center_value_dict={}\n",
    "for chr_name in tqdm(chr_bin_length_dic.keys()):\n",
    "    num_cell_types = len(cell_types)\n",
    "    for index, cell_type in enumerate(cell_types):\n",
    "        title_name = f\"{cell_type} {chr_name}\"\n",
    "        bin_length = chr_bin_length_dic[chr_name]\n",
    "        Example_df = ImputeHiFI.generate_Example_bin_pair_df(chr_name, bin_length)\n",
    "        temp_array = cell_type_subsets[cell_type][:, Example_df.index].copy().X\n",
    "        title_name += f\" ({temp_array.shape[0]} chromosomes)\"\n",
    "        Example_df['data'] = np.nanmedian(temp_array, axis=0)\n",
    "        matrix_array = ImputeHiFI.convert_bin_pair_df_to_array(bin_length, Example_df)\n",
    "        matrix_array = matrix_array + matrix_array.T\n",
    "        np.fill_diagonal(matrix_array, 0)\n",
    "        rows, cols = np.triu_indices(matrix_array.shape[0],k=1)\n",
    "\n",
    "        # 使用这些索引提取上三角矩阵的值\n",
    "        upper_triangle_values = matrix_array[rows, cols]\n",
    "\n",
    "        # 从上三角值中过滤出非NaN的值\n",
    "        non_nan_upper_triangle_values = upper_triangle_values[~np.isnan(upper_triangle_values)]\n",
    "#         p=50\n",
    "        center_value=np.percentile(non_nan_upper_triangle_values,p)\n",
    "        chr_cell_type_center_value_dict[chr_name+cell_type]=center_value\n",
    "        \n",
    "        cmap = plt.cm.seismic_r\n",
    "        cmap.set_bad('#8a898a')\n",
    "\n",
    "        # 绘制热图\n",
    "#         print(title_name)\n",
    "#         heatmap =sns.heatmap(matrix_array, cmap=cmap,center=int(center_value),vmax=int(center_value*2), cbar=True,square=True)\n",
    "        \n",
    "#         plt.show()"
   ]
  },
  {
   "cell_type": "code",
   "execution_count": 80,
   "id": "48cb8ce1",
   "metadata": {
    "ExecuteTime": {
     "end_time": "2024-04-27T13:44:37.613664Z",
     "start_time": "2024-04-27T13:44:37.604434Z"
    }
   },
   "outputs": [],
   "source": [
    "chr_cell_type_center_value_df = pd.DataFrame(list(chr_cell_type_center_value_dict.items()), columns=['Chr_Cell_Type', 'Center_Value'])\n",
    "chr_cell_type_center_value_df.index=chr_cell_type_center_value_df['Chr_Cell_Type']"
   ]
  },
  {
   "cell_type": "code",
   "execution_count": 81,
   "id": "34bc8d7b",
   "metadata": {
    "ExecuteTime": {
     "end_time": "2024-04-27T13:44:38.639583Z",
     "start_time": "2024-04-27T13:44:38.633674Z"
    }
   },
   "outputs": [],
   "source": [
    "\n",
    "first_seen_probe_data['chr_cell_type_center_value_df']=chr_cell_type_center_value_df"
   ]
  },
  {
   "cell_type": "markdown",
   "id": "fb9f4387",
   "metadata": {},
   "source": [
    "### generate proximtiy score h5ad"
   ]
  },
  {
   "cell_type": "code",
   "execution_count": 82,
   "id": "9e244b43",
   "metadata": {
    "ExecuteTime": {
     "end_time": "2024-04-27T13:44:51.842616Z",
     "start_time": "2024-04-27T13:44:51.834370Z"
    }
   },
   "outputs": [
    {
     "data": {
      "text/plain": [
       "array([[       nan,        nan,        nan, ..., 2.0276818 ,        nan,\n",
       "               nan],\n",
       "       [       nan,        nan,        nan, ..., 3.1045175 , 3.033245  ,\n",
       "        0.72996897],\n",
       "       [       nan, 3.4476643 ,        nan, ..., 1.9447848 ,        nan,\n",
       "               nan],\n",
       "       ...,\n",
       "       [       nan,        nan,        nan, ...,        nan,        nan,\n",
       "               nan],\n",
       "       [       nan, 2.3966217 ,        nan, ...,        nan,        nan,\n",
       "               nan],\n",
       "       [       nan,        nan,        nan, ..., 1.8760629 , 2.930238  ,\n",
       "        3.3246946 ]], dtype=float32)"
      ]
     },
     "execution_count": 82,
     "metadata": {},
     "output_type": "execute_result"
    }
   ],
   "source": [
    "DNA_FISH_spad_adata.X"
   ]
  },
  {
   "cell_type": "code",
   "execution_count": 83,
   "id": "0625dfdd",
   "metadata": {
    "ExecuteTime": {
     "end_time": "2024-04-27T13:48:00.303667Z",
     "start_time": "2024-04-27T13:44:55.148877Z"
    },
    "scrolled": true
   },
   "outputs": [
    {
     "name": "stdout",
     "output_type": "stream",
     "text": [
      "v5 similar FISH\n"
     ]
    },
    {
     "data": {
      "text/plain": [
       "<module 'ImputeHiFI_Algorithm_v5' from '/mnt/disk1/scfan/program/image_project/Cai_21_bioRxiv_Process/ImputHiFi/ImputeHiFI_Algorithm_v5.py'>"
      ]
     },
     "execution_count": 83,
     "metadata": {},
     "output_type": "execute_result"
    },
    {
     "name": "stdout",
     "output_type": "stream",
     "text": [
      "chr1\n"
     ]
    },
    {
     "name": "stderr",
     "output_type": "stream",
     "text": [
      "6it [00:00, 52.08it/s]]"
     ]
    },
    {
     "name": "stdout",
     "output_type": "stream",
     "text": [
      "chr2\n"
     ]
    },
    {
     "name": "stderr",
     "output_type": "stream",
     "text": [
      "67it [00:01, 53.17it/s]"
     ]
    },
    {
     "name": "stdout",
     "output_type": "stream",
     "text": [
      "chr3\n"
     ]
    },
    {
     "name": "stderr",
     "output_type": "stream",
     "text": [
      "66it [00:01, 52.77it/s]"
     ]
    },
    {
     "name": "stdout",
     "output_type": "stream",
     "text": [
      "chr4\n"
     ]
    },
    {
     "name": "stderr",
     "output_type": "stream",
     "text": [
      "120it [00:02, 32.52it/s]"
     ]
    },
    {
     "name": "stdout",
     "output_type": "stream",
     "text": [
      "chr5\n"
     ]
    },
    {
     "name": "stderr",
     "output_type": "stream",
     "text": [
      "38it [00:00, 59.68it/s]]"
     ]
    },
    {
     "name": "stdout",
     "output_type": "stream",
     "text": [
      "chr6\n"
     ]
    },
    {
     "name": "stderr",
     "output_type": "stream",
     "text": [
      "37it [00:00, 58.52it/s]]"
     ]
    },
    {
     "name": "stdout",
     "output_type": "stream",
     "text": [
      "chr7\n"
     ]
    },
    {
     "name": "stderr",
     "output_type": "stream",
     "text": [
      "188it [00:04, 33.55it/s]"
     ]
    },
    {
     "name": "stdout",
     "output_type": "stream",
     "text": [
      "chr8\n"
     ]
    },
    {
     "name": "stderr",
     "output_type": "stream",
     "text": [
      "142it [00:03, 26.95it/s]"
     ]
    },
    {
     "name": "stdout",
     "output_type": "stream",
     "text": [
      "chr9\n"
     ]
    },
    {
     "name": "stderr",
     "output_type": "stream",
     "text": [
      "28it [00:00, 53.54it/s]]"
     ]
    },
    {
     "name": "stdout",
     "output_type": "stream",
     "text": [
      "chr10\n"
     ]
    },
    {
     "name": "stderr",
     "output_type": "stream",
     "text": [
      "64it [00:01, 53.52it/s]]"
     ]
    },
    {
     "name": "stdout",
     "output_type": "stream",
     "text": [
      "chr11\n"
     ]
    },
    {
     "name": "stderr",
     "output_type": "stream",
     "text": [
      "193it [00:04, 34.12it/s]"
     ]
    },
    {
     "name": "stdout",
     "output_type": "stream",
     "text": [
      "chr12\n"
     ]
    },
    {
     "name": "stderr",
     "output_type": "stream",
     "text": [
      "255it [00:06, 31.90it/s]"
     ]
    },
    {
     "name": "stdout",
     "output_type": "stream",
     "text": [
      "chr13"
     ]
    },
    {
     "name": "stderr",
     "output_type": "stream",
     "text": [
      "\r",
      "136it [00:03, 31.62it/s]"
     ]
    },
    {
     "name": "stdout",
     "output_type": "stream",
     "text": [
      "\n"
     ]
    },
    {
     "name": "stderr",
     "output_type": "stream",
     "text": [
      "156it [00:04, 30.86it/s]"
     ]
    },
    {
     "name": "stdout",
     "output_type": "stream",
     "text": [
      "chr14\n"
     ]
    },
    {
     "name": "stderr",
     "output_type": "stream",
     "text": [
      "154it [00:03, 31.12it/s]"
     ]
    },
    {
     "name": "stdout",
     "output_type": "stream",
     "text": [
      "chr15\n"
     ]
    },
    {
     "name": "stderr",
     "output_type": "stream",
     "text": [
      "281it [00:07, 32.57it/s]"
     ]
    },
    {
     "name": "stdout",
     "output_type": "stream",
     "text": [
      "chr16\n"
     ]
    },
    {
     "name": "stderr",
     "output_type": "stream",
     "text": [
      "153it [00:03, 31.59it/s]"
     ]
    },
    {
     "name": "stdout",
     "output_type": "stream",
     "text": [
      "chr17\n"
     ]
    },
    {
     "name": "stderr",
     "output_type": "stream",
     "text": [
      "377it [00:11, 11.23it/s]"
     ]
    },
    {
     "name": "stdout",
     "output_type": "stream",
     "text": [
      "chr18\n"
     ]
    },
    {
     "name": "stderr",
     "output_type": "stream",
     "text": [
      "38it [00:03,  8.28it/s]]"
     ]
    },
    {
     "name": "stdout",
     "output_type": "stream",
     "text": [
      "chr19"
     ]
    },
    {
     "name": "stderr",
     "output_type": "stream",
     "text": [
      "\r",
      "333it [00:12,  6.13it/s]"
     ]
    },
    {
     "name": "stdout",
     "output_type": "stream",
     "text": [
      "\n"
     ]
    },
    {
     "name": "stderr",
     "output_type": "stream",
     "text": [
      "392it [00:15,  3.86it/s]"
     ]
    },
    {
     "name": "stdout",
     "output_type": "stream",
     "text": [
      "chrX"
     ]
    },
    {
     "name": "stderr",
     "output_type": "stream",
     "text": [
      "186it [00:09,  3.70it/s]"
     ]
    },
    {
     "name": "stdout",
     "output_type": "stream",
     "text": [
      "\n"
     ]
    },
    {
     "name": "stderr",
     "output_type": "stream",
     "text": [
      "1143it [02:50,  6.70it/s]\n",
      "1143it [02:50,  6.68it/s]\n",
      "1143it [02:50,  6.70it/s]\n",
      "1143it [02:49,  6.74it/s]\n",
      "1143it [02:51,  6.68it/s]\n",
      "1143it [02:51,  6.66it/s]\n",
      "1143it [02:52,  6.64it/s]\n",
      "957it [02:41, 33.10it/s]]\n",
      "1143it [02:51,  6.65it/s]\n",
      "1143it [02:51,  6.66it/s]\n",
      "1143it [02:50,  6.69it/s]\n",
      "1143it [02:52,  6.61it/s]\n",
      "1143it [02:52,  6.64it/s]\n",
      "1143it [02:51,  6.67it/s]\n",
      "1143it [02:46,  6.85it/s]\n",
      "1143it [02:52,  6.62it/s]\n",
      "1143it [02:51,  6.65it/s]\n",
      "1143it [02:45,  6.90it/s]\n",
      "1143it [02:49,  6.75it/s]\n",
      "1143it [02:51,  6.67it/s]\n"
     ]
    }
   ],
   "source": [
    "importlib.reload(ImputeHiFI)\n",
    "store_path=os.path.join(first_seen_probe_data_dir,f'first_seen_probe_data_{spaital_dist_suffix}.h5ad')\n",
    "DNA_FISH_spad_adata=sc.read(store_path)\n",
    "\n",
    "chr_cell_type_center_value_df=first_seen_probe_data['chr_cell_type_center_value_df']\n",
    "chr_name_list=first_seen_probe_data['chr_name_list']\n",
    "cell_number=first_seen_probe_data['cell_number']\n",
    "all_cell_dna_list=first_seen_probe_data['all_cell_dna_list']\n",
    "chr_bin_length_dic=first_seen_probe_data['chr_bin_length_dic']\n",
    "chrom_index_to_ids_dict=first_seen_probe_data['chrom_index_to_ids_dict']\n",
    "adata_obs_df=first_seen_probe_data['adata_obs_df']\n",
    "spaital_dist_suffix=first_seen_probe_data['spaital_dist_suffix']\n",
    "prxoimtiy_score_suffix=first_seen_probe_data['prxoimtiy_score_suffix']\n",
    "\n",
    "\n",
    "store_path=os.path.join(first_seen_probe_data_dir,f'first_seen_probe_data_{prxoimtiy_score_suffix}.h5ad')\n",
    "ImputeHiFI.generate_proximity_score_h5ad.generate_proximity_h5ad(DNA_FISH_spad_adata,chr_name_list,chr_cell_type_center_value_df,\n",
    "                              chr_bin_length_dic, adata_obs_df, store_path,\n",
    "                              kernerl_number=None)"
   ]
  },
  {
   "cell_type": "code",
   "execution_count": 84,
   "id": "a54eb60c",
   "metadata": {
    "ExecuteTime": {
     "end_time": "2024-04-27T13:49:26.110238Z",
     "start_time": "2024-04-27T13:49:25.992356Z"
    }
   },
   "outputs": [],
   "source": [
    "store_path=os.path.join(first_seen_probe_data_dir,f'first_seen_probe_data_{prxoimtiy_score_suffix}.h5ad')\n",
    "DNA_FISH_proxi_adata=sc.read(store_path)"
   ]
  },
  {
   "cell_type": "code",
   "execution_count": 85,
   "id": "4af2ac05",
   "metadata": {
    "ExecuteTime": {
     "end_time": "2024-04-27T13:49:36.021111Z",
     "start_time": "2024-04-27T13:49:35.680248Z"
    }
   },
   "outputs": [
    {
     "data": {
      "image/png": "[encoded data removed]",
      "text/plain": [
       "<Figure size 432x288 with 2 Axes>"
      ]
     },
     "metadata": {
      "needs_background": "light"
     },
     "output_type": "display_data"
    }
   ],
   "source": [
    "one_FISH_name='0_3_1_rep1'\n",
    "chr_name='chr1'\n",
    "one_array=ImputeHiFI.get_proximity_array(DNA_FISH_proxi_adata, one_FISH_name, chr_name,chr_bin_length_dic,set_min_limit=True,min_limit=0.001,set_max_limit=False,max_limit=1.0)\n",
    "ImputeHiFI.plot_proximity(one_array,title=one_FISH_name+' '+chr_name)"
   ]
  },
  {
   "cell_type": "markdown",
   "id": "a854b884",
   "metadata": {},
   "source": [
    "### cell cell RMSD"
   ]
  },
  {
   "cell_type": "code",
   "execution_count": 86,
   "id": "2afc771f",
   "metadata": {
    "ExecuteTime": {
     "end_time": "2024-04-27T13:51:19.126007Z",
     "start_time": "2024-04-27T13:49:47.149257Z"
    },
    "scrolled": true
   },
   "outputs": [
    {
     "name": "stdout",
     "output_type": "stream",
     "text": [
      "v5 similar FISH\n"
     ]
    },
    {
     "data": {
      "text/plain": [
       "<module 'ImputeHiFI_Algorithm_v5' from '/mnt/disk1/scfan/program/image_project/Cai_21_bioRxiv_Process/ImputHiFi/ImputeHiFI_Algorithm_v5.py'>"
      ]
     },
     "execution_count": 86,
     "metadata": {},
     "output_type": "execute_result"
    },
    {
     "name": "stdout",
     "output_type": "stream",
     "text": [
      "chr1\n",
      "chr1\n"
     ]
    },
    {
     "name": "stderr",
     "output_type": "stream",
     "text": [
      "100%|██████████| 1143/1143 [00:00<00:00, 1525322.77it/s]\n",
      "  0%|          | 1/1143 [00:00<05:04,  3.75it/s]"
     ]
    },
    {
     "name": "stdout",
     "output_type": "stream",
     "text": [
      "chr2\n",
      "chr2\n"
     ]
    },
    {
     "name": "stderr",
     "output_type": "stream",
     "text": [
      "100%|██████████| 1143/1143 [00:00<00:00, 1429364.78it/s]\n",
      "  0%|          | 3/1143 [00:00<02:50,  6.68it/s]"
     ]
    },
    {
     "name": "stdout",
     "output_type": "stream",
     "text": [
      "chr3\n",
      "chr3\n"
     ]
    },
    {
     "name": "stderr",
     "output_type": "stream",
     "text": [
      "100%|██████████| 1143/1143 [00:00<00:00, 1433639.20it/s]\n",
      "  0%|          | 4/1143 [00:00<02:30,  7.56it/s]"
     ]
    },
    {
     "name": "stdout",
     "output_type": "stream",
     "text": [
      "chr4\n"
     ]
    },
    {
     "name": "stderr",
     "output_type": "stream",
     "text": [
      "\r",
      "  1%|          | 6/1143 [00:00<02:27,  7.69it/s]"
     ]
    },
    {
     "name": "stdout",
     "output_type": "stream",
     "text": [
      "chr4\n"
     ]
    },
    {
     "name": "stderr",
     "output_type": "stream",
     "text": [
      "100%|██████████| 1143/1143 [00:00<00:00, 1391204.14it/s]\n",
      "  0%|          | 1/1143 [00:00<04:27,  4.28it/s]"
     ]
    },
    {
     "name": "stdout",
     "output_type": "stream",
     "text": [
      "chr5\n",
      "chr5\n"
     ]
    },
    {
     "name": "stderr",
     "output_type": "stream",
     "text": [
      "100%|██████████| 1143/1143 [00:00<00:00, 1415438.29it/s]\n",
      "  1%|          | 9/1143 [00:01<02:17,  8.27it/s]]"
     ]
    },
    {
     "name": "stdout",
     "output_type": "stream",
     "text": [
      "chr6\n",
      "chr6\n"
     ]
    },
    {
     "name": "stderr",
     "output_type": "stream",
     "text": [
      "100%|██████████| 1143/1143 [00:00<00:00, 1431071.48it/s]\n",
      "  0%|          | 1/1143 [00:00<04:29,  4.24it/s]]"
     ]
    },
    {
     "name": "stdout",
     "output_type": "stream",
     "text": [
      "chr7"
     ]
    },
    {
     "name": "stderr",
     "output_type": "stream",
     "text": [
      "\r",
      "  1%|          | 8/1143 [00:01<02:27,  7.69it/s]"
     ]
    },
    {
     "name": "stdout",
     "output_type": "stream",
     "text": [
      "\n",
      "chr7\n"
     ]
    },
    {
     "name": "stderr",
     "output_type": "stream",
     "text": [
      "100%|██████████| 1143/1143 [00:00<00:00, 1498152.96it/s]\n",
      "  1%|▏         | 15/1143 [00:02<02:31,  7.47it/s]"
     ]
    },
    {
     "name": "stdout",
     "output_type": "stream",
     "text": [
      "chr8\n",
      "chr8\n"
     ]
    },
    {
     "name": "stderr",
     "output_type": "stream",
     "text": [
      "100%|██████████| 1143/1143 [00:00<00:00, 1632864.26it/s]\n",
      "  1%|          | 9/1143 [00:01<02:20,  8.05it/s]]"
     ]
    },
    {
     "name": "stdout",
     "output_type": "stream",
     "text": [
      "chr9\n",
      "chr9\n"
     ]
    },
    {
     "name": "stderr",
     "output_type": "stream",
     "text": [
      "100%|██████████| 1143/1143 [00:00<00:00, 1383975.02it/s]\n",
      "  1%|▏         | 16/1143 [00:02<02:17,  8.17it/s]"
     ]
    },
    {
     "name": "stdout",
     "output_type": "stream",
     "text": [
      "chr10\n",
      "chr10\n"
     ]
    },
    {
     "name": "stderr",
     "output_type": "stream",
     "text": [
      "100%|██████████| 1143/1143 [00:00<00:00, 1485618.06it/s]\n",
      "  2%|▏         | 23/1143 [00:02<02:12,  8.46it/s]"
     ]
    },
    {
     "name": "stdout",
     "output_type": "stream",
     "text": [
      "chr11\n"
     ]
    },
    {
     "name": "stderr",
     "output_type": "stream",
     "text": [
      "\r",
      "  1%|          | 10/1143 [00:01<02:22,  7.97it/s]"
     ]
    },
    {
     "name": "stdout",
     "output_type": "stream",
     "text": [
      "chr11\n"
     ]
    },
    {
     "name": "stderr",
     "output_type": "stream",
     "text": [
      "100%|██████████| 1143/1143 [00:00<00:00, 1364671.07it/s]\n",
      "  1%|▏         | 15/1143 [00:01<02:15,  8.33it/s]"
     ]
    },
    {
     "name": "stdout",
     "output_type": "stream",
     "text": [
      "chr12\n",
      "chr12\n"
     ]
    },
    {
     "name": "stderr",
     "output_type": "stream",
     "text": [
      "100%|██████████| 1143/1143 [00:00<00:00, 1326899.94it/s]\n",
      "  1%|          | 12/1143 [00:01<02:22,  7.94it/s]"
     ]
    },
    {
     "name": "stdout",
     "output_type": "stream",
     "text": [
      "chr13\n",
      "chr13"
     ]
    },
    {
     "name": "stderr",
     "output_type": "stream",
     "text": [
      "\r",
      "  0%|          | 1/1143 [00:00<05:36,  3.40it/s]"
     ]
    },
    {
     "name": "stdout",
     "output_type": "stream",
     "text": [
      "\n"
     ]
    },
    {
     "name": "stderr",
     "output_type": "stream",
     "text": [
      "100%|██████████| 1143/1143 [00:00<00:00, 1520003.00it/s]\n",
      "  2%|▏         | 20/1143 [00:02<02:15,  8.29it/s]"
     ]
    },
    {
     "name": "stdout",
     "output_type": "stream",
     "text": [
      "chr14"
     ]
    },
    {
     "name": "stderr",
     "output_type": "stream",
     "text": [
      "\r",
      "  3%|▎         | 31/1143 [00:03<02:12,  8.40it/s]"
     ]
    },
    {
     "name": "stdout",
     "output_type": "stream",
     "text": [
      "\n",
      "chr14\n"
     ]
    },
    {
     "name": "stderr",
     "output_type": "stream",
     "text": [
      "100%|██████████| 1143/1143 [00:00<00:00, 1517116.92it/s]\n",
      "  0%|          | 3/1143 [00:00<03:20,  5.68it/s]]"
     ]
    },
    {
     "name": "stdout",
     "output_type": "stream",
     "text": [
      "chr15\n",
      "chr15\n"
     ]
    },
    {
     "name": "stderr",
     "output_type": "stream",
     "text": [
      "100%|██████████| 1143/1143 [00:00<00:00, 762540.08it/s]\n",
      "  2%|▏         | 19/1143 [00:02<02:22,  7.88it/s]"
     ]
    },
    {
     "name": "stdout",
     "output_type": "stream",
     "text": [
      "chr16\n",
      "chr16\n"
     ]
    },
    {
     "name": "stderr",
     "output_type": "stream",
     "text": [
      "100%|██████████| 1143/1143 [00:00<00:00, 605543.70it/s]\n",
      "  0%|          | 1/1143 [00:00<05:11,  3.67it/s]]"
     ]
    },
    {
     "name": "stdout",
     "output_type": "stream",
     "text": [
      "chr17\n",
      "chr17\n"
     ]
    },
    {
     "name": "stderr",
     "output_type": "stream",
     "text": [
      "100%|██████████| 1143/1143 [00:00<00:00, 1543990.17it/s]\n",
      "  1%|          | 10/1143 [00:01<02:27,  7.69it/s]"
     ]
    },
    {
     "name": "stdout",
     "output_type": "stream",
     "text": [
      "chr18\n",
      "chr18\n"
     ]
    },
    {
     "name": "stderr",
     "output_type": "stream",
     "text": [
      "100%|██████████| 1143/1143 [00:00<00:00, 1568746.55it/s]\n",
      "  1%|▏         | 17/1143 [00:02<02:25,  7.76it/s]"
     ]
    },
    {
     "name": "stdout",
     "output_type": "stream",
     "text": [
      "chr19\n"
     ]
    },
    {
     "name": "stderr",
     "output_type": "stream",
     "text": [
      "\r",
      "  1%|▏         | 15/1143 [00:02<02:24,  7.80it/s]"
     ]
    },
    {
     "name": "stdout",
     "output_type": "stream",
     "text": [
      "chr19\n"
     ]
    },
    {
     "name": "stderr",
     "output_type": "stream",
     "text": [
      "100%|██████████| 1143/1143 [00:00<00:00, 989696.42it/s]\n",
      "  1%|▏         | 15/1143 [00:02<02:23,  7.89it/s]"
     ]
    },
    {
     "name": "stdout",
     "output_type": "stream",
     "text": [
      "chrX\n",
      "chrX\n"
     ]
    },
    {
     "name": "stderr",
     "output_type": "stream",
     "text": [
      "100%|██████████| 1143/1143 [00:00<00:00, 1372484.82it/s]\n",
      "100%|██████████| 1143/1143 [01:21<00:00, 14.10it/s] \n",
      "100%|██████████| 1143/1143 [01:22<00:00, 13.86it/s] \n",
      "100%|██████████| 1143/1143 [01:21<00:00, 14.10it/s] \n",
      "100%|██████████| 1143/1143 [01:22<00:00, 13.84it/s] \n",
      "100%|██████████| 1143/1143 [01:22<00:00, 13.93it/s] \n",
      "100%|██████████| 1143/1143 [01:24<00:00, 13.59it/s] \n",
      "100%|██████████| 1143/1143 [01:24<00:00, 13.53it/s] \n",
      "100%|██████████| 1143/1143 [01:21<00:00, 13.98it/s] \n",
      "100%|██████████| 1143/1143 [01:22<00:00, 13.82it/s] \n",
      "100%|██████████| 1143/1143 [01:21<00:00, 13.99it/s] \n",
      "100%|██████████| 1143/1143 [01:24<00:00, 13.52it/s] \n",
      "100%|██████████| 1143/1143 [01:23<00:00, 13.77it/s] \n",
      "100%|██████████| 1143/1143 [01:24<00:00, 13.55it/s] \n",
      "100%|██████████| 1143/1143 [01:23<00:00, 13.66it/s] \n",
      "100%|██████████| 1143/1143 [01:22<00:00, 13.89it/s] \n",
      "100%|██████████| 1143/1143 [01:23<00:00, 13.67it/s] \n",
      "100%|██████████| 1143/1143 [01:22<00:00, 13.83it/s] \n",
      "100%|██████████| 1143/1143 [01:22<00:00, 13.78it/s] \n",
      " 97%|█████████▋| 1113/1143 [01:22<00:00, 149.81it/s]\n",
      "100%|██████████| 1143/1143 [01:24<00:00, 13.50it/s] \n"
     ]
    },
    {
     "name": "stdout",
     "output_type": "stream",
     "text": [
      "Collect result\n",
      "Collect result\n",
      "Collect result\n",
      "Collect result\n",
      "Collect result\n",
      "Collect result\n",
      "Collect result\n",
      "Collect result\n",
      "Collect result\n",
      "Collect result\n",
      "Collect result\n",
      "Collect result\n",
      "Collect result\n",
      "Collect result\n",
      "Collect result\n",
      "Collect result\n",
      "Collect result\n",
      "Collect result\n",
      "Collect result\n",
      "Collect result\n"
     ]
    }
   ],
   "source": [
    "importlib.reload(ImputeHiFI)\n",
    "chr_name_list=first_seen_probe_data['chr_name_list']\n",
    "cell_number=first_seen_probe_data['cell_number']\n",
    "all_cell_dna_list=first_seen_probe_data['all_cell_dna_list']\n",
    "cell_name_array=first_seen_probe_data['cell_name_array']\n",
    "All_cell_RMSD_dict=ImputeHiFI.generate_cell_cell_RMSD.get_All_cell_RMSD_dict(chr_name_list,cell_number,all_cell_dna_list,\n",
    "                               cell_name_array,kernerl_number=None)"
   ]
  },
  {
   "cell_type": "code",
   "execution_count": 87,
   "id": "e03a0c9b",
   "metadata": {
    "ExecuteTime": {
     "end_time": "2024-04-27T13:51:19.134097Z",
     "start_time": "2024-04-27T13:51:19.130000Z"
    }
   },
   "outputs": [],
   "source": [
    "first_seen_probe_data['All_cell_RMSD_dict']=All_cell_RMSD_dict"
   ]
  },
  {
   "cell_type": "markdown",
   "id": "f232d016",
   "metadata": {},
   "source": [
    "### cell cell RNA RMSD"
   ]
  },
  {
   "cell_type": "code",
   "execution_count": 90,
   "id": "2aa99a9b",
   "metadata": {
    "ExecuteTime": {
     "end_time": "2024-04-27T13:56:31.792017Z",
     "start_time": "2024-04-27T13:54:26.276785Z"
    },
    "scrolled": true
   },
   "outputs": [
    {
     "name": "stdout",
     "output_type": "stream",
     "text": [
      "v5 similar FISH\n"
     ]
    },
    {
     "data": {
      "text/plain": [
       "<module 'ImputeHiFI_Algorithm_v5' from '/mnt/disk1/scfan/program/image_project/Cai_21_bioRxiv_Process/ImputHiFi/ImputeHiFI_Algorithm_v5.py'>"
      ]
     },
     "execution_count": 90,
     "metadata": {},
     "output_type": "execute_result"
    },
    {
     "name": "stdout",
     "output_type": "stream",
     "text": [
      "chr1\n"
     ]
    },
    {
     "name": "stderr",
     "output_type": "stream",
     "text": [
      " 14%|█▍        | 165/1143 [00:04<00:20, 46.70it/s]"
     ]
    },
    {
     "name": "stdout",
     "output_type": "stream",
     "text": [
      "chr2\n"
     ]
    },
    {
     "name": "stderr",
     "output_type": "stream",
     "text": [
      " 14%|█▍        | 159/1143 [00:03<00:20, 47.88it/s]"
     ]
    },
    {
     "name": "stdout",
     "output_type": "stream",
     "text": [
      "chr3\n"
     ]
    },
    {
     "name": "stderr",
     "output_type": "stream",
     "text": [
      " 14%|█▍        | 165/1143 [00:04<00:21, 46.49it/s]"
     ]
    },
    {
     "name": "stdout",
     "output_type": "stream",
     "text": [
      "chr4\n"
     ]
    },
    {
     "name": "stderr",
     "output_type": "stream",
     "text": [
      " 63%|██████▎   | 717/1143 [00:16<00:10, 40.87it/s]"
     ]
    },
    {
     "name": "stdout",
     "output_type": "stream",
     "text": [
      "chr5\n"
     ]
    },
    {
     "name": "stderr",
     "output_type": "stream",
     "text": [
      " 31%|███▏      | 359/1143 [00:07<00:14, 55.61it/s]"
     ]
    },
    {
     "name": "stdout",
     "output_type": "stream",
     "text": [
      "chr6\n"
     ]
    },
    {
     "name": "stderr",
     "output_type": "stream",
     "text": [
      " 62%|██████▏   | 714/1143 [00:16<00:10, 41.21it/s]]"
     ]
    },
    {
     "name": "stdout",
     "output_type": "stream",
     "text": [
      "chr7\n"
     ]
    },
    {
     "name": "stderr",
     "output_type": "stream",
     "text": [
      "100%|██████████| 1143/1143 [00:25<00:00, 44.93it/s]\n",
      " 97%|█████████▋| 1108/1143 [00:24<00:00, 45.11it/s]"
     ]
    },
    {
     "name": "stdout",
     "output_type": "stream",
     "text": [
      "chr8\n"
     ]
    },
    {
     "name": "stderr",
     "output_type": "stream",
     "text": [
      "100%|██████████| 1143/1143 [00:25<00:00, 44.64it/s]\n",
      " 15%|█▍        | 167/1143 [00:04<00:21, 45.81it/s]]"
     ]
    },
    {
     "name": "stdout",
     "output_type": "stream",
     "text": [
      "chr9\n"
     ]
    },
    {
     "name": "stderr",
     "output_type": "stream",
     "text": [
      "100%|██████████| 1143/1143 [00:25<00:00, 45.19it/s]\n",
      "100%|██████████| 1143/1143 [00:25<00:00, 45.09it/s]\n",
      " 53%|█████▎    | 608/1143 [00:13<00:13, 40.73it/s]"
     ]
    },
    {
     "name": "stdout",
     "output_type": "stream",
     "text": [
      "chr10\n"
     ]
    },
    {
     "name": "stderr",
     "output_type": "stream",
     "text": [
      "100%|██████████| 1143/1143 [00:25<00:00, 44.89it/s]\n",
      " 22%|██▏       | 250/1143 [00:05<00:17, 51.95it/s]]"
     ]
    },
    {
     "name": "stdout",
     "output_type": "stream",
     "text": [
      "chr11"
     ]
    },
    {
     "name": "stderr",
     "output_type": "stream",
     "text": [
      "\r",
      " 58%|█████▊    | 667/1143 [00:14<00:11, 40.48it/s]"
     ]
    },
    {
     "name": "stdout",
     "output_type": "stream",
     "text": [
      "\n"
     ]
    },
    {
     "name": "stderr",
     "output_type": "stream",
     "text": [
      "100%|██████████| 1143/1143 [00:25<00:00, 44.93it/s]\n",
      " 17%|█▋        | 190/1143 [00:04<00:22, 41.56it/s]]"
     ]
    },
    {
     "name": "stdout",
     "output_type": "stream",
     "text": [
      "chr12\n"
     ]
    },
    {
     "name": "stderr",
     "output_type": "stream",
     "text": [
      "100%|██████████| 1143/1143 [00:25<00:00, 44.78it/s]\n",
      " 97%|█████████▋| 1114/1143 [00:24<00:00, 44.01it/s]"
     ]
    },
    {
     "name": "stdout",
     "output_type": "stream",
     "text": [
      "chr13"
     ]
    },
    {
     "name": "stderr",
     "output_type": "stream",
     "text": [
      "\r",
      " 60%|██████    | 687/1143 [00:15<00:11, 39.07it/s]"
     ]
    },
    {
     "name": "stdout",
     "output_type": "stream",
     "text": [
      "\n"
     ]
    },
    {
     "name": "stderr",
     "output_type": "stream",
     "text": [
      "100%|██████████| 1143/1143 [00:25<00:00, 45.13it/s]\n",
      " 79%|███████▉  | 903/1143 [00:20<00:04, 53.14it/s]]"
     ]
    },
    {
     "name": "stdout",
     "output_type": "stream",
     "text": [
      "chr14\n"
     ]
    },
    {
     "name": "stderr",
     "output_type": "stream",
     "text": [
      "100%|██████████| 1143/1143 [00:25<00:00, 44.87it/s]\n",
      " 73%|███████▎  | 838/1143 [00:19<00:07, 43.02it/s]]"
     ]
    },
    {
     "name": "stdout",
     "output_type": "stream",
     "text": [
      "chr15\n"
     ]
    },
    {
     "name": "stderr",
     "output_type": "stream",
     "text": [
      "100%|██████████| 1143/1143 [00:25<00:00, 44.77it/s]\n",
      " 94%|█████████▍| 1074/1143 [00:23<00:01, 45.42it/s]"
     ]
    },
    {
     "name": "stdout",
     "output_type": "stream",
     "text": [
      "chr16\n"
     ]
    },
    {
     "name": "stderr",
     "output_type": "stream",
     "text": [
      "100%|██████████| 1143/1143 [00:25<00:00, 45.00it/s]\n",
      " 55%|█████▍    | 627/1143 [00:13<00:12, 40.84it/s]]"
     ]
    },
    {
     "name": "stdout",
     "output_type": "stream",
     "text": [
      "chr17\n"
     ]
    },
    {
     "name": "stderr",
     "output_type": "stream",
     "text": [
      "100%|██████████| 1143/1143 [00:25<00:00, 45.24it/s]\n",
      " 16%|█▌        | 179/1143 [00:04<00:24, 40.08it/s]]"
     ]
    },
    {
     "name": "stdout",
     "output_type": "stream",
     "text": [
      "chr18"
     ]
    },
    {
     "name": "stderr",
     "output_type": "stream",
     "text": [
      "\r",
      " 93%|█████████▎| 1058/1143 [00:23<00:01, 42.65it/s]"
     ]
    },
    {
     "name": "stdout",
     "output_type": "stream",
     "text": [
      "\n"
     ]
    },
    {
     "name": "stderr",
     "output_type": "stream",
     "text": [
      "100%|██████████| 1143/1143 [00:25<00:00, 45.13it/s]\n",
      " 92%|█████████▏| 1054/1143 [00:23<00:01, 46.88it/s]"
     ]
    },
    {
     "name": "stdout",
     "output_type": "stream",
     "text": [
      "chr19"
     ]
    },
    {
     "name": "stderr",
     "output_type": "stream",
     "text": [
      "\r",
      " 38%|███▊      | 437/1143 [00:09<00:14, 49.32it/s]"
     ]
    },
    {
     "name": "stdout",
     "output_type": "stream",
     "text": [
      "\n"
     ]
    },
    {
     "name": "stderr",
     "output_type": "stream",
     "text": [
      "100%|██████████| 1143/1143 [00:25<00:00, 45.13it/s]\n",
      " 40%|████      | 459/1143 [00:10<00:15, 43.64it/s]]"
     ]
    },
    {
     "name": "stdout",
     "output_type": "stream",
     "text": [
      "chrX\n"
     ]
    },
    {
     "name": "stderr",
     "output_type": "stream",
     "text": [
      "100%|██████████| 1143/1143 [00:25<00:00, 44.48it/s]\n",
      "100%|██████████| 1143/1143 [00:25<00:00, 44.81it/s]\n",
      "100%|██████████| 1143/1143 [00:26<00:00, 43.38it/s]\n",
      "100%|██████████| 1143/1143 [00:27<00:00, 41.89it/s]\n",
      "100%|██████████| 1143/1143 [00:27<00:00, 42.01it/s]\n",
      "100%|██████████| 1143/1143 [00:27<00:00, 42.18it/s]\n"
     ]
    },
    {
     "name": "stdout",
     "output_type": "stream",
     "text": [
      "Collect result\n",
      "Collect result\n",
      "Collect result\n",
      "Collect result\n",
      "Collect result\n",
      "Collect result\n",
      "Collect result\n",
      "Collect result\n",
      "Collect result\n",
      "Collect result\n",
      "Collect result\n",
      "Collect result\n",
      "Collect result\n",
      "Collect result\n",
      "Collect result\n",
      "Collect result\n",
      "Collect result\n",
      "Collect result\n",
      "Collect result\n",
      "Collect result\n"
     ]
    }
   ],
   "source": [
    "importlib.reload(ImputeHiFI)\n",
    "chr_name_list=first_seen_probe_data['chr_name_list']\n",
    "cell_number=first_seen_probe_data['cell_number']\n",
    "all_cell_dna_list=first_seen_probe_data['all_cell_dna_list']\n",
    "cell_name_array=first_seen_probe_data['cell_name_array']\n",
    "All_cell_RMSD_dict=first_seen_probe_data['All_cell_RMSD_dict']\n",
    "All_cell_RNA_RMSD_dict=ImputeHiFI.generate_RNA_FISH_cell_cell_RMSD.get_RNA_FISH_cell_cell_RMSD_dict(RNA_FISH_adata,chr_name_list,cell_name_array,\n",
    "                                         All_cell_RMSD_dict,kernerl_number=None)\n",
    "first_seen_probe_data['All_cell_RNA_RMSD_dict']=All_cell_RNA_RMSD_dict"
   ]
  },
  {
   "cell_type": "markdown",
   "id": "c15f79b4",
   "metadata": {},
   "source": [
    "### generate linear impute result"
   ]
  },
  {
   "cell_type": "code",
   "execution_count": 103,
   "id": "07790ebb",
   "metadata": {
    "ExecuteTime": {
     "end_time": "2024-04-27T17:56:18.247252Z",
     "start_time": "2024-04-27T17:56:15.602218Z"
    }
   },
   "outputs": [],
   "source": [
    "first_seen_probe_data_path=os.path.join(first_seen_probe_data_dir,'first_seen_probe_data.pkl')\n",
    "first_seen_probe_data=basic.load_variable_from_pikle_file(first_seen_probe_data_path)"
   ]
  },
  {
   "cell_type": "code",
   "execution_count": 104,
   "id": "aee7035c",
   "metadata": {
    "ExecuteTime": {
     "end_time": "2024-04-27T17:56:20.977025Z",
     "start_time": "2024-04-27T17:56:18.252495Z"
    }
   },
   "outputs": [
    {
     "name": "stderr",
     "output_type": "stream",
     "text": [
      "100%|██████████| 20/20 [00:00<00:00, 4504.43it/s]\n",
      "100%|██████████| 1143/1143 [00:02<00:00, 440.77it/s]\n"
     ]
    }
   ],
   "source": [
    "cell_number=first_seen_probe_data['cell_number']\n",
    "all_cell_dna_list=first_seen_probe_data['all_cell_dna_list']\n",
    "chr_num=len(first_seen_probe_data['chr_name_list'])\n",
    "Extriming_chr_list=[]\n",
    "\n",
    "for chr_idx in tqdm(range(chr_num)):\n",
    "    for cell_idx in range(cell_number):\n",
    "        _zxys=all_cell_dna_list[cell_idx][chr_idx]\n",
    "        probe_number = _zxys.shape[0]\n",
    "        nan_ids = np.where(np.isnan(all_cell_dna_list[cell_idx][chr_idx][:,0]))[0]\n",
    "        (continue_number_list, continue_start_ids) = FillNANBasic.FillNANMean.get_NAN_continue_info(nan_ids)\n",
    "        _zxys_fill_NAN, extreaming_condition_1 = FillNANBasic.FillNANMean.fill_NAN_v1(_zxys,\n",
    "                                                                                  continue_number_list,\n",
    "                                                                                  continue_start_ids,\n",
    "                                                                                  probe_number)\n",
    "        if not extreaming_condition_1:\n",
    "            Extriming_chr_list.append(_zxys_fill_NAN)\n",
    "            break\n",
    "Impute_dna_list=copy.deepcopy(all_cell_dna_list)\n",
    "for cell_idx in tqdm(range(cell_number)):\n",
    "    for chr_idx in range(chr_num):\n",
    "        _zxys=all_cell_dna_list[cell_idx][chr_idx]\n",
    "        probe_number = _zxys.shape[0]\n",
    "        nan_ids = np.where(np.isnan(all_cell_dna_list[cell_idx][chr_idx][:,0]))[0]\n",
    "\n",
    "        if (len(nan_ids) > 0):\n",
    "            (continue_number_list, continue_start_ids) = FillNANBasic.FillNANMean.get_NAN_continue_info(nan_ids)\n",
    "\n",
    "            _zxys_fill_NAN, extreaming_condition_1 = FillNANBasic.FillNANMean.fill_NAN_v1(_zxys,\n",
    "                                                                                          continue_number_list,\n",
    "                                                                                          continue_start_ids,\n",
    "                                                                                          probe_number)\n",
    "        else:\n",
    "            _zxys_fill_NAN = _zxys\n",
    "            extreaming_condition_1 = False\n",
    "        if (extreaming_condition_1):\n",
    "            _zxys_fill_NAN=Extriming_chr_list[chr_idx]\n",
    "        Impute_dna_list[cell_idx][chr_idx]=_zxys_fill_NAN\n",
    "first_seen_probe_data['Linear_all_cell_dna_list']=Impute_dna_list\n",
    "first_seen_probe_data['Extriming_chr_list']=Extriming_chr_list"
   ]
  },
  {
   "cell_type": "markdown",
   "id": "4561e3e0",
   "metadata": {},
   "source": [
    "### store first seen probe data"
   ]
  },
  {
   "cell_type": "code",
   "execution_count": 105,
   "id": "36b4ce97",
   "metadata": {
    "ExecuteTime": {
     "end_time": "2024-04-27T17:56:29.035693Z",
     "start_time": "2024-04-27T17:56:20.979918Z"
    }
   },
   "outputs": [],
   "source": [
    "first_seen_probe_data_path=os.path.join(first_seen_probe_data_dir,'first_seen_probe_data.pkl')\n",
    "basic.store_variable_from_pikle_file(first_seen_probe_data_path,first_seen_probe_data)"
   ]
  },
  {
   "cell_type": "code",
   "execution_count": 94,
   "id": "c3b2ba42",
   "metadata": {
    "ExecuteTime": {
     "end_time": "2024-04-27T13:57:55.621045Z",
     "start_time": "2024-04-27T13:57:55.609692Z"
    }
   },
   "outputs": [
    {
     "data": {
      "text/plain": [
       "dict_keys(['chrom_ids', 'region_names', 'start_position', 'end_position', 'mid_position', 'mid_position_Mb', 'dna_zxys', 'chrom_name', 'gene_ID', 'cluster_label', 'cluster_label_name', 'all_cell_dna_list', 'chrom_ids_to_index_dict', 'chrom_index_to_ids_dict', 'chr_name_list', 'cell_name_array', 'cell_name_list', 'each_chr_missing_rate_df', 'missing_rate_df', 'chr_bin_length_dic', 'cell_type_df', 'adata_obs_df', 'spaital_dist_suffix', 'prxoimtiy_score_suffix', 'cell_number', 'chr_cell_type_center_value_df', 'All_cell_RMSD_dict', 'All_cell_RNA_RMSD_dict', 'Linear_all_cell_dna_list', 'Extriming_chr_list'])"
      ]
     },
     "execution_count": 94,
     "metadata": {},
     "output_type": "execute_result"
    }
   ],
   "source": [
    "first_seen_probe_data.keys()"
   ]
  },
  {
   "cell_type": "code",
   "execution_count": null,
   "id": "808d4bb6",
   "metadata": {},
   "outputs": [],
   "source": [
    "first_seen_probe_data_path=os.path.join(first_seen_probe_data_dir,'first_seen_probe_data.pkl')\n",
    "first_seen_probe_data=basic.load_variable_from_pikle_file(first_seen_probe_data_path)"
   ]
  },
  {
   "cell_type": "code",
   "execution_count": null,
   "id": "5a0e0e33-b285-4405-8d8c-5f7456aedf85",
   "metadata": {},
   "outputs": [],
   "source": []
  },
  {
   "cell_type": "markdown",
   "id": "24ce353f",
   "metadata": {},
   "source": [
    "## generate ImputeHiFI mode2 result"
   ]
  },
  {
   "cell_type": "markdown",
   "id": "ccfd8129",
   "metadata": {},
   "source": [
    "### proxi adata"
   ]
  },
  {
   "cell_type": "code",
   "execution_count": 205,
   "id": "4582fb0e",
   "metadata": {
    "ExecuteTime": {
     "end_time": "2024-04-26T14:53:32.711018Z",
     "start_time": "2024-04-26T14:53:27.305450Z"
    }
   },
   "outputs": [],
   "source": [
    "FISH_RMSD_name='All_cell_RNA_RMSD_dict'\n",
    "version = 'no_HiC_RNA_FISH_RMSD_not_use_mean_count'\n",
    "\n",
    "first_seen_probe_data_path=os.path.join(first_seen_probe_data_dir,'first_seen_probe_data.pkl')\n",
    "first_seen_probe_data=basic.load_variable_from_pikle_file(first_seen_probe_data_path)\n",
    "\n",
    "chr_cell_type_center_value_df=first_seen_probe_data['chr_cell_type_center_value_df']\n",
    "chr_name_list=first_seen_probe_data['chr_name_list']\n",
    "cell_number=first_seen_probe_data['cell_number']\n",
    "cell_name_list=first_seen_probe_data['cell_name_list'][0:5]\n",
    "all_cell_dna_list=first_seen_probe_data['all_cell_dna_list']\n",
    "chr_bin_length_dic=first_seen_probe_data['chr_bin_length_dic']\n",
    "chrom_index_to_ids_dict=first_seen_probe_data['chrom_index_to_ids_dict']\n",
    "adata_obs_df=first_seen_probe_data['adata_obs_df']\n",
    "spaital_dist_suffix=first_seen_probe_data['spaital_dist_suffix']\n",
    "prxoimtiy_score_suffix=first_seen_probe_data['prxoimtiy_score_suffix']\n",
    "missing_rate_df=first_seen_probe_data['missing_rate_df']\n",
    "FISH_nearest_neighbors_dic=first_seen_probe_data[FISH_RMSD_name]\n",
    "\n",
    "store_path=os.path.join(first_seen_probe_data_dir,f'first_seen_probe_data_{prxoimtiy_score_suffix}.h5ad')\n",
    "DNA_FISH_proxi_adata=sc.read(store_path)"
   ]
  },
  {
   "cell_type": "code",
   "execution_count": 223,
   "id": "da6c169b",
   "metadata": {
    "ExecuteTime": {
     "end_time": "2024-04-26T15:28:55.883240Z",
     "start_time": "2024-04-26T15:27:58.468455Z"
    },
    "scrolled": true
   },
   "outputs": [
    {
     "name": "stdout",
     "output_type": "stream",
     "text": [
      "v6 similar FISH no HiC\n"
     ]
    },
    {
     "data": {
      "text/plain": [
       "<module 'ImputeHiFI_Algorithm_v6_no_HiC' from '/mnt/disk1/scfan/program/image_project/Cai_21_bioRxiv_Process/ImputHiFi/ImputeHiFI_Algorithm_v6_no_HiC.py'>"
      ]
     },
     "execution_count": 223,
     "metadata": {},
     "output_type": "execute_result"
    },
    {
     "name": "stderr",
     "output_type": "stream",
     "text": [
      "100%|██████████| 5/5 [00:52<00:00, 10.50s/it]\n"
     ]
    },
    {
     "name": "stdout",
     "output_type": "stream",
     "text": [
      "Collect result\n"
     ]
    }
   ],
   "source": [
    "importlib.reload(ImputeHiFI_no_HiC)\n",
    "base_coef = 0.001\n",
    "HiC_weight = 0\n",
    "FISH_weight = 1\n",
    "short_range_HiC_weight_bound = 0.0\n",
    "long_range_HiC_weight_bound = 0.0\n",
    "all_range_diag_sum_weight_HiC_bound = 0.0\n",
    "short_range_diag = 0 \n",
    "initial_guess = [HiC_weight, FISH_weight]\n",
    "verbose = False\n",
    "background_cell_num = 150\n",
    "use_mean_count=0\n",
    "para = ('bg_n' + str(background_cell_num) + '_sdn' + str(short_range_diag) + '_sd' + str(\n",
    "    all_range_diag_sum_weight_HiC_bound) +\n",
    "        '_sr' + str(short_range_HiC_weight_bound) + '_lr' + str(long_range_HiC_weight_bound))\n",
    "\n",
    "store_path = os.path.join(ImputeHiFI_data_dir,str(version)+\"_proximity_score_adata_\"+str(para)+\".h5ad\")\n",
    "\n",
    "ImputeHiFI_no_HiC.ImputeHiFi_mode2_mode3.get_Impute_proximity_score(DNA_FISH_proxi_adata,missing_rate_df,cell_name_list,chr_bin_length_dic,base_coef,HiC_weight,FISH_weight,initial_guess,\n",
    "                                                                    short_range_HiC_weight_bound,long_range_HiC_weight_bound, all_range_diag_sum_weight_HiC_bound,\n",
    "                                                                    short_range_diag, background_cell_num,use_mean_count,FISH_nearest_neighbors_dic,store_path,kernerl_number=1)"
   ]
  },
  {
   "cell_type": "code",
   "execution_count": 224,
   "id": "d8008cee",
   "metadata": {
    "ExecuteTime": {
     "end_time": "2024-04-26T15:29:40.005228Z",
     "start_time": "2024-04-26T15:29:39.941969Z"
    }
   },
   "outputs": [
    {
     "name": "stdout",
     "output_type": "stream",
     "text": [
      "WARNING: Your filename has more than two extensions: ['.0_sr0', '.0_lr0', '.0', '.h5ad'].\n",
      "Only considering the two last: ['.0', '.h5ad'].\n",
      "WARNING: Your filename has more than two extensions: ['.0_sr0', '.0_lr0', '.0', '.h5ad'].\n",
      "Only considering the two last: ['.0', '.h5ad'].\n"
     ]
    }
   ],
   "source": [
    "store_path = os.path.join(ImputeHiFI_data_dir,str(version)+\"_proximity_score_adata_\"+str(para)+\".h5ad\")\n",
    "\n",
    "ImputeHiFI_prox_adata=sc.read(store_path)"
   ]
  },
  {
   "cell_type": "code",
   "execution_count": 225,
   "id": "3d08d2ea",
   "metadata": {
    "ExecuteTime": {
     "end_time": "2024-04-26T15:29:44.609432Z",
     "start_time": "2024-04-26T15:29:44.600280Z"
    }
   },
   "outputs": [
    {
     "data": {
      "text/plain": [
       "AnnData object with n_obs × n_vars = 5 × 35400\n",
       "    obs: 'cell_name', 'cell_type'\n",
       "    uns: 'parameter'"
      ]
     },
     "execution_count": 225,
     "metadata": {},
     "output_type": "execute_result"
    }
   ],
   "source": [
    "ImputeHiFI_prox_adata"
   ]
  },
  {
   "cell_type": "markdown",
   "id": "01e62823",
   "metadata": {},
   "source": [
    "### Impute 3D data"
   ]
  },
  {
   "cell_type": "code",
   "execution_count": 235,
   "id": "dc1bfe94",
   "metadata": {
    "ExecuteTime": {
     "end_time": "2024-04-26T16:02:53.899531Z",
     "start_time": "2024-04-26T16:02:53.890735Z"
    }
   },
   "outputs": [
    {
     "data": {
      "text/plain": [
       "dict_keys(['chrom_ids', 'region_names', 'start_position', 'end_position', 'mid_position', 'mid_position_Mb', 'dna_zxys', 'chrom_name', 'gene_ID', 'cluster_label', 'cluster_label_name', 'each_chr_missing_rate_df', 'missing_rate_df', 'all_cell_dna_list', 'chrom_ids_to_index_dict', 'chr_name_list', 'chr_bin_len_dict', 'chrom_index_to_ids_dict', 'cell_type_df', 'chr_bin_length_dic', 'cell_num', 'adata_obs_df', 'spaital_dist_suffix', 'prxoimtiy_score_suffix', 'cell_number', 'chr_cell_type_center_value_df', 'cell_name_array', 'All_cell_RMSD_dict', 'All_cell_RNA_RMSD_dict', 'Linear_all_cell_dna_list', 'Extriming_chr_list'])"
      ]
     },
     "execution_count": 235,
     "metadata": {},
     "output_type": "execute_result"
    }
   ],
   "source": [
    "first_seen_probe_data.keys()"
   ]
  },
  {
   "cell_type": "code",
   "execution_count": 238,
   "id": "f03a88d6",
   "metadata": {
    "ExecuteTime": {
     "end_time": "2024-04-26T16:09:21.062252Z",
     "start_time": "2024-04-26T16:08:43.849356Z"
    },
    "scrolled": true
   },
   "outputs": [
    {
     "name": "stdout",
     "output_type": "stream",
     "text": [
      "v5 similar FISH\n"
     ]
    },
    {
     "data": {
      "text/plain": [
       "<module 'ImputeHiFI_Algorithm_v5' from '/mnt/disk1/scfan/program/image_project/Cai_21_bioRxiv_Process/ImputHiFi/ImputeHiFI_Algorithm_v5.py'>"
      ]
     },
     "execution_count": 238,
     "metadata": {},
     "output_type": "execute_result"
    },
    {
     "name": "stdout",
     "output_type": "stream",
     "text": [
      "WARNING: Your filename has more than two extensions: ['.0_sr0', '.0_lr0', '.0', '.h5ad'].\n",
      "Only considering the two last: ['.0', '.h5ad'].\n",
      "WARNING: Your filename has more than two extensions: ['.0_sr0', '.0_lr0', '.0', '.h5ad'].\n",
      "Only considering the two last: ['.0', '.h5ad'].\n",
      "chr1\n"
     ]
    },
    {
     "name": "stderr",
     "output_type": "stream",
     "text": [
      "\r",
      "  0%|          | 0/5 [00:00<?, ?it/s]"
     ]
    },
    {
     "name": "stdout",
     "output_type": "stream",
     "text": [
      "chr2\n"
     ]
    },
    {
     "name": "stderr",
     "output_type": "stream",
     "text": [
      " 20%|██        | 1/5 [00:00<00:03,  1.07it/s]"
     ]
    },
    {
     "name": "stdout",
     "output_type": "stream",
     "text": [
      "chr3\n"
     ]
    },
    {
     "name": "stderr",
     "output_type": "stream",
     "text": [
      " 40%|████      | 2/5 [00:02<00:04,  1.53s/it]"
     ]
    },
    {
     "name": "stdout",
     "output_type": "stream",
     "text": [
      "chr4\n"
     ]
    },
    {
     "name": "stderr",
     "output_type": "stream",
     "text": [
      " 20%|██        | 1/5 [00:01<00:06,  1.73s/it]"
     ]
    },
    {
     "name": "stdout",
     "output_type": "stream",
     "text": [
      "chr5\n"
     ]
    },
    {
     "name": "stderr",
     "output_type": "stream",
     "text": [
      " 20%|██        | 1/5 [00:01<00:07,  1.79s/it]"
     ]
    },
    {
     "name": "stdout",
     "output_type": "stream",
     "text": [
      "chr6\n"
     ]
    },
    {
     "name": "stderr",
     "output_type": "stream",
     "text": [
      " 80%|████████  | 4/5 [00:06<00:01,  1.70s/it]"
     ]
    },
    {
     "name": "stdout",
     "output_type": "stream",
     "text": [
      "chr7\n"
     ]
    },
    {
     "name": "stderr",
     "output_type": "stream",
     "text": [
      " 80%|████████  | 4/5 [00:05<00:01,  1.41s/it]"
     ]
    },
    {
     "name": "stdout",
     "output_type": "stream",
     "text": [
      "chr8\n"
     ]
    },
    {
     "name": "stderr",
     "output_type": "stream",
     "text": [
      "100%|██████████| 5/5 [00:05<00:00,  1.16s/it]\n",
      "100%|██████████| 5/5 [00:08<00:00,  1.66s/it]\n",
      "100%|██████████| 5/5 [00:07<00:00,  1.45s/it]\n",
      "100%|██████████| 5/5 [00:05<00:00,  1.14s/it]"
     ]
    },
    {
     "name": "stdout",
     "output_type": "stream",
     "text": [
      "chr9"
     ]
    },
    {
     "name": "stderr",
     "output_type": "stream",
     "text": [
      "\n"
     ]
    },
    {
     "name": "stdout",
     "output_type": "stream",
     "text": [
      "\n"
     ]
    },
    {
     "name": "stderr",
     "output_type": "stream",
     "text": [
      " 40%|████      | 2/5 [00:02<00:03,  1.22s/it]"
     ]
    },
    {
     "name": "stdout",
     "output_type": "stream",
     "text": [
      "chr10\n"
     ]
    },
    {
     "name": "stderr",
     "output_type": "stream",
     "text": [
      "100%|██████████| 5/5 [00:06<00:00,  1.25s/it]\n",
      " 80%|████████  | 4/5 [00:05<00:01,  1.59s/it]"
     ]
    },
    {
     "name": "stdout",
     "output_type": "stream",
     "text": [
      "chr11\n"
     ]
    },
    {
     "name": "stderr",
     "output_type": "stream",
     "text": [
      "100%|██████████| 5/5 [00:06<00:00,  1.30s/it]\n",
      " 60%|██████    | 3/5 [00:05<00:03,  1.81s/it]\n"
     ]
    },
    {
     "name": "stdout",
     "output_type": "stream",
     "text": [
      "chr12\n"
     ]
    },
    {
     "name": "stderr",
     "output_type": "stream",
     "text": [
      " 60%|██████    | 3/5 [00:04<00:02,  1.33s/it]"
     ]
    },
    {
     "name": "stdout",
     "output_type": "stream",
     "text": [
      "chr13\n"
     ]
    },
    {
     "name": "stderr",
     "output_type": "stream",
     "text": [
      " 20%|██        | 1/5 [00:01<00:07,  1.83s/it]"
     ]
    },
    {
     "name": "stdout",
     "output_type": "stream",
     "text": [
      "chr14\n"
     ]
    },
    {
     "name": "stderr",
     "output_type": "stream",
     "text": [
      "100%|██████████| 5/5 [00:08<00:00,  1.72s/it]\n",
      "100%|██████████| 5/5 [00:06<00:00,  1.30s/it]\n",
      " 80%|████████  | 4/5 [00:05<00:01,  1.50s/it]"
     ]
    },
    {
     "name": "stdout",
     "output_type": "stream",
     "text": [
      "chr15\n"
     ]
    },
    {
     "name": "stderr",
     "output_type": "stream",
     "text": [
      "100%|██████████| 5/5 [00:07<00:00,  1.44s/it]\n",
      " 60%|██████    | 3/5 [00:05<00:03,  1.79s/it]"
     ]
    },
    {
     "name": "stdout",
     "output_type": "stream",
     "text": [
      "chr16\n"
     ]
    },
    {
     "name": "stderr",
     "output_type": "stream",
     "text": [
      "100%|██████████| 5/5 [00:07<00:00,  1.55s/it]\n"
     ]
    },
    {
     "name": "stdout",
     "output_type": "stream",
     "text": [
      "chr17\n"
     ]
    },
    {
     "name": "stderr",
     "output_type": "stream",
     "text": [
      " 60%|██████    | 3/5 [00:05<00:03,  1.78s/it]"
     ]
    },
    {
     "name": "stdout",
     "output_type": "stream",
     "text": [
      "chr18\n"
     ]
    },
    {
     "name": "stderr",
     "output_type": "stream",
     "text": [
      "100%|██████████| 5/5 [00:08<00:00,  1.79s/it]\n",
      "100%|██████████| 5/5 [00:07<00:00,  1.56s/it]\n",
      "  0%|          | 0/5 [00:00<?, ?it/s].63s/it]"
     ]
    },
    {
     "name": "stdout",
     "output_type": "stream",
     "text": [
      "chr19\n"
     ]
    },
    {
     "name": "stderr",
     "output_type": "stream",
     "text": [
      "100%|██████████| 5/5 [00:06<00:00,  1.28s/it]\n",
      " 40%|████      | 2/5 [00:03<00:05,  1.80s/it]"
     ]
    },
    {
     "name": "stdout",
     "output_type": "stream",
     "text": [
      "chrX\n"
     ]
    },
    {
     "name": "stderr",
     "output_type": "stream",
     "text": [
      "100%|██████████| 5/5 [00:08<00:00,  1.65s/it]\n",
      "100%|██████████| 5/5 [00:07<00:00,  1.46s/it]\n",
      "100%|██████████| 5/5 [00:07<00:00,  1.50s/it]\n",
      "100%|██████████| 5/5 [00:06<00:00,  1.31s/it]\n",
      "100%|██████████| 5/5 [00:04<00:00,  1.05it/s]\n",
      "100%|██████████| 5/5 [00:06<00:00,  1.32s/it]\n"
     ]
    },
    {
     "name": "stdout",
     "output_type": "stream",
     "text": [
      "Collect result\n",
      "Collect result\n",
      "Collect result\n",
      "Collect result\n",
      "Collect result\n",
      "Collect result\n",
      "Collect result\n",
      "Collect result\n",
      "Collect result\n",
      "Collect result\n",
      "Collect result\n",
      "Collect result\n",
      "Collect result\n",
      "Collect result\n",
      "Collect result\n",
      "Collect result\n",
      "Collect result\n",
      "Collect result\n",
      "Collect result\n",
      "Collect result\n"
     ]
    }
   ],
   "source": [
    "importlib.reload(ImputeHiFI)\n",
    "store_path = os.path.join(ImputeHiFI_data_dir,str(version)+\"_proximity_score_adata_\"+str(para)+\".h5ad\")\n",
    "ImputeHiFI_adata=sc.read(store_path)\n",
    "\n",
    "chr_cell_type_center_value_df=first_seen_probe_data['chr_cell_type_center_value_df']\n",
    "chr_name_list=first_seen_probe_data['chr_name_list']\n",
    "cell_number=first_seen_probe_data['cell_number']\n",
    "all_cell_dna_list=first_seen_probe_data['all_cell_dna_list']\n",
    "chr_bin_length_dic=first_seen_probe_data['chr_bin_length_dic']\n",
    "chrom_index_to_ids_dict=first_seen_probe_data['chrom_index_to_ids_dict']\n",
    "chrom_ids_to_index_dict=first_seen_probe_data['chrom_ids_to_index_dict']\n",
    "adata_obs_df=first_seen_probe_data['adata_obs_df']\n",
    "spaital_dist_suffix=first_seen_probe_data['spaital_dist_suffix']\n",
    "prxoimtiy_score_suffix=first_seen_probe_data['prxoimtiy_score_suffix']\n",
    "Linear_impute_all_cell_dna_list=first_seen_probe_data['Linear_all_cell_dna_list']\n",
    "\n",
    "infer_3D_type = r\"_part_loci_pair_weight_\"\n",
    "loci_pair_type = 'no_diff'\n",
    "\n",
    "store_path = os.path.join(ImputeHiFI_data_dir, version + str(para) +infer_3D_type+loci_pair_type+\"_Impute_data.pkl\")\n",
    "\n",
    "finall_optimize_all_cell_dna_list,diff_genes=ImputeHiFI.generate_impute_dna_list.get_impute_dna_list(chr_bin_length_dic, chr_name_list,ImputeHiFI_adata, \n",
    "                                                        all_cell_dna_list,Linear_impute_all_cell_dna_list,\n",
    "                                                        chr_cell_type_center_value_df, chrom_ids_to_index_dict, \n",
    "                                                        loci_pair_type,kernerl_number=None)\n",
    "\n",
    "final_ImputeHiFI_data = copy.deepcopy(first_seen_probe_data)\n",
    "final_ImputeHiFI_data['all_cell_dna_list'] = finall_optimize_all_cell_dna_list\n",
    "final_ImputeHiFI_data['ledien_diff_gene'] = diff_genes\n",
    "\n",
    "basic.store_variable_from_pikle_file(store_path,final_ImputeHiFI_data)"
   ]
  },
  {
   "cell_type": "markdown",
   "id": "32912ab8",
   "metadata": {},
   "source": [
    "### generate 3D spatial distance"
   ]
  },
  {
   "cell_type": "code",
   "execution_count": null,
   "id": "0d674e9d",
   "metadata": {},
   "outputs": [],
   "source": [
    "store_path = os.path.join(ImputeHiFI_data_dir, version + str(para) +infer_3D_type+loci_pair_type+\"_Impute_data.pkl\")\n",
    "\n",
    "final_ImputeHiFI_data=basic.load_variable_from_pikle_file(store_path)\n",
    "\n",
    "chr_name_list=first_seen_probe_data['chr_name_list']\n",
    "cell_number=first_seen_probe_data['cell_number']\n",
    "all_cell_dna_list=first_seen_probe_data['all_cell_dna_list']\n",
    "chr_bin_length_dic=first_seen_probe_data['chr_bin_length_dic']\n",
    "chrom_index_to_ids_dict=first_seen_probe_data['chrom_index_to_ids_dict']\n",
    "adata_obs_df=first_seen_probe_data['adata_obs_df']\n",
    "spaital_dist_suffix=first_seen_probe_data['spaital_dist_suffix']\n",
    "prxoimtiy_score_suffix=first_seen_probe_data['prxoimtiy_score_suffix']\n",
    "\n",
    "Impute_all_cell_dna_list=final_ImputeHiFI_data['all_cell_dna_list']\n",
    "\n",
    "\n",
    "store_path=os.path.join(ImputeHiFI_data_dir, version + str(para) +infer_3D_type+loci_pair_type+f\"_{spaital_dist_suffix}.h5ad\")\n",
    "                        \n",
    "ImputeHiFI.generate_spatial_distance_h5ad.generate_spatial_h5ad(chr_name_list,5,Impute_all_cell_dna_list,\n",
    "                              chr_bin_length_dic,chrom_index_to_ids_dict,adata_obs_df,store_path,)\n",
    "\n",
    "store_path=os.path.join(ImputeHiFI_data_dir, version + str(para) +infer_3D_type+loci_pair_type+f\"_{spaital_dist_suffix}.h5ad\")\n",
    "Impute_3D_spad_adata=sc.read(store_path)"
   ]
  },
  {
   "cell_type": "markdown",
   "id": "c1409ed9",
   "metadata": {},
   "source": [
    "### generate proximity score"
   ]
  },
  {
   "cell_type": "code",
   "execution_count": 247,
   "id": "25e399ff",
   "metadata": {
    "ExecuteTime": {
     "end_time": "2024-04-26T16:22:01.257322Z",
     "start_time": "2024-04-26T16:21:53.291180Z"
    },
    "scrolled": true
   },
   "outputs": [
    {
     "name": "stdout",
     "output_type": "stream",
     "text": [
      "v5 similar FISH\n"
     ]
    },
    {
     "data": {
      "text/plain": [
       "<module 'ImputeHiFI_Algorithm_v5' from '/mnt/disk1/scfan/program/image_project/Cai_21_bioRxiv_Process/ImputHiFi/ImputeHiFI_Algorithm_v5.py'>"
      ]
     },
     "execution_count": 247,
     "metadata": {},
     "output_type": "execute_result"
    },
    {
     "name": "stdout",
     "output_type": "stream",
     "text": [
      "WARNING: Your filename has more than two extensions: ['.0_sr0', '.0_lr0', '.0_part_loci_pair_weight_no_diff_spatial_dist', '.h5ad'].\n",
      "Only considering the two last: ['.0_part_loci_pair_weight_no_diff_spatial_dist', '.h5ad'].\n",
      "WARNING: Your filename has more than two extensions: ['.0_sr0', '.0_lr0', '.0_part_loci_pair_weight_no_diff_spatial_dist', '.h5ad'].\n",
      "Only considering the two last: ['.0_part_loci_pair_weight_no_diff_spatial_dist', '.h5ad'].\n",
      "chr1\n"
     ]
    },
    {
     "name": "stderr",
     "output_type": "stream",
     "text": [
      "\r",
      "0it [00:00, ?it/s]"
     ]
    },
    {
     "name": "stdout",
     "output_type": "stream",
     "text": [
      "chr2\n"
     ]
    },
    {
     "name": "stderr",
     "output_type": "stream",
     "text": [
      "\r",
      "0it [00:00, ?it/s]"
     ]
    },
    {
     "name": "stdout",
     "output_type": "stream",
     "text": [
      "chr3\n"
     ]
    },
    {
     "name": "stderr",
     "output_type": "stream",
     "text": [
      "\r",
      "0it [00:00, ?it/s]"
     ]
    },
    {
     "name": "stdout",
     "output_type": "stream",
     "text": [
      "chr4\n"
     ]
    },
    {
     "name": "stderr",
     "output_type": "stream",
     "text": [
      "\r",
      "0it [00:00, ?it/s]"
     ]
    },
    {
     "name": "stdout",
     "output_type": "stream",
     "text": [
      "chr5\n"
     ]
    },
    {
     "name": "stderr",
     "output_type": "stream",
     "text": [
      "5it [00:00, 44.52it/s]\n",
      "0it [00:00, ?it/s]"
     ]
    },
    {
     "name": "stdout",
     "output_type": "stream",
     "text": [
      "chr6\n"
     ]
    },
    {
     "name": "stderr",
     "output_type": "stream",
     "text": [
      "5it [00:00, 44.66it/s]\n",
      "4it [00:00, 37.58it/s]"
     ]
    },
    {
     "name": "stdout",
     "output_type": "stream",
     "text": [
      "chr7\n"
     ]
    },
    {
     "name": "stderr",
     "output_type": "stream",
     "text": [
      "\r",
      "5it [00:00, 38.94it/s]"
     ]
    },
    {
     "name": "stdout",
     "output_type": "stream",
     "text": [
      "chr8"
     ]
    },
    {
     "name": "stderr",
     "output_type": "stream",
     "text": [
      "\n"
     ]
    },
    {
     "name": "stdout",
     "output_type": "stream",
     "text": [
      "\n"
     ]
    },
    {
     "name": "stderr",
     "output_type": "stream",
     "text": [
      "5it [00:00, 43.42it/s]\n",
      "0it [00:00, ?it/s]"
     ]
    },
    {
     "name": "stdout",
     "output_type": "stream",
     "text": [
      "chr9\n"
     ]
    },
    {
     "name": "stderr",
     "output_type": "stream",
     "text": [
      "0it [00:00, ?it/s]t/s]"
     ]
    },
    {
     "name": "stdout",
     "output_type": "stream",
     "text": [
      "chr10\n"
     ]
    },
    {
     "name": "stderr",
     "output_type": "stream",
     "text": [
      "5it [00:00, 39.16it/s]\n",
      "5it [00:00, 43.40it/s]\n"
     ]
    },
    {
     "name": "stdout",
     "output_type": "stream",
     "text": [
      "chr11\n"
     ]
    },
    {
     "name": "stderr",
     "output_type": "stream",
     "text": [
      "\r",
      "0it [00:00, ?it/s]"
     ]
    },
    {
     "name": "stdout",
     "output_type": "stream",
     "text": [
      "chr12"
     ]
    },
    {
     "name": "stderr",
     "output_type": "stream",
     "text": [
      "\r",
      "5it [00:00, 41.87it/s]"
     ]
    },
    {
     "name": "stdout",
     "output_type": "stream",
     "text": [
      "\n"
     ]
    },
    {
     "name": "stderr",
     "output_type": "stream",
     "text": [
      "5it [00:00, 41.29it/s]\n",
      "5it [00:00, 38.85it/s]\n",
      "4it [00:00, 35.50it/s]"
     ]
    },
    {
     "name": "stdout",
     "output_type": "stream",
     "text": [
      "chr13\n"
     ]
    },
    {
     "name": "stderr",
     "output_type": "stream",
     "text": [
      "5it [00:00, 36.27it/s]\n",
      "5it [00:00, 43.94it/s]"
     ]
    },
    {
     "name": "stdout",
     "output_type": "stream",
     "text": [
      "chr14"
     ]
    },
    {
     "name": "stderr",
     "output_type": "stream",
     "text": [
      "5it [00:00, 43.31it/s]\n"
     ]
    },
    {
     "name": "stdout",
     "output_type": "stream",
     "text": [
      "\n"
     ]
    },
    {
     "name": "stderr",
     "output_type": "stream",
     "text": [
      "\r",
      "0it [00:00, ?it/s]"
     ]
    },
    {
     "name": "stdout",
     "output_type": "stream",
     "text": [
      "chr15"
     ]
    },
    {
     "name": "stderr",
     "output_type": "stream",
     "text": [
      "\r",
      "5it [00:00, 42.70it/s]"
     ]
    },
    {
     "name": "stdout",
     "output_type": "stream",
     "text": [
      "\n"
     ]
    },
    {
     "name": "stderr",
     "output_type": "stream",
     "text": [
      "5it [00:00, 42.05it/s]\n",
      "0it [00:00, ?it/s]"
     ]
    },
    {
     "name": "stdout",
     "output_type": "stream",
     "text": [
      "chr16\n"
     ]
    },
    {
     "name": "stderr",
     "output_type": "stream",
     "text": [
      "5it [00:00, 43.90it/s]\n"
     ]
    },
    {
     "name": "stdout",
     "output_type": "stream",
     "text": [
      "chr17\n"
     ]
    },
    {
     "name": "stderr",
     "output_type": "stream",
     "text": [
      "0it [00:00, ?it/s]t/s]"
     ]
    },
    {
     "name": "stdout",
     "output_type": "stream",
     "text": [
      "chr18"
     ]
    },
    {
     "name": "stderr",
     "output_type": "stream",
     "text": [
      "5it [00:00, 38.89it/s]\n"
     ]
    },
    {
     "name": "stdout",
     "output_type": "stream",
     "text": [
      "\n"
     ]
    },
    {
     "name": "stderr",
     "output_type": "stream",
     "text": [
      "5it [00:00, 44.76it/s]\n",
      "0it [00:00, ?it/s]"
     ]
    },
    {
     "name": "stdout",
     "output_type": "stream",
     "text": [
      "chr19\n"
     ]
    },
    {
     "name": "stderr",
     "output_type": "stream",
     "text": [
      "\r",
      "0it [00:00, ?it/s]"
     ]
    },
    {
     "name": "stdout",
     "output_type": "stream",
     "text": [
      "chrX\n"
     ]
    },
    {
     "name": "stderr",
     "output_type": "stream",
     "text": [
      "5it [00:00, 36.34it/s]\n",
      "5it [00:00, 36.15it/s]\n",
      "5it [00:00, 41.20it/s]\n",
      "5it [00:00, 44.02it/s]\n",
      "5it [00:00, 45.76it/s]\n",
      "5it [00:00, 47.10it/s]\n"
     ]
    },
    {
     "name": "stdout",
     "output_type": "stream",
     "text": [
      "WARNING: Your filename has more than two extensions: ['.0_sr0', '.0_lr0', '.0_part_loci_pair_weight_no_diff_proximity_score', '.h5ad'].\n",
      "Only considering the two last: ['.0_part_loci_pair_weight_no_diff_proximity_score', '.h5ad'].\n",
      "WARNING: Your filename has more than two extensions: ['.0_sr0', '.0_lr0', '.0_part_loci_pair_weight_no_diff_proximity_score', '.h5ad'].\n",
      "Only considering the two last: ['.0_part_loci_pair_weight_no_diff_proximity_score', '.h5ad'].\n"
     ]
    }
   ],
   "source": [
    "importlib.reload(ImputeHiFI)\n",
    "store_path=os.path.join(ImputeHiFI_data_dir, version + str(para) +infer_3D_type+loci_pair_type+f\"_{spaital_dist_suffix}.h5ad\")\n",
    "Impute_3D_spad_adata=sc.read(store_path)\n",
    "\n",
    "chr_cell_type_center_value_df=first_seen_probe_data['chr_cell_type_center_value_df']\n",
    "chr_name_list=first_seen_probe_data['chr_name_list']\n",
    "cell_number=first_seen_probe_data['cell_number']\n",
    "all_cell_dna_list=first_seen_probe_data['all_cell_dna_list']\n",
    "chr_bin_length_dic=first_seen_probe_data['chr_bin_length_dic']\n",
    "chrom_index_to_ids_dict=first_seen_probe_data['chrom_index_to_ids_dict']\n",
    "adata_obs_df=first_seen_probe_data['adata_obs_df']\n",
    "spaital_dist_suffix=first_seen_probe_data['spaital_dist_suffix']\n",
    "prxoimtiy_score_suffix=first_seen_probe_data['prxoimtiy_score_suffix']\n",
    "\n",
    "\n",
    "\n",
    "store_path=os.path.join(ImputeHiFI_data_dir, version + str(para) +infer_3D_type+loci_pair_type+f\"_{prxoimtiy_score_suffix}.h5ad\")\n",
    "ImputeHiFI.generate_proximity_score_h5ad.generate_proximity_h5ad(Impute_3D_spad_adata,chr_name_list,chr_cell_type_center_value_df,\n",
    "                              chr_bin_length_dic, adata_obs_df, store_path,\n",
    "                              kernerl_number=None)\n",
    "\n",
    "Impute_3D_proxi_adata=sc.read(store_path)"
   ]
  },
  {
   "cell_type": "markdown",
   "id": "114cf96b",
   "metadata": {},
   "source": [
    "## generate ImputeHiFI mode3 result"
   ]
  },
  {
   "cell_type": "markdown",
   "id": "f7656af0",
   "metadata": {},
   "source": [
    "### proxi adata"
   ]
  },
  {
   "cell_type": "code",
   "execution_count": 205,
   "id": "94543638",
   "metadata": {
    "ExecuteTime": {
     "end_time": "2024-04-26T14:53:32.711018Z",
     "start_time": "2024-04-26T14:53:27.305450Z"
    }
   },
   "outputs": [],
   "source": [
    "FISH_RMSD_name='All_cell_RMSD_dict'\n",
    "version = 'no_HiC_RNA_FISH_RMSD_not_use_mean_count'\n",
    "\n",
    "first_seen_probe_data_path=os.path.join(first_seen_probe_data_dir,'first_seen_probe_data.pkl')\n",
    "first_seen_probe_data=basic.load_variable_from_pikle_file(first_seen_probe_data_path)\n",
    "\n",
    "chr_cell_type_center_value_df=first_seen_probe_data['chr_cell_type_center_value_df']\n",
    "chr_name_list=first_seen_probe_data['chr_name_list']\n",
    "cell_number=first_seen_probe_data['cell_number']\n",
    "all_cell_dna_list=first_seen_probe_data['all_cell_dna_list']\n",
    "chr_bin_length_dic=first_seen_probe_data['chr_bin_length_dic']\n",
    "chrom_index_to_ids_dict=first_seen_probe_data['chrom_index_to_ids_dict']\n",
    "adata_obs_df=first_seen_probe_data['adata_obs_df']\n",
    "spaital_dist_suffix=first_seen_probe_data['spaital_dist_suffix']\n",
    "prxoimtiy_score_suffix=first_seen_probe_data['prxoimtiy_score_suffix']\n",
    "missing_rate_df=first_seen_probe_data['missing_rate_df']\n",
    "FISH_nearest_neighbors_dic=first_seen_probe_data[FISH_RMSD_name]\n",
    "\n",
    "store_path=os.path.join(first_seen_probe_data_dir,f'first_seen_probe_data_{prxoimtiy_score_suffix}.h5ad')\n",
    "DNA_FISH_proxi_adata=sc.read(store_path)"
   ]
  },
  {
   "cell_type": "code",
   "execution_count": 223,
   "id": "812b773c",
   "metadata": {
    "ExecuteTime": {
     "end_time": "2024-04-26T15:28:55.883240Z",
     "start_time": "2024-04-26T15:27:58.468455Z"
    },
    "scrolled": true
   },
   "outputs": [
    {
     "name": "stdout",
     "output_type": "stream",
     "text": [
      "v6 similar FISH no HiC\n"
     ]
    },
    {
     "data": {
      "text/plain": [
       "<module 'ImputeHiFI_Algorithm_v6_no_HiC' from '/mnt/disk1/scfan/program/image_project/Cai_21_bioRxiv_Process/ImputHiFi/ImputeHiFI_Algorithm_v6_no_HiC.py'>"
      ]
     },
     "execution_count": 223,
     "metadata": {},
     "output_type": "execute_result"
    },
    {
     "name": "stderr",
     "output_type": "stream",
     "text": [
      "100%|██████████| 5/5 [00:52<00:00, 10.50s/it]\n"
     ]
    },
    {
     "name": "stdout",
     "output_type": "stream",
     "text": [
      "Collect result\n"
     ]
    }
   ],
   "source": [
    "importlib.reload(ImputeHiFI_no_HiC)\n",
    "base_coef = 0.001\n",
    "HiC_weight = 0\n",
    "FISH_weight = 1\n",
    "short_range_HiC_weight_bound = 0.0\n",
    "long_range_HiC_weight_bound = 0.0\n",
    "all_range_diag_sum_weight_HiC_bound = 0.0\n",
    "short_range_diag = 0 \n",
    "initial_guess = [HiC_weight, FISH_weight]\n",
    "verbose = False\n",
    "background_cell_num = 150\n",
    "use_mean_count=0\n",
    "para = ('bg_n' + str(background_cell_num) + '_sdn' + str(short_range_diag) + '_sd' + str(\n",
    "    all_range_diag_sum_weight_HiC_bound) +\n",
    "        '_sr' + str(short_range_HiC_weight_bound) + '_lr' + str(long_range_HiC_weight_bound))\n",
    "\n",
    "store_path = os.path.join(ImputeHiFI_data_dir,str(version)+\"_proximity_score_adata_\"+str(para)+\".h5ad\")\n",
    "\n",
    "ImputeHiFI_no_HiC.ImputeHiFi_mode2_mode3.get_Impute_proximity_score(DNA_FISH_proxi_adata,missing_rate_df,cell_name_list,chr_bin_length_dic,base_coef,HiC_weight,FISH_weight,initial_guess,\n",
    "                                                                    short_range_HiC_weight_bound,long_range_HiC_weight_bound, all_range_diag_sum_weight_HiC_bound,\n",
    "                                                                    short_range_diag, background_cell_num,use_mean_count,FISH_nearest_neighbors_dic,store_path,kernerl_number=1)"
   ]
  },
  {
   "cell_type": "code",
   "execution_count": 224,
   "id": "cd836758",
   "metadata": {
    "ExecuteTime": {
     "end_time": "2024-04-26T15:29:40.005228Z",
     "start_time": "2024-04-26T15:29:39.941969Z"
    }
   },
   "outputs": [
    {
     "name": "stdout",
     "output_type": "stream",
     "text": [
      "WARNING: Your filename has more than two extensions: ['.0_sr0', '.0_lr0', '.0', '.h5ad'].\n",
      "Only considering the two last: ['.0', '.h5ad'].\n",
      "WARNING: Your filename has more than two extensions: ['.0_sr0', '.0_lr0', '.0', '.h5ad'].\n",
      "Only considering the two last: ['.0', '.h5ad'].\n"
     ]
    }
   ],
   "source": [
    "store_path = os.path.join(ImputeHiFI_data_dir,str(version)+\"_proximity_score_adata_\"+str(para)+\".h5ad\")\n",
    "\n",
    "ImputeHiFI_prox_adata=sc.read(store_path)"
   ]
  },
  {
   "cell_type": "code",
   "execution_count": 225,
   "id": "bc07aff9",
   "metadata": {
    "ExecuteTime": {
     "end_time": "2024-04-26T15:29:44.609432Z",
     "start_time": "2024-04-26T15:29:44.600280Z"
    }
   },
   "outputs": [
    {
     "data": {
      "text/plain": [
       "AnnData object with n_obs × n_vars = 5 × 35400\n",
       "    obs: 'cell_name', 'cell_type'\n",
       "    uns: 'parameter'"
      ]
     },
     "execution_count": 225,
     "metadata": {},
     "output_type": "execute_result"
    }
   ],
   "source": [
    "ImputeHiFI_prox_adata"
   ]
  },
  {
   "cell_type": "markdown",
   "id": "e9f25133",
   "metadata": {},
   "source": [
    "### Impute 3D data"
   ]
  },
  {
   "cell_type": "code",
   "execution_count": 235,
   "id": "c9ab80bd",
   "metadata": {
    "ExecuteTime": {
     "end_time": "2024-04-26T16:02:53.899531Z",
     "start_time": "2024-04-26T16:02:53.890735Z"
    }
   },
   "outputs": [
    {
     "data": {
      "text/plain": [
       "dict_keys(['chrom_ids', 'region_names', 'start_position', 'end_position', 'mid_position', 'mid_position_Mb', 'dna_zxys', 'chrom_name', 'gene_ID', 'cluster_label', 'cluster_label_name', 'each_chr_missing_rate_df', 'missing_rate_df', 'all_cell_dna_list', 'chrom_ids_to_index_dict', 'chr_name_list', 'chr_bin_len_dict', 'chrom_index_to_ids_dict', 'cell_type_df', 'chr_bin_length_dic', 'cell_num', 'adata_obs_df', 'spaital_dist_suffix', 'prxoimtiy_score_suffix', 'cell_number', 'chr_cell_type_center_value_df', 'cell_name_array', 'All_cell_RMSD_dict', 'All_cell_RNA_RMSD_dict', 'Linear_all_cell_dna_list', 'Extriming_chr_list'])"
      ]
     },
     "execution_count": 235,
     "metadata": {},
     "output_type": "execute_result"
    }
   ],
   "source": [
    "first_seen_probe_data.keys()"
   ]
  },
  {
   "cell_type": "code",
   "execution_count": 238,
   "id": "69eb119f",
   "metadata": {
    "ExecuteTime": {
     "end_time": "2024-04-26T16:09:21.062252Z",
     "start_time": "2024-04-26T16:08:43.849356Z"
    },
    "scrolled": true
   },
   "outputs": [
    {
     "name": "stdout",
     "output_type": "stream",
     "text": [
      "v5 similar FISH\n"
     ]
    },
    {
     "data": {
      "text/plain": [
       "<module 'ImputeHiFI_Algorithm_v5' from '/mnt/disk1/scfan/program/image_project/Cai_21_bioRxiv_Process/ImputHiFi/ImputeHiFI_Algorithm_v5.py'>"
      ]
     },
     "execution_count": 238,
     "metadata": {},
     "output_type": "execute_result"
    },
    {
     "name": "stdout",
     "output_type": "stream",
     "text": [
      "WARNING: Your filename has more than two extensions: ['.0_sr0', '.0_lr0', '.0', '.h5ad'].\n",
      "Only considering the two last: ['.0', '.h5ad'].\n",
      "WARNING: Your filename has more than two extensions: ['.0_sr0', '.0_lr0', '.0', '.h5ad'].\n",
      "Only considering the two last: ['.0', '.h5ad'].\n",
      "chr1\n"
     ]
    },
    {
     "name": "stderr",
     "output_type": "stream",
     "text": [
      "\r",
      "  0%|          | 0/5 [00:00<?, ?it/s]"
     ]
    },
    {
     "name": "stdout",
     "output_type": "stream",
     "text": [
      "chr2\n"
     ]
    },
    {
     "name": "stderr",
     "output_type": "stream",
     "text": [
      " 20%|██        | 1/5 [00:00<00:03,  1.07it/s]"
     ]
    },
    {
     "name": "stdout",
     "output_type": "stream",
     "text": [
      "chr3\n"
     ]
    },
    {
     "name": "stderr",
     "output_type": "stream",
     "text": [
      " 40%|████      | 2/5 [00:02<00:04,  1.53s/it]"
     ]
    },
    {
     "name": "stdout",
     "output_type": "stream",
     "text": [
      "chr4\n"
     ]
    },
    {
     "name": "stderr",
     "output_type": "stream",
     "text": [
      " 20%|██        | 1/5 [00:01<00:06,  1.73s/it]"
     ]
    },
    {
     "name": "stdout",
     "output_type": "stream",
     "text": [
      "chr5\n"
     ]
    },
    {
     "name": "stderr",
     "output_type": "stream",
     "text": [
      " 20%|██        | 1/5 [00:01<00:07,  1.79s/it]"
     ]
    },
    {
     "name": "stdout",
     "output_type": "stream",
     "text": [
      "chr6\n"
     ]
    },
    {
     "name": "stderr",
     "output_type": "stream",
     "text": [
      " 80%|████████  | 4/5 [00:06<00:01,  1.70s/it]"
     ]
    },
    {
     "name": "stdout",
     "output_type": "stream",
     "text": [
      "chr7\n"
     ]
    },
    {
     "name": "stderr",
     "output_type": "stream",
     "text": [
      " 80%|████████  | 4/5 [00:05<00:01,  1.41s/it]"
     ]
    },
    {
     "name": "stdout",
     "output_type": "stream",
     "text": [
      "chr8\n"
     ]
    },
    {
     "name": "stderr",
     "output_type": "stream",
     "text": [
      "100%|██████████| 5/5 [00:05<00:00,  1.16s/it]\n",
      "100%|██████████| 5/5 [00:08<00:00,  1.66s/it]\n",
      "100%|██████████| 5/5 [00:07<00:00,  1.45s/it]\n",
      "100%|██████████| 5/5 [00:05<00:00,  1.14s/it]"
     ]
    },
    {
     "name": "stdout",
     "output_type": "stream",
     "text": [
      "chr9"
     ]
    },
    {
     "name": "stderr",
     "output_type": "stream",
     "text": [
      "\n"
     ]
    },
    {
     "name": "stdout",
     "output_type": "stream",
     "text": [
      "\n"
     ]
    },
    {
     "name": "stderr",
     "output_type": "stream",
     "text": [
      " 40%|████      | 2/5 [00:02<00:03,  1.22s/it]"
     ]
    },
    {
     "name": "stdout",
     "output_type": "stream",
     "text": [
      "chr10\n"
     ]
    },
    {
     "name": "stderr",
     "output_type": "stream",
     "text": [
      "100%|██████████| 5/5 [00:06<00:00,  1.25s/it]\n",
      " 80%|████████  | 4/5 [00:05<00:01,  1.59s/it]"
     ]
    },
    {
     "name": "stdout",
     "output_type": "stream",
     "text": [
      "chr11\n"
     ]
    },
    {
     "name": "stderr",
     "output_type": "stream",
     "text": [
      "100%|██████████| 5/5 [00:06<00:00,  1.30s/it]\n",
      " 60%|██████    | 3/5 [00:05<00:03,  1.81s/it]\n"
     ]
    },
    {
     "name": "stdout",
     "output_type": "stream",
     "text": [
      "chr12\n"
     ]
    },
    {
     "name": "stderr",
     "output_type": "stream",
     "text": [
      " 60%|██████    | 3/5 [00:04<00:02,  1.33s/it]"
     ]
    },
    {
     "name": "stdout",
     "output_type": "stream",
     "text": [
      "chr13\n"
     ]
    },
    {
     "name": "stderr",
     "output_type": "stream",
     "text": [
      " 20%|██        | 1/5 [00:01<00:07,  1.83s/it]"
     ]
    },
    {
     "name": "stdout",
     "output_type": "stream",
     "text": [
      "chr14\n"
     ]
    },
    {
     "name": "stderr",
     "output_type": "stream",
     "text": [
      "100%|██████████| 5/5 [00:08<00:00,  1.72s/it]\n",
      "100%|██████████| 5/5 [00:06<00:00,  1.30s/it]\n",
      " 80%|████████  | 4/5 [00:05<00:01,  1.50s/it]"
     ]
    },
    {
     "name": "stdout",
     "output_type": "stream",
     "text": [
      "chr15\n"
     ]
    },
    {
     "name": "stderr",
     "output_type": "stream",
     "text": [
      "100%|██████████| 5/5 [00:07<00:00,  1.44s/it]\n",
      " 60%|██████    | 3/5 [00:05<00:03,  1.79s/it]"
     ]
    },
    {
     "name": "stdout",
     "output_type": "stream",
     "text": [
      "chr16\n"
     ]
    },
    {
     "name": "stderr",
     "output_type": "stream",
     "text": [
      "100%|██████████| 5/5 [00:07<00:00,  1.55s/it]\n"
     ]
    },
    {
     "name": "stdout",
     "output_type": "stream",
     "text": [
      "chr17\n"
     ]
    },
    {
     "name": "stderr",
     "output_type": "stream",
     "text": [
      " 60%|██████    | 3/5 [00:05<00:03,  1.78s/it]"
     ]
    },
    {
     "name": "stdout",
     "output_type": "stream",
     "text": [
      "chr18\n"
     ]
    },
    {
     "name": "stderr",
     "output_type": "stream",
     "text": [
      "100%|██████████| 5/5 [00:08<00:00,  1.79s/it]\n",
      "100%|██████████| 5/5 [00:07<00:00,  1.56s/it]\n",
      "  0%|          | 0/5 [00:00<?, ?it/s].63s/it]"
     ]
    },
    {
     "name": "stdout",
     "output_type": "stream",
     "text": [
      "chr19\n"
     ]
    },
    {
     "name": "stderr",
     "output_type": "stream",
     "text": [
      "100%|██████████| 5/5 [00:06<00:00,  1.28s/it]\n",
      " 40%|████      | 2/5 [00:03<00:05,  1.80s/it]"
     ]
    },
    {
     "name": "stdout",
     "output_type": "stream",
     "text": [
      "chrX\n"
     ]
    },
    {
     "name": "stderr",
     "output_type": "stream",
     "text": [
      "100%|██████████| 5/5 [00:08<00:00,  1.65s/it]\n",
      "100%|██████████| 5/5 [00:07<00:00,  1.46s/it]\n",
      "100%|██████████| 5/5 [00:07<00:00,  1.50s/it]\n",
      "100%|██████████| 5/5 [00:06<00:00,  1.31s/it]\n",
      "100%|██████████| 5/5 [00:04<00:00,  1.05it/s]\n",
      "100%|██████████| 5/5 [00:06<00:00,  1.32s/it]\n"
     ]
    },
    {
     "name": "stdout",
     "output_type": "stream",
     "text": [
      "Collect result\n",
      "Collect result\n",
      "Collect result\n",
      "Collect result\n",
      "Collect result\n",
      "Collect result\n",
      "Collect result\n",
      "Collect result\n",
      "Collect result\n",
      "Collect result\n",
      "Collect result\n",
      "Collect result\n",
      "Collect result\n",
      "Collect result\n",
      "Collect result\n",
      "Collect result\n",
      "Collect result\n",
      "Collect result\n",
      "Collect result\n",
      "Collect result\n"
     ]
    }
   ],
   "source": [
    "importlib.reload(ImputeHiFI)\n",
    "store_path = os.path.join(ImputeHiFI_data_dir,str(version)+\"_proximity_score_adata_\"+str(para)+\".h5ad\")\n",
    "ImputeHiFI_adata=sc.read(store_path)\n",
    "\n",
    "chr_cell_type_center_value_df=first_seen_probe_data['chr_cell_type_center_value_df']\n",
    "chr_name_list=first_seen_probe_data['chr_name_list']\n",
    "cell_number=first_seen_probe_data['cell_number']\n",
    "all_cell_dna_list=first_seen_probe_data['all_cell_dna_list']\n",
    "chr_bin_length_dic=first_seen_probe_data['chr_bin_length_dic']\n",
    "chrom_index_to_ids_dict=first_seen_probe_data['chrom_index_to_ids_dict']\n",
    "chrom_ids_to_index_dict=first_seen_probe_data['chrom_ids_to_index_dict']\n",
    "adata_obs_df=first_seen_probe_data['adata_obs_df']\n",
    "spaital_dist_suffix=first_seen_probe_data['spaital_dist_suffix']\n",
    "prxoimtiy_score_suffix=first_seen_probe_data['prxoimtiy_score_suffix']\n",
    "Linear_impute_all_cell_dna_list=first_seen_probe_data['Linear_all_cell_dna_list']\n",
    "\n",
    "infer_3D_type = r\"_part_loci_pair_weight_\"\n",
    "loci_pair_type = 'no_diff'\n",
    "\n",
    "store_path = os.path.join(ImputeHiFI_data_dir, version + str(para) +infer_3D_type+loci_pair_type+\"_Impute_data.pkl\")\n",
    "\n",
    "finall_optimize_all_cell_dna_list,diff_genes=ImputeHiFI.generate_impute_dna_list.get_impute_dna_list(chr_bin_length_dic, chr_name_list,ImputeHiFI_adata, \n",
    "                                                        all_cell_dna_list,Linear_impute_all_cell_dna_list,\n",
    "                                                        chr_cell_type_center_value_df, chrom_ids_to_index_dict, \n",
    "                                                        loci_pair_type,kernerl_number=None)\n",
    "\n",
    "final_ImputeHiFI_data = copy.deepcopy(first_seen_probe_data)\n",
    "final_ImputeHiFI_data['all_cell_dna_list'] = finall_optimize_all_cell_dna_list\n",
    "final_ImputeHiFI_data['ledien_diff_gene'] = diff_genes\n",
    "\n",
    "basic.store_variable_from_pikle_file(store_path,final_ImputeHiFI_data)"
   ]
  },
  {
   "cell_type": "markdown",
   "id": "be44a2e6",
   "metadata": {},
   "source": [
    "### generate 3D spatial distance"
   ]
  },
  {
   "cell_type": "code",
   "execution_count": null,
   "id": "e050b491",
   "metadata": {},
   "outputs": [],
   "source": [
    "store_path = os.path.join(ImputeHiFI_data_dir, version + str(para) +infer_3D_type+loci_pair_type+\"_Impute_data.pkl\")\n",
    "\n",
    "final_ImputeHiFI_data=basic.load_variable_from_pikle_file(store_path)\n",
    "\n",
    "chr_name_list=first_seen_probe_data['chr_name_list']\n",
    "cell_number=first_seen_probe_data['cell_number']\n",
    "all_cell_dna_list=first_seen_probe_data['all_cell_dna_list']\n",
    "chr_bin_length_dic=first_seen_probe_data['chr_bin_length_dic']\n",
    "chrom_index_to_ids_dict=first_seen_probe_data['chrom_index_to_ids_dict']\n",
    "adata_obs_df=first_seen_probe_data['adata_obs_df']\n",
    "spaital_dist_suffix=first_seen_probe_data['spaital_dist_suffix']\n",
    "prxoimtiy_score_suffix=first_seen_probe_data['prxoimtiy_score_suffix']\n",
    "\n",
    "Impute_all_cell_dna_list=final_ImputeHiFI_data['all_cell_dna_list']\n",
    "\n",
    "\n",
    "store_path=os.path.join(ImputeHiFI_data_dir, version + str(para) +infer_3D_type+loci_pair_type+f\"_{spaital_dist_suffix}.h5ad\")\n",
    "                        \n",
    "ImputeHiFI.generate_spatial_distance_h5ad.generate_spatial_h5ad(chr_name_list,5,Impute_all_cell_dna_list,\n",
    "                              chr_bin_length_dic,chrom_index_to_ids_dict,adata_obs_df,store_path,)\n",
    "\n",
    "store_path=os.path.join(ImputeHiFI_data_dir, version + str(para) +infer_3D_type+loci_pair_type+f\"_{spaital_dist_suffix}.h5ad\")\n",
    "Impute_3D_spad_adata=sc.read(store_path)"
   ]
  },
  {
   "cell_type": "markdown",
   "id": "5536a0c4",
   "metadata": {},
   "source": [
    "### generate proximity score"
   ]
  },
  {
   "cell_type": "code",
   "execution_count": 247,
   "id": "f4f44fd5",
   "metadata": {
    "ExecuteTime": {
     "end_time": "2024-04-26T16:22:01.257322Z",
     "start_time": "2024-04-26T16:21:53.291180Z"
    },
    "scrolled": true
   },
   "outputs": [
    {
     "name": "stdout",
     "output_type": "stream",
     "text": [
      "v5 similar FISH\n"
     ]
    },
    {
     "data": {
      "text/plain": [
       "<module 'ImputeHiFI_Algorithm_v5' from '/mnt/disk1/scfan/program/image_project/Cai_21_bioRxiv_Process/ImputHiFi/ImputeHiFI_Algorithm_v5.py'>"
      ]
     },
     "execution_count": 247,
     "metadata": {},
     "output_type": "execute_result"
    },
    {
     "name": "stdout",
     "output_type": "stream",
     "text": [
      "WARNING: Your filename has more than two extensions: ['.0_sr0', '.0_lr0', '.0_part_loci_pair_weight_no_diff_spatial_dist', '.h5ad'].\n",
      "Only considering the two last: ['.0_part_loci_pair_weight_no_diff_spatial_dist', '.h5ad'].\n",
      "WARNING: Your filename has more than two extensions: ['.0_sr0', '.0_lr0', '.0_part_loci_pair_weight_no_diff_spatial_dist', '.h5ad'].\n",
      "Only considering the two last: ['.0_part_loci_pair_weight_no_diff_spatial_dist', '.h5ad'].\n",
      "chr1\n"
     ]
    },
    {
     "name": "stderr",
     "output_type": "stream",
     "text": [
      "\r",
      "0it [00:00, ?it/s]"
     ]
    },
    {
     "name": "stdout",
     "output_type": "stream",
     "text": [
      "chr2\n"
     ]
    },
    {
     "name": "stderr",
     "output_type": "stream",
     "text": [
      "\r",
      "0it [00:00, ?it/s]"
     ]
    },
    {
     "name": "stdout",
     "output_type": "stream",
     "text": [
      "chr3\n"
     ]
    },
    {
     "name": "stderr",
     "output_type": "stream",
     "text": [
      "\r",
      "0it [00:00, ?it/s]"
     ]
    },
    {
     "name": "stdout",
     "output_type": "stream",
     "text": [
      "chr4\n"
     ]
    },
    {
     "name": "stderr",
     "output_type": "stream",
     "text": [
      "\r",
      "0it [00:00, ?it/s]"
     ]
    },
    {
     "name": "stdout",
     "output_type": "stream",
     "text": [
      "chr5\n"
     ]
    },
    {
     "name": "stderr",
     "output_type": "stream",
     "text": [
      "5it [00:00, 44.52it/s]\n",
      "0it [00:00, ?it/s]"
     ]
    },
    {
     "name": "stdout",
     "output_type": "stream",
     "text": [
      "chr6\n"
     ]
    },
    {
     "name": "stderr",
     "output_type": "stream",
     "text": [
      "5it [00:00, 44.66it/s]\n",
      "4it [00:00, 37.58it/s]"
     ]
    },
    {
     "name": "stdout",
     "output_type": "stream",
     "text": [
      "chr7\n"
     ]
    },
    {
     "name": "stderr",
     "output_type": "stream",
     "text": [
      "\r",
      "5it [00:00, 38.94it/s]"
     ]
    },
    {
     "name": "stdout",
     "output_type": "stream",
     "text": [
      "chr8"
     ]
    },
    {
     "name": "stderr",
     "output_type": "stream",
     "text": [
      "\n"
     ]
    },
    {
     "name": "stdout",
     "output_type": "stream",
     "text": [
      "\n"
     ]
    },
    {
     "name": "stderr",
     "output_type": "stream",
     "text": [
      "5it [00:00, 43.42it/s]\n",
      "0it [00:00, ?it/s]"
     ]
    },
    {
     "name": "stdout",
     "output_type": "stream",
     "text": [
      "chr9\n"
     ]
    },
    {
     "name": "stderr",
     "output_type": "stream",
     "text": [
      "0it [00:00, ?it/s]t/s]"
     ]
    },
    {
     "name": "stdout",
     "output_type": "stream",
     "text": [
      "chr10\n"
     ]
    },
    {
     "name": "stderr",
     "output_type": "stream",
     "text": [
      "5it [00:00, 39.16it/s]\n",
      "5it [00:00, 43.40it/s]\n"
     ]
    },
    {
     "name": "stdout",
     "output_type": "stream",
     "text": [
      "chr11\n"
     ]
    },
    {
     "name": "stderr",
     "output_type": "stream",
     "text": [
      "\r",
      "0it [00:00, ?it/s]"
     ]
    },
    {
     "name": "stdout",
     "output_type": "stream",
     "text": [
      "chr12"
     ]
    },
    {
     "name": "stderr",
     "output_type": "stream",
     "text": [
      "\r",
      "5it [00:00, 41.87it/s]"
     ]
    },
    {
     "name": "stdout",
     "output_type": "stream",
     "text": [
      "\n"
     ]
    },
    {
     "name": "stderr",
     "output_type": "stream",
     "text": [
      "5it [00:00, 41.29it/s]\n",
      "5it [00:00, 38.85it/s]\n",
      "4it [00:00, 35.50it/s]"
     ]
    },
    {
     "name": "stdout",
     "output_type": "stream",
     "text": [
      "chr13\n"
     ]
    },
    {
     "name": "stderr",
     "output_type": "stream",
     "text": [
      "5it [00:00, 36.27it/s]\n",
      "5it [00:00, 43.94it/s]"
     ]
    },
    {
     "name": "stdout",
     "output_type": "stream",
     "text": [
      "chr14"
     ]
    },
    {
     "name": "stderr",
     "output_type": "stream",
     "text": [
      "5it [00:00, 43.31it/s]\n"
     ]
    },
    {
     "name": "stdout",
     "output_type": "stream",
     "text": [
      "\n"
     ]
    },
    {
     "name": "stderr",
     "output_type": "stream",
     "text": [
      "\r",
      "0it [00:00, ?it/s]"
     ]
    },
    {
     "name": "stdout",
     "output_type": "stream",
     "text": [
      "chr15"
     ]
    },
    {
     "name": "stderr",
     "output_type": "stream",
     "text": [
      "\r",
      "5it [00:00, 42.70it/s]"
     ]
    },
    {
     "name": "stdout",
     "output_type": "stream",
     "text": [
      "\n"
     ]
    },
    {
     "name": "stderr",
     "output_type": "stream",
     "text": [
      "5it [00:00, 42.05it/s]\n",
      "0it [00:00, ?it/s]"
     ]
    },
    {
     "name": "stdout",
     "output_type": "stream",
     "text": [
      "chr16\n"
     ]
    },
    {
     "name": "stderr",
     "output_type": "stream",
     "text": [
      "5it [00:00, 43.90it/s]\n"
     ]
    },
    {
     "name": "stdout",
     "output_type": "stream",
     "text": [
      "chr17\n"
     ]
    },
    {
     "name": "stderr",
     "output_type": "stream",
     "text": [
      "0it [00:00, ?it/s]t/s]"
     ]
    },
    {
     "name": "stdout",
     "output_type": "stream",
     "text": [
      "chr18"
     ]
    },
    {
     "name": "stderr",
     "output_type": "stream",
     "text": [
      "5it [00:00, 38.89it/s]\n"
     ]
    },
    {
     "name": "stdout",
     "output_type": "stream",
     "text": [
      "\n"
     ]
    },
    {
     "name": "stderr",
     "output_type": "stream",
     "text": [
      "5it [00:00, 44.76it/s]\n",
      "0it [00:00, ?it/s]"
     ]
    },
    {
     "name": "stdout",
     "output_type": "stream",
     "text": [
      "chr19\n"
     ]
    },
    {
     "name": "stderr",
     "output_type": "stream",
     "text": [
      "\r",
      "0it [00:00, ?it/s]"
     ]
    },
    {
     "name": "stdout",
     "output_type": "stream",
     "text": [
      "chrX\n"
     ]
    },
    {
     "name": "stderr",
     "output_type": "stream",
     "text": [
      "5it [00:00, 36.34it/s]\n",
      "5it [00:00, 36.15it/s]\n",
      "5it [00:00, 41.20it/s]\n",
      "5it [00:00, 44.02it/s]\n",
      "5it [00:00, 45.76it/s]\n",
      "5it [00:00, 47.10it/s]\n"
     ]
    },
    {
     "name": "stdout",
     "output_type": "stream",
     "text": [
      "WARNING: Your filename has more than two extensions: ['.0_sr0', '.0_lr0', '.0_part_loci_pair_weight_no_diff_proximity_score', '.h5ad'].\n",
      "Only considering the two last: ['.0_part_loci_pair_weight_no_diff_proximity_score', '.h5ad'].\n",
      "WARNING: Your filename has more than two extensions: ['.0_sr0', '.0_lr0', '.0_part_loci_pair_weight_no_diff_proximity_score', '.h5ad'].\n",
      "Only considering the two last: ['.0_part_loci_pair_weight_no_diff_proximity_score', '.h5ad'].\n"
     ]
    }
   ],
   "source": [
    "importlib.reload(ImputeHiFI)\n",
    "store_path=os.path.join(ImputeHiFI_data_dir, version + str(para) +infer_3D_type+loci_pair_type+f\"_{spaital_dist_suffix}.h5ad\")\n",
    "Impute_3D_spad_adata=sc.read(store_path)\n",
    "\n",
    "chr_cell_type_center_value_df=first_seen_probe_data['chr_cell_type_center_value_df']\n",
    "chr_name_list=first_seen_probe_data['chr_name_list']\n",
    "cell_number=first_seen_probe_data['cell_number']\n",
    "all_cell_dna_list=first_seen_probe_data['all_cell_dna_list']\n",
    "chr_bin_length_dic=first_seen_probe_data['chr_bin_length_dic']\n",
    "chrom_index_to_ids_dict=first_seen_probe_data['chrom_index_to_ids_dict']\n",
    "adata_obs_df=first_seen_probe_data['adata_obs_df']\n",
    "spaital_dist_suffix=first_seen_probe_data['spaital_dist_suffix']\n",
    "prxoimtiy_score_suffix=first_seen_probe_data['prxoimtiy_score_suffix']\n",
    "\n",
    "\n",
    "\n",
    "store_path=os.path.join(ImputeHiFI_data_dir, version + str(para) +infer_3D_type+loci_pair_type+f\"_{prxoimtiy_score_suffix}.h5ad\")\n",
    "ImputeHiFI.generate_proximity_score_h5ad.generate_proximity_h5ad(Impute_3D_spad_adata,chr_name_list,chr_cell_type_center_value_df,\n",
    "                              chr_bin_length_dic, adata_obs_df, store_path,\n",
    "                              kernerl_number=None)\n",
    "\n",
    "Impute_3D_proxi_adata=sc.read(store_path)"
   ]
  }
 ],
 "metadata": {
  "kernelspec": {
   "display_name": "Python 3 (ipykernel)",
   "language": "python",
   "name": "python3"
  },
  "language_info": {
   "codemirror_mode": {
    "name": "ipython",
    "version": 3
   },
   "file_extension": ".py",
   "mimetype": "text/x-python",
   "name": "python",
   "nbconvert_exporter": "python",
   "pygments_lexer": "ipython3",
   "version": "3.11.5"
  },
  "toc": {
   "base_numbering": 1,
   "nav_menu": {},
   "number_sections": true,
   "sideBar": true,
   "skip_h1_title": false,
   "title_cell": "Table of Contents",
   "title_sidebar": "Contents",
   "toc_cell": false,
   "toc_position": {
    "height": "calc(100% - 180px)",
    "left": "10px",
    "top": "150px",
    "width": "304.8px"
   },
   "toc_section_display": true,
   "toc_window_display": true
  },
  "widgets": {
   "application/vnd.jupyter.widget-state+json": {
    "state": {},
    "version_major": 2,
    "version_minor": 0
   }
  }
 },
 "nbformat": 4,
 "nbformat_minor": 5
}
